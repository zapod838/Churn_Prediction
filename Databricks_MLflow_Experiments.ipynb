{
 "cells": [
  {
   "cell_type": "code",
   "execution_count": 0,
   "metadata": {
    "application/vnd.databricks.v1+cell": {
     "cellMetadata": {
      "byteLimit": 2048000,
      "rowLimit": 10000
     },
     "inputWidgets": {},
     "nuid": "07593682-36a7-4557-a6ed-0615aa151103",
     "showTitle": false,
     "title": ""
    }
   },
   "outputs": [
    {
     "output_type": "stream",
     "name": "stdout",
     "output_type": "stream",
     "text": [
      "Python interpreter will be restarted.\nCollecting imblearn\n  Downloading imblearn-0.0-py2.py3-none-any.whl (1.9 kB)\nCollecting imbalanced-learn\n  Downloading imbalanced_learn-0.12.2-py3-none-any.whl (257 kB)\nRequirement already satisfied: numpy>=1.17.3 in /databricks/python3/lib/python3.9/site-packages (from imbalanced-learn->imblearn) (1.21.5)\nRequirement already satisfied: scipy>=1.5.0 in /databricks/python3/lib/python3.9/site-packages (from imbalanced-learn->imblearn) (1.7.3)\nRequirement already satisfied: scikit-learn>=1.0.2 in /databricks/python3/lib/python3.9/site-packages (from imbalanced-learn->imblearn) (1.0.2)\nRequirement already satisfied: threadpoolctl>=2.0.0 in /databricks/python3/lib/python3.9/site-packages (from imbalanced-learn->imblearn) (2.2.0)\nRequirement already satisfied: joblib>=1.1.1 in /databricks/python3/lib/python3.9/site-packages (from imbalanced-learn->imblearn) (1.1.1)\nInstalling collected packages: imbalanced-learn, imblearn\nSuccessfully installed imbalanced-learn-0.12.2 imblearn-0.0\nPython interpreter will be restarted.\n"
     ]
    }
   ],
   "source": [
    "pip install imblearn\n"
   ]
  },
  {
   "cell_type": "code",
   "execution_count": 0,
   "metadata": {
    "application/vnd.databricks.v1+cell": {
     "cellMetadata": {
      "byteLimit": 2048000,
      "rowLimit": 10000
     },
     "inputWidgets": {},
     "nuid": "ec8924d7-fe7c-4e3c-a5ba-1997a8cd2c20",
     "showTitle": false,
     "title": ""
    }
   },
   "outputs": [
    {
     "output_type": "stream",
     "name": "stdout",
     "output_type": "stream",
     "text": [
      "Python interpreter will be restarted.\nCollecting mlflow\n  Downloading mlflow-2.11.3-py3-none-any.whl (19.7 MB)\nCollecting docker<8,>=4.0.0\n  Downloading docker-7.0.0-py3-none-any.whl (147 kB)\nCollecting gitpython<4,>=3.1.9\n  Downloading GitPython-3.1.43-py3-none-any.whl (207 kB)\nRequirement already satisfied: pyarrow<16,>=4.0.0 in /databricks/python3/lib/python3.9/site-packages (from mlflow) (7.0.0)\nCollecting graphene<4\n  Downloading graphene-3.3-py2.py3-none-any.whl (128 kB)\nCollecting pyyaml<7,>=5.1\n  Downloading PyYAML-6.0.1-cp39-cp39-manylinux_2_17_x86_64.manylinux2014_x86_64.whl (738 kB)\nCollecting cloudpickle<4\n  Downloading cloudpickle-3.0.0-py3-none-any.whl (20 kB)\nRequirement already satisfied: pytz<2025 in /databricks/python3/lib/python3.9/site-packages (from mlflow) (2021.3)\nRequirement already satisfied: protobuf<5,>=3.12.0 in /databricks/python3/lib/python3.9/site-packages (from mlflow) (3.19.4)\nRequirement already satisfied: requests<3,>=2.17.3 in /databricks/python3/lib/python3.9/site-packages (from mlflow) (2.27.1)\nRequirement already satisfied: numpy<2 in /databricks/python3/lib/python3.9/site-packages (from mlflow) (1.21.5)\nCollecting alembic!=1.10.0,<2\n  Downloading alembic-1.13.1-py3-none-any.whl (233 kB)\nRequirement already satisfied: Jinja2<4,>=2.11 in /databricks/python3/lib/python3.9/site-packages (from mlflow) (2.11.3)\nRequirement already satisfied: scipy<2 in /databricks/python3/lib/python3.9/site-packages (from mlflow) (1.7.3)\nRequirement already satisfied: matplotlib<4 in /databricks/python3/lib/python3.9/site-packages (from mlflow) (3.5.1)\nRequirement already satisfied: scikit-learn<2 in /databricks/python3/lib/python3.9/site-packages (from mlflow) (1.0.2)\nCollecting importlib-metadata!=4.7.0,<8,>=3.7.0\n  Downloading importlib_metadata-7.1.0-py3-none-any.whl (24 kB)\nRequirement already satisfied: entrypoints<1 in /databricks/python3/lib/python3.9/site-packages (from mlflow) (0.4)\nCollecting markdown<4,>=3.3\n  Downloading Markdown-3.6-py3-none-any.whl (105 kB)\nRequirement already satisfied: pandas<3 in /databricks/python3/lib/python3.9/site-packages (from mlflow) (1.4.2)\nCollecting querystring-parser<2\n  Downloading querystring_parser-1.2.4-py2.py3-none-any.whl (7.9 kB)\nCollecting gunicorn<22\n  Downloading gunicorn-21.2.0-py3-none-any.whl (80 kB)\nCollecting Flask<4\n  Downloading flask-3.0.3-py3-none-any.whl (101 kB)\nCollecting sqlalchemy<3,>=1.4.0\n  Downloading SQLAlchemy-2.0.29-cp39-cp39-manylinux_2_17_x86_64.manylinux2014_x86_64.whl (3.1 MB)\nRequirement already satisfied: packaging<24 in /databricks/python3/lib/python3.9/site-packages (from mlflow) (21.3)\nCollecting sqlparse<1,>=0.4.0\n  Downloading sqlparse-0.5.0-py3-none-any.whl (43 kB)\nRequirement already satisfied: click<9,>=7.0 in /databricks/python3/lib/python3.9/site-packages (from mlflow) (8.0.4)\nCollecting Mako\n  Downloading Mako-1.3.3-py3-none-any.whl (78 kB)\nRequirement already satisfied: typing-extensions>=4 in /databricks/python3/lib/python3.9/site-packages (from alembic!=1.10.0,<2->mlflow) (4.1.1)\nRequirement already satisfied: urllib3>=1.26.0 in /databricks/python3/lib/python3.9/site-packages (from docker<8,>=4.0.0->mlflow) (1.26.9)\nCollecting Werkzeug>=3.0.0\n  Downloading werkzeug-3.0.2-py3-none-any.whl (226 kB)\nCollecting click<9,>=7.0\n  Downloading click-8.1.7-py3-none-any.whl (97 kB)\nCollecting blinker>=1.6.2\n  Downloading blinker-1.7.0-py3-none-any.whl (13 kB)\nCollecting Jinja2<4,>=2.11\n  Downloading Jinja2-3.1.3-py3-none-any.whl (133 kB)\nCollecting itsdangerous>=2.1.2\n  Downloading itsdangerous-2.1.2-py3-none-any.whl (15 kB)\nCollecting gitdb<5,>=4.0.1\n  Downloading gitdb-4.0.11-py3-none-any.whl (62 kB)\nCollecting smmap<6,>=3.0.1\n  Downloading smmap-5.0.1-py3-none-any.whl (24 kB)\nCollecting aniso8601<10,>=8\n  Downloading aniso8601-9.0.1-py2.py3-none-any.whl (52 kB)\nCollecting graphql-relay<3.3,>=3.1\n  Downloading graphql_relay-3.2.0-py3-none-any.whl (16 kB)\nCollecting graphql-core<3.3,>=3.1\n  Downloading graphql_core-3.2.3-py3-none-any.whl (202 kB)\nCollecting zipp>=0.5\n  Downloading zipp-3.18.1-py3-none-any.whl (8.2 kB)\nRequirement already satisfied: MarkupSafe>=2.0 in /databricks/python3/lib/python3.9/site-packages (from Jinja2<4,>=2.11->mlflow) (2.0.1)\nRequirement already satisfied: python-dateutil>=2.7 in /databricks/python3/lib/python3.9/site-packages (from matplotlib<4->mlflow) (2.8.2)\nRequirement already satisfied: fonttools>=4.22.0 in /databricks/python3/lib/python3.9/site-packages (from matplotlib<4->mlflow) (4.25.0)\nRequirement already satisfied: kiwisolver>=1.0.1 in /databricks/python3/lib/python3.9/site-packages (from matplotlib<4->mlflow) (1.3.2)\nRequirement already satisfied: pyparsing>=2.2.1 in /databricks/python3/lib/python3.9/site-packages (from matplotlib<4->mlflow) (3.0.4)\nRequirement already satisfied: cycler>=0.10 in /databricks/python3/lib/python3.9/site-packages (from matplotlib<4->mlflow) (0.11.0)\nRequirement already satisfied: pillow>=6.2.0 in /databricks/python3/lib/python3.9/site-packages (from matplotlib<4->mlflow) (9.0.1)\nRequirement already satisfied: six>=1.5 in /databricks/python3/lib/python3.9/site-packages (from python-dateutil>=2.7->matplotlib<4->mlflow) (1.16.0)\nRequirement already satisfied: idna<4,>=2.5 in /databricks/python3/lib/python3.9/site-packages (from requests<3,>=2.17.3->mlflow) (3.3)\nRequirement already satisfied: charset-normalizer~=2.0.0 in /databricks/python3/lib/python3.9/site-packages (from requests<3,>=2.17.3->mlflow) (2.0.4)\nRequirement already satisfied: certifi>=2017.4.17 in /databricks/python3/lib/python3.9/site-packages (from requests<3,>=2.17.3->mlflow) (2021.10.8)\nRequirement already satisfied: threadpoolctl>=2.0.0 in /databricks/python3/lib/python3.9/site-packages (from scikit-learn<2->mlflow) (2.2.0)\nRequirement already satisfied: joblib>=0.11 in /databricks/python3/lib/python3.9/site-packages (from scikit-learn<2->mlflow) (1.1.1)\nCollecting greenlet!=0.4.17\n  Downloading greenlet-3.0.3-cp39-cp39-manylinux_2_24_x86_64.manylinux_2_28_x86_64.whl (614 kB)\nCollecting typing-extensions>=4\n  Downloading typing_extensions-4.11.0-py3-none-any.whl (34 kB)\nCollecting MarkupSafe>=2.0\n  Downloading MarkupSafe-2.1.5-cp39-cp39-manylinux_2_17_x86_64.manylinux2014_x86_64.whl (25 kB)\nInstalling collected packages: zipp, typing-extensions, smmap, MarkupSafe, greenlet, graphql-core, Werkzeug, sqlalchemy, Mako, Jinja2, itsdangerous, importlib-metadata, graphql-relay, gitdb, click, blinker, aniso8601, sqlparse, querystring-parser, pyyaml, markdown, gunicorn, graphene, gitpython, Flask, docker, cloudpickle, alembic, mlflow\n  Attempting uninstall: typing-extensions\n    Found existing installation: typing-extensions 4.1.1\n    Not uninstalling typing-extensions at /databricks/python3/lib/python3.9/site-packages, outside environment /local_disk0/.ephemeral_nfs/envs/pythonEnv-ff44738b-46b9-4c79-81ca-dd728ea0c82a\n    Can't uninstall 'typing-extensions'. No files were found to uninstall.\n  Attempting uninstall: MarkupSafe\n    Found existing installation: MarkupSafe 2.0.1\n    Not uninstalling markupsafe at /databricks/python3/lib/python3.9/site-packages, outside environment /local_disk0/.ephemeral_nfs/envs/pythonEnv-ff44738b-46b9-4c79-81ca-dd728ea0c82a\n    Can't uninstall 'MarkupSafe'. No files were found to uninstall.\n  Attempting uninstall: Jinja2\n    Found existing installation: Jinja2 2.11.3\n    Not uninstalling jinja2 at /databricks/python3/lib/python3.9/site-packages, outside environment /local_disk0/.ephemeral_nfs/envs/pythonEnv-ff44738b-46b9-4c79-81ca-dd728ea0c82a\n    Can't uninstall 'Jinja2'. No files were found to uninstall.\n  Attempting uninstall: click\n    Found existing installation: click 8.0.4\n    Not uninstalling click at /databricks/python3/lib/python3.9/site-packages, outside environment /local_disk0/.ephemeral_nfs/envs/pythonEnv-ff44738b-46b9-4c79-81ca-dd728ea0c82a\n    Can't uninstall 'click'. No files were found to uninstall.\nSuccessfully installed Flask-3.0.3 Jinja2-3.1.3 Mako-1.3.3 MarkupSafe-2.1.5 Werkzeug-3.0.2 alembic-1.13.1 aniso8601-9.0.1 blinker-1.7.0 click-8.1.7 cloudpickle-3.0.0 docker-7.0.0 gitdb-4.0.11 gitpython-3.1.43 graphene-3.3 graphql-core-3.2.3 graphql-relay-3.2.0 greenlet-3.0.3 gunicorn-21.2.0 importlib-metadata-7.1.0 itsdangerous-2.1.2 markdown-3.6 mlflow-2.11.3 pyyaml-6.0.1 querystring-parser-1.2.4 smmap-5.0.1 sqlalchemy-2.0.29 sqlparse-0.5.0 typing-extensions-4.11.0 zipp-3.18.1\nPython interpreter will be restarted.\n"
     ]
    }
   ],
   "source": [
    "pip install mlflow"
   ]
  },
  {
   "cell_type": "code",
   "execution_count": 0,
   "metadata": {
    "application/vnd.databricks.v1+cell": {
     "cellMetadata": {
      "byteLimit": 2048000,
      "rowLimit": 10000
     },
     "inputWidgets": {},
     "nuid": "1415a0bc-8c72-4274-aef9-d408ab20b5bc",
     "showTitle": false,
     "title": ""
    }
   },
   "outputs": [
    {
     "output_type": "stream",
     "name": "stdout",
     "output_type": "stream",
     "text": [
      "Python interpreter will be restarted.\nCollecting catboost\n  Downloading catboost-1.2.3-cp39-cp39-manylinux2014_x86_64.whl (98.5 MB)\nRequirement already satisfied: scipy in /databricks/python3/lib/python3.9/site-packages (from catboost) (1.7.3)\nRequirement already satisfied: pandas>=0.24 in /databricks/python3/lib/python3.9/site-packages (from catboost) (1.4.2)\nRequirement already satisfied: plotly in /databricks/python3/lib/python3.9/site-packages (from catboost) (5.6.0)\nRequirement already satisfied: matplotlib in /databricks/python3/lib/python3.9/site-packages (from catboost) (3.5.1)\nRequirement already satisfied: numpy>=1.16.0 in /databricks/python3/lib/python3.9/site-packages (from catboost) (1.21.5)\nCollecting graphviz\n  Downloading graphviz-0.20.3-py3-none-any.whl (47 kB)\nRequirement already satisfied: six in /databricks/python3/lib/python3.9/site-packages (from catboost) (1.16.0)\nRequirement already satisfied: python-dateutil>=2.8.1 in /databricks/python3/lib/python3.9/site-packages (from pandas>=0.24->catboost) (2.8.2)\nRequirement already satisfied: pytz>=2020.1 in /databricks/python3/lib/python3.9/site-packages (from pandas>=0.24->catboost) (2021.3)\nRequirement already satisfied: packaging>=20.0 in /databricks/python3/lib/python3.9/site-packages (from matplotlib->catboost) (21.3)\nRequirement already satisfied: fonttools>=4.22.0 in /databricks/python3/lib/python3.9/site-packages (from matplotlib->catboost) (4.25.0)\nRequirement already satisfied: kiwisolver>=1.0.1 in /databricks/python3/lib/python3.9/site-packages (from matplotlib->catboost) (1.3.2)\nRequirement already satisfied: pyparsing>=2.2.1 in /databricks/python3/lib/python3.9/site-packages (from matplotlib->catboost) (3.0.4)\nRequirement already satisfied: cycler>=0.10 in /databricks/python3/lib/python3.9/site-packages (from matplotlib->catboost) (0.11.0)\nRequirement already satisfied: pillow>=6.2.0 in /databricks/python3/lib/python3.9/site-packages (from matplotlib->catboost) (9.0.1)\nRequirement already satisfied: tenacity>=6.2.0 in /databricks/python3/lib/python3.9/site-packages (from plotly->catboost) (8.0.1)\nInstalling collected packages: graphviz, catboost\nSuccessfully installed catboost-1.2.3 graphviz-0.20.3\nPython interpreter will be restarted.\n"
     ]
    }
   ],
   "source": [
    "pip install catboost"
   ]
  },
  {
   "cell_type": "code",
   "execution_count": 0,
   "metadata": {
    "application/vnd.databricks.v1+cell": {
     "cellMetadata": {
      "byteLimit": 2048000,
      "rowLimit": 10000
     },
     "inputWidgets": {},
     "nuid": "5a63b369-b0ee-4a66-8146-091c571c761a",
     "showTitle": false,
     "title": ""
    }
   },
   "outputs": [
    {
     "output_type": "stream",
     "name": "stdout",
     "output_type": "stream",
     "text": [
      "Python interpreter will be restarted.\nCollecting lightgbm\n  Downloading lightgbm-4.3.0-py3-none-manylinux_2_28_x86_64.whl (3.1 MB)\nRequirement already satisfied: numpy in /databricks/python3/lib/python3.9/site-packages (from lightgbm) (1.21.5)\nRequirement already satisfied: scipy in /databricks/python3/lib/python3.9/site-packages (from lightgbm) (1.7.3)\nInstalling collected packages: lightgbm\nSuccessfully installed lightgbm-4.3.0\nPython interpreter will be restarted.\n"
     ]
    }
   ],
   "source": [
    "pip install lightgbm"
   ]
  },
  {
   "cell_type": "code",
   "execution_count": 0,
   "metadata": {
    "application/vnd.databricks.v1+cell": {
     "cellMetadata": {
      "byteLimit": 2048000,
      "rowLimit": 10000
     },
     "inputWidgets": {},
     "nuid": "c36b187a-86b7-44cb-8929-7bbe99b7966e",
     "showTitle": false,
     "title": ""
    }
   },
   "outputs": [
    {
     "output_type": "stream",
     "name": "stdout",
     "output_type": "stream",
     "text": [
      "Python interpreter will be restarted.\nCollecting xgboost\n  Downloading xgboost-2.0.3-py3-none-manylinux2014_x86_64.whl (297.1 MB)\nRequirement already satisfied: numpy in /databricks/python3/lib/python3.9/site-packages (from xgboost) (1.21.5)\nRequirement already satisfied: scipy in /databricks/python3/lib/python3.9/site-packages (from xgboost) (1.7.3)\nInstalling collected packages: xgboost\nSuccessfully installed xgboost-2.0.3\nPython interpreter will be restarted.\n"
     ]
    }
   ],
   "source": [
    "pip install xgboost"
   ]
  },
  {
   "cell_type": "code",
   "execution_count": 0,
   "metadata": {
    "application/vnd.databricks.v1+cell": {
     "cellMetadata": {
      "byteLimit": 2048000,
      "rowLimit": 10000
     },
     "inputWidgets": {},
     "nuid": "234972d5-239a-4bd7-9e47-d8948de07ce1",
     "showTitle": false,
     "title": ""
    }
   },
   "outputs": [
    {
     "output_type": "stream",
     "name": "stdout",
     "output_type": "stream",
     "text": [
      "Out[1]: [FileInfo(path='dbfs:/FileStore/tables/X_pca.parquet/', name='X_pca.parquet/', size=0, modificationTime=0),\n FileInfo(path='dbfs:/FileStore/tables/data_descriptions.csv', name='data_descriptions.csv', size=2001, modificationTime=1711807190000),\n FileInfo(path='dbfs:/FileStore/tables/prediction_submission.csv', name='prediction_submission.csv', size=1567233, modificationTime=1711807190000),\n FileInfo(path='dbfs:/FileStore/tables/test.csv', name='test.csv', size=15055101, modificationTime=1711807193000),\n FileInfo(path='dbfs:/FileStore/tables/train.csv', name='train.csv', size=43346213, modificationTime=1711807199000),\n FileInfo(path='dbfs:/FileStore/tables/transformed_df.parquet/', name='transformed_df.parquet/', size=0, modificationTime=0),\n FileInfo(path='dbfs:/FileStore/tables/transformed_df_new.parquet/', name='transformed_df_new.parquet/', size=0, modificationTime=0)]"
     ]
    }
   ],
   "source": [
    "dbutils.fs.ls(\"/FileStore/tables/\")"
   ]
  },
  {
   "cell_type": "code",
   "execution_count": 0,
   "metadata": {
    "application/vnd.databricks.v1+cell": {
     "cellMetadata": {
      "byteLimit": 2048000,
      "rowLimit": 10000
     },
     "inputWidgets": {},
     "nuid": "65c4a880-bdbd-4bfd-a99b-7281554de119",
     "showTitle": false,
     "title": ""
    }
   },
   "outputs": [],
   "source": [
    "import pyspark.pandas as ps\n",
    "\n",
    "# Read the file directly into a pandas-on-Spark DataFrame\n",
    "train_spark_df = ps.read_csv(\"/FileStore/tables/train.csv\")\n",
    "test_spark_df = ps.read_csv(\"/FileStore/tables/test.csv\")\n",
    "prediction_spark_df = ps.read_csv(\"/FileStore/tables/prediction_submission.csv\")\n",
    "\n",
    "# If needed, convert to a Pandas DataFrame\n",
    "train_df = train_spark_df.to_pandas()\n",
    "test_df = test_spark_df.to_pandas()\n",
    "prediction_df= prediction_spark_df.to_pandas()"
   ]
  },
  {
   "cell_type": "code",
   "execution_count": 0,
   "metadata": {
    "application/vnd.databricks.v1+cell": {
     "cellMetadata": {
      "byteLimit": 2048000,
      "rowLimit": 10000
     },
     "inputWidgets": {},
     "nuid": "14b8bb05-275a-4c6a-9f3b-f8f1fdbba10a",
     "showTitle": false,
     "title": ""
    }
   },
   "outputs": [
    {
     "output_type": "stream",
     "name": "stdout",
     "output_type": "stream",
     "text": [
      "train_df Shape: (243787, 21)\ntest_df Shape: (104480, 20)\n"
     ]
    }
   ],
   "source": [
    "print('train_df Shape:', train_df.shape)\n",
    "print('test_df Shape:', test_df.shape)"
   ]
  },
  {
   "cell_type": "code",
   "execution_count": 0,
   "metadata": {
    "application/vnd.databricks.v1+cell": {
     "cellMetadata": {
      "byteLimit": 2048000,
      "rowLimit": 10000
     },
     "inputWidgets": {},
     "nuid": "78d20a83-f4c9-492b-b732-3d151e527aab",
     "showTitle": false,
     "title": ""
    },
    "execution": {
     "iopub.execute_input": "2024-03-26T14:01:26.248412Z",
     "iopub.status.busy": "2024-03-26T14:01:26.247939Z",
     "iopub.status.idle": "2024-03-26T14:01:29.335192Z",
     "shell.execute_reply": "2024-03-26T14:01:29.333816Z",
     "shell.execute_reply.started": "2024-03-26T14:01:26.248361Z"
    },
    "trusted": true
   },
   "outputs": [
    {
     "output_type": "display_data",
     "data": {
      "application/vnd.databricks.v1+bamboolib_hint": "{\"pd.DataFrames\": [\"train_df\", \"test_df\", \"prediction_df\"], \"version\": \"0.0.1\"}",
      "text/plain": []
     },
     "metadata": {},
     "output_type": "display_data"
    }
   ],
   "source": [
    "# Import required packages\n",
    "# Data packages\n",
    "import pandas as pd\n",
    "import numpy as np\n",
    "\n",
    "# Machine Learning / Classification packages\n",
    "from sklearn.metrics import roc_auc_score\n",
    "from sklearn.model_selection import train_test_split\n",
    "from sklearn.dummy import DummyClassifier\n",
    "\n",
    "# Visualization Packages\n",
    "from matplotlib import pyplot as plt\n",
    "import seaborn as sns\n",
    "%matplotlib inline"
   ]
  },
  {
   "cell_type": "code",
   "execution_count": 0,
   "metadata": {
    "application/vnd.databricks.v1+cell": {
     "cellMetadata": {
      "byteLimit": 2048000,
      "rowLimit": 10000
     },
     "inputWidgets": {},
     "nuid": "98834ca8-74d4-49fc-9a5b-281a234d954b",
     "showTitle": false,
     "title": ""
    },
    "execution": {
     "iopub.execute_input": "2024-03-26T14:01:29.612266Z",
     "iopub.status.busy": "2024-03-26T14:01:29.611671Z",
     "iopub.status.idle": "2024-03-26T14:01:30.026609Z",
     "shell.execute_reply": "2024-03-26T14:01:30.025305Z",
     "shell.execute_reply.started": "2024-03-26T14:01:29.612232Z"
    },
    "trusted": true
   },
   "outputs": [],
   "source": [
    "from sklearn.decomposition import PCA\n",
    "from sklearn.compose import ColumnTransformer\n",
    "from sklearn.metrics import classification_report\n",
    "from sklearn.ensemble import RandomForestClassifier\n",
    "from sklearn.pipeline import Pipeline, FeatureUnion\n",
    "from imblearn.pipeline import Pipeline as ImbPipeline\n",
    "from sklearn.impute import SimpleImputer\n",
    "from sklearn.preprocessing import StandardScaler, FunctionTransformer, OneHotEncoder, OrdinalEncoder, Normalizer\n"
   ]
  },
  {
   "cell_type": "code",
   "execution_count": 0,
   "metadata": {
    "application/vnd.databricks.v1+cell": {
     "cellMetadata": {
      "byteLimit": 2048000,
      "rowLimit": 10000
     },
     "inputWidgets": {},
     "nuid": "b2da77d4-04a7-438a-9e99-75219bb2134f",
     "showTitle": false,
     "title": ""
    },
    "execution": {
     "iopub.execute_input": "2024-03-26T14:01:34.018642Z",
     "iopub.status.busy": "2024-03-26T14:01:34.018134Z",
     "iopub.status.idle": "2024-03-26T14:01:34.031033Z",
     "shell.execute_reply": "2024-03-26T14:01:34.029637Z",
     "shell.execute_reply.started": "2024-03-26T14:01:34.018599Z"
    },
    "trusted": true
   },
   "outputs": [],
   "source": [
    "from sklearn.base import BaseEstimator, TransformerMixin\n",
    "\n",
    "# Custom transformer for encoding categorical columns\n",
    "class CustomEncoder(BaseEstimator, TransformerMixin):\n",
    "    def __init__(self, categorical_columns, subscription_type_ordering):\n",
    "        self.categorical_columns = categorical_columns\n",
    "        self.subscription_type_ordering = subscription_type_ordering\n",
    "        self.onehot_encoder = OneHotEncoder(sparse=False)\n",
    "        self.encoder = OrdinalEncoder(categories=[subscription_type_ordering])\n",
    "\n",
    "    def fit(self, X, y=None):\n",
    "        # Fit one-hot encoder\n",
    "        self.onehot_encoder.fit(X[self.categorical_columns])\n",
    "        # Fit ordinal encoder\n",
    "        self.encoder.fit(X[['SubscriptionType']])\n",
    "        return self\n",
    "\n",
    "    def transform(self, X):\n",
    "        # One-hot encode the categorical columns\n",
    "        encoded_categorical = self.onehot_encoder.transform(X[self.categorical_columns])\n",
    "        # Convert the categorical encoded data into a DataFrame with column names\n",
    "        encoded_categorical_df = pd.DataFrame(\n",
    "            encoded_categorical,\n",
    "            columns=self.onehot_encoder.get_feature_names_out(),\n",
    "            index=X.index\n",
    "        )\n",
    "        # Encode 'SubscriptionType' using OrdinalEncoder\n",
    "        subscription_type_encoded = self.encoder.transform(X[['SubscriptionType']])\n",
    "        # Convert the encoded 'SubscriptionType' into a DataFrame\n",
    "        subscription_type_encoded_df = pd.DataFrame(\n",
    "            subscription_type_encoded,\n",
    "            columns=['SubscriptionTypeEncoded'],\n",
    "            index=X.index\n",
    "        )\n",
    "        # Drop the original categorical columns and concatenate the one-hot encoded columns\n",
    "        X_encoded  = X.drop(self.categorical_columns + ['SubscriptionType'], axis=1, errors='ignore')\n",
    "        # Check if 'Churn' column exists, if so, pass it through\n",
    "        if 'Churn' in X.columns:\n",
    "            X_encoded['Churn'] = X['Churn']\n",
    "        X_encoded  = pd.concat([X_encoded , encoded_categorical_df, subscription_type_encoded_df], axis=1)\n",
    "        return X_encoded"
   ]
  },
  {
   "cell_type": "code",
   "execution_count": 0,
   "metadata": {
    "application/vnd.databricks.v1+cell": {
     "cellMetadata": {
      "byteLimit": 2048000,
      "rowLimit": 10000
     },
     "inputWidgets": {},
     "nuid": "8d34e798-f719-4ae6-8a1e-e1908c9f4db6",
     "showTitle": false,
     "title": ""
    },
    "execution": {
     "iopub.execute_input": "2024-03-26T14:01:37.395099Z",
     "iopub.status.busy": "2024-03-26T14:01:37.394384Z",
     "iopub.status.idle": "2024-03-26T14:01:37.401716Z",
     "shell.execute_reply": "2024-03-26T14:01:37.400711Z",
     "shell.execute_reply.started": "2024-03-26T14:01:37.395064Z"
    },
    "trusted": true
   },
   "outputs": [],
   "source": [
    "# List of categorical columns to be one-hot encoded\n",
    "categorical_columns = [\n",
    "    'PaymentMethod', 'PaperlessBilling',\n",
    "    'ContentType', 'MultiDeviceAccess', 'DeviceRegistered',\n",
    "    'GenrePreference', 'Gender', 'ParentalControl', 'SubtitlesEnabled'\n",
    "]\n",
    "\n",
    "# List of numerical columns to be normalized\n",
    "numerical_columns = [\n",
    "    'AccountAge', 'MonthlyCharges', 'TotalCharges',\n",
    "    'ViewingHoursPerWeek', 'AverageViewingDuration',\n",
    "    'ContentDownloadsPerMonth', 'UserRating', 'SupportTicketsPerMonth',\n",
    "    'WatchlistSize'\n",
    "]\n",
    "\n",
    "    \n",
    "# Define the order of the categories\n",
    "subscription_type_ordering = ['Basic', 'Standard', 'Premium']\n",
    "\n",
    "# Define the pipeline\n",
    "categorical_transformer = Pipeline(steps=[\n",
    "    ('encoder', CustomEncoder(categorical_columns, subscription_type_ordering))\n",
    "])\n",
    "# Define the pipeline for numerical columns\n",
    "numerical_transformer = Pipeline(steps=[\n",
    "    ('normalizer', Normalizer())\n",
    "])\n",
    "\n",
    "# Combine categorical and numerical transformers\n",
    "preprocessor = ColumnTransformer(\n",
    "    transformers=[\n",
    "        ('num', numerical_transformer, numerical_columns),\n",
    "        ('cat', categorical_transformer, categorical_columns + ['SubscriptionType'])\n",
    "])"
   ]
  },
  {
   "cell_type": "code",
   "execution_count": 0,
   "metadata": {
    "application/vnd.databricks.v1+cell": {
     "cellMetadata": {
      "byteLimit": 2048000,
      "rowLimit": 10000
     },
     "inputWidgets": {},
     "nuid": "45cf8673-5a4b-4f58-ab94-b5d826a2e06e",
     "showTitle": false,
     "title": ""
    },
    "execution": {
     "iopub.execute_input": "2024-03-26T14:01:41.164709Z",
     "iopub.status.busy": "2024-03-26T14:01:41.163839Z",
     "iopub.status.idle": "2024-03-26T14:01:41.188826Z",
     "shell.execute_reply": "2024-03-26T14:01:41.187485Z",
     "shell.execute_reply.started": "2024-03-26T14:01:41.164667Z"
    },
    "trusted": true
   },
   "outputs": [
    {
     "output_type": "display_data",
     "data": {
      "text/html": [
       "<style>#sk-a4fa4b51-c1f5-407c-9471-927f2131bc3f {color: black;background-color: white;}#sk-a4fa4b51-c1f5-407c-9471-927f2131bc3f pre{padding: 0;}#sk-a4fa4b51-c1f5-407c-9471-927f2131bc3f div.sk-toggleable {background-color: white;}#sk-a4fa4b51-c1f5-407c-9471-927f2131bc3f label.sk-toggleable__label {cursor: pointer;display: block;width: 100%;margin-bottom: 0;padding: 0.3em;box-sizing: border-box;text-align: center;}#sk-a4fa4b51-c1f5-407c-9471-927f2131bc3f label.sk-toggleable__label-arrow:before {content: \"▸\";float: left;margin-right: 0.25em;color: #696969;}#sk-a4fa4b51-c1f5-407c-9471-927f2131bc3f label.sk-toggleable__label-arrow:hover:before {color: black;}#sk-a4fa4b51-c1f5-407c-9471-927f2131bc3f div.sk-estimator:hover label.sk-toggleable__label-arrow:before {color: black;}#sk-a4fa4b51-c1f5-407c-9471-927f2131bc3f div.sk-toggleable__content {max-height: 0;max-width: 0;overflow: hidden;text-align: left;background-color: #f0f8ff;}#sk-a4fa4b51-c1f5-407c-9471-927f2131bc3f div.sk-toggleable__content pre {margin: 0.2em;color: black;border-radius: 0.25em;background-color: #f0f8ff;}#sk-a4fa4b51-c1f5-407c-9471-927f2131bc3f input.sk-toggleable__control:checked~div.sk-toggleable__content {max-height: 200px;max-width: 100%;overflow: auto;}#sk-a4fa4b51-c1f5-407c-9471-927f2131bc3f input.sk-toggleable__control:checked~label.sk-toggleable__label-arrow:before {content: \"▾\";}#sk-a4fa4b51-c1f5-407c-9471-927f2131bc3f div.sk-estimator input.sk-toggleable__control:checked~label.sk-toggleable__label {background-color: #d4ebff;}#sk-a4fa4b51-c1f5-407c-9471-927f2131bc3f div.sk-label input.sk-toggleable__control:checked~label.sk-toggleable__label {background-color: #d4ebff;}#sk-a4fa4b51-c1f5-407c-9471-927f2131bc3f input.sk-hidden--visually {border: 0;clip: rect(1px 1px 1px 1px);clip: rect(1px, 1px, 1px, 1px);height: 1px;margin: -1px;overflow: hidden;padding: 0;position: absolute;width: 1px;}#sk-a4fa4b51-c1f5-407c-9471-927f2131bc3f div.sk-estimator {font-family: monospace;background-color: #f0f8ff;border: 1px dotted black;border-radius: 0.25em;box-sizing: border-box;margin-bottom: 0.5em;}#sk-a4fa4b51-c1f5-407c-9471-927f2131bc3f div.sk-estimator:hover {background-color: #d4ebff;}#sk-a4fa4b51-c1f5-407c-9471-927f2131bc3f div.sk-parallel-item::after {content: \"\";width: 100%;border-bottom: 1px solid gray;flex-grow: 1;}#sk-a4fa4b51-c1f5-407c-9471-927f2131bc3f div.sk-label:hover label.sk-toggleable__label {background-color: #d4ebff;}#sk-a4fa4b51-c1f5-407c-9471-927f2131bc3f div.sk-serial::before {content: \"\";position: absolute;border-left: 1px solid gray;box-sizing: border-box;top: 2em;bottom: 0;left: 50%;}#sk-a4fa4b51-c1f5-407c-9471-927f2131bc3f div.sk-serial {display: flex;flex-direction: column;align-items: center;background-color: white;padding-right: 0.2em;padding-left: 0.2em;}#sk-a4fa4b51-c1f5-407c-9471-927f2131bc3f div.sk-item {z-index: 1;}#sk-a4fa4b51-c1f5-407c-9471-927f2131bc3f div.sk-parallel {display: flex;align-items: stretch;justify-content: center;background-color: white;}#sk-a4fa4b51-c1f5-407c-9471-927f2131bc3f div.sk-parallel::before {content: \"\";position: absolute;border-left: 1px solid gray;box-sizing: border-box;top: 2em;bottom: 0;left: 50%;}#sk-a4fa4b51-c1f5-407c-9471-927f2131bc3f div.sk-parallel-item {display: flex;flex-direction: column;position: relative;background-color: white;}#sk-a4fa4b51-c1f5-407c-9471-927f2131bc3f div.sk-parallel-item:first-child::after {align-self: flex-end;width: 50%;}#sk-a4fa4b51-c1f5-407c-9471-927f2131bc3f div.sk-parallel-item:last-child::after {align-self: flex-start;width: 50%;}#sk-a4fa4b51-c1f5-407c-9471-927f2131bc3f div.sk-parallel-item:only-child::after {width: 0;}#sk-a4fa4b51-c1f5-407c-9471-927f2131bc3f div.sk-dashed-wrapped {border: 1px dashed gray;margin: 0 0.4em 0.5em 0.4em;box-sizing: border-box;padding-bottom: 0.4em;background-color: white;position: relative;}#sk-a4fa4b51-c1f5-407c-9471-927f2131bc3f div.sk-label label {font-family: monospace;font-weight: bold;background-color: white;display: inline-block;line-height: 1.2em;}#sk-a4fa4b51-c1f5-407c-9471-927f2131bc3f div.sk-label-container {position: relative;z-index: 2;text-align: center;}#sk-a4fa4b51-c1f5-407c-9471-927f2131bc3f div.sk-container {/* jupyter's `normalize.less` sets `[hidden] { display: none; }` but bootstrap.min.css set `[hidden] { display: none !important; }` so we also need the `!important` here to be able to override the default hidden behavior on the sphinx rendered scikit-learn.org. See: https://github.com/scikit-learn/scikit-learn/issues/21755 */display: inline-block !important;position: relative;}#sk-a4fa4b51-c1f5-407c-9471-927f2131bc3f div.sk-text-repr-fallback {display: none;}</style><div id=\"sk-a4fa4b51-c1f5-407c-9471-927f2131bc3f\" class=\"sk-top-container\"><div class=\"sk-text-repr-fallback\"><pre>ColumnTransformer(transformers=[(&#x27;num&#x27;,\n",
       "                                 Pipeline(steps=[(&#x27;normalizer&#x27;, Normalizer())]),\n",
       "                                 [&#x27;AccountAge&#x27;, &#x27;MonthlyCharges&#x27;,\n",
       "                                  &#x27;TotalCharges&#x27;, &#x27;ViewingHoursPerWeek&#x27;,\n",
       "                                  &#x27;AverageViewingDuration&#x27;,\n",
       "                                  &#x27;ContentDownloadsPerMonth&#x27;, &#x27;UserRating&#x27;,\n",
       "                                  &#x27;SupportTicketsPerMonth&#x27;, &#x27;WatchlistSize&#x27;]),\n",
       "                                (&#x27;cat&#x27;,\n",
       "                                 Pipeline(steps=[(&#x27;encoder&#x27;,\n",
       "                                                  CustomEncoder(categorical_columns=[&#x27;PaymentMethod&#x27;,\n",
       "                                                                                     &#x27;Pap...\n",
       "                                                                                     &#x27;ContentType&#x27;,\n",
       "                                                                                     &#x27;MultiDeviceAccess&#x27;,\n",
       "                                                                                     &#x27;DeviceRegistered&#x27;,\n",
       "                                                                                     &#x27;GenrePreference&#x27;,\n",
       "                                                                                     &#x27;Gender&#x27;,\n",
       "                                                                                     &#x27;ParentalControl&#x27;,\n",
       "                                                                                     &#x27;SubtitlesEnabled&#x27;],\n",
       "                                                                subscription_type_ordering=[&#x27;Basic&#x27;,\n",
       "                                                                                            &#x27;Standard&#x27;,\n",
       "                                                                                            &#x27;Premium&#x27;]))]),\n",
       "                                 [&#x27;PaymentMethod&#x27;, &#x27;PaperlessBilling&#x27;,\n",
       "                                  &#x27;ContentType&#x27;, &#x27;MultiDeviceAccess&#x27;,\n",
       "                                  &#x27;DeviceRegistered&#x27;, &#x27;GenrePreference&#x27;,\n",
       "                                  &#x27;Gender&#x27;, &#x27;ParentalControl&#x27;,\n",
       "                                  &#x27;SubtitlesEnabled&#x27;, &#x27;SubscriptionType&#x27;])])</pre><b>Please rerun this cell to show the HTML repr or trust the notebook.</b></div><div class=\"sk-container\" hidden><div class=\"sk-item sk-dashed-wrapped\"><div class=\"sk-label-container\"><div class=\"sk-label sk-toggleable\"><input class=\"sk-toggleable__control sk-hidden--visually\" id=\"92cb2286-18eb-4eb8-bc2b-fee8c719060f\" type=\"checkbox\" ><label for=\"92cb2286-18eb-4eb8-bc2b-fee8c719060f\" class=\"sk-toggleable__label sk-toggleable__label-arrow\">ColumnTransformer</label><div class=\"sk-toggleable__content\"><pre>ColumnTransformer(transformers=[(&#x27;num&#x27;,\n",
       "                                 Pipeline(steps=[(&#x27;normalizer&#x27;, Normalizer())]),\n",
       "                                 [&#x27;AccountAge&#x27;, &#x27;MonthlyCharges&#x27;,\n",
       "                                  &#x27;TotalCharges&#x27;, &#x27;ViewingHoursPerWeek&#x27;,\n",
       "                                  &#x27;AverageViewingDuration&#x27;,\n",
       "                                  &#x27;ContentDownloadsPerMonth&#x27;, &#x27;UserRating&#x27;,\n",
       "                                  &#x27;SupportTicketsPerMonth&#x27;, &#x27;WatchlistSize&#x27;]),\n",
       "                                (&#x27;cat&#x27;,\n",
       "                                 Pipeline(steps=[(&#x27;encoder&#x27;,\n",
       "                                                  CustomEncoder(categorical_columns=[&#x27;PaymentMethod&#x27;,\n",
       "                                                                                     &#x27;Pap...\n",
       "                                                                                     &#x27;ContentType&#x27;,\n",
       "                                                                                     &#x27;MultiDeviceAccess&#x27;,\n",
       "                                                                                     &#x27;DeviceRegistered&#x27;,\n",
       "                                                                                     &#x27;GenrePreference&#x27;,\n",
       "                                                                                     &#x27;Gender&#x27;,\n",
       "                                                                                     &#x27;ParentalControl&#x27;,\n",
       "                                                                                     &#x27;SubtitlesEnabled&#x27;],\n",
       "                                                                subscription_type_ordering=[&#x27;Basic&#x27;,\n",
       "                                                                                            &#x27;Standard&#x27;,\n",
       "                                                                                            &#x27;Premium&#x27;]))]),\n",
       "                                 [&#x27;PaymentMethod&#x27;, &#x27;PaperlessBilling&#x27;,\n",
       "                                  &#x27;ContentType&#x27;, &#x27;MultiDeviceAccess&#x27;,\n",
       "                                  &#x27;DeviceRegistered&#x27;, &#x27;GenrePreference&#x27;,\n",
       "                                  &#x27;Gender&#x27;, &#x27;ParentalControl&#x27;,\n",
       "                                  &#x27;SubtitlesEnabled&#x27;, &#x27;SubscriptionType&#x27;])])</pre></div></div></div><div class=\"sk-parallel\"><div class=\"sk-parallel-item\"><div class=\"sk-item\"><div class=\"sk-label-container\"><div class=\"sk-label sk-toggleable\"><input class=\"sk-toggleable__control sk-hidden--visually\" id=\"b586006d-4f6b-4328-a030-726b852114da\" type=\"checkbox\" ><label for=\"b586006d-4f6b-4328-a030-726b852114da\" class=\"sk-toggleable__label sk-toggleable__label-arrow\">num</label><div class=\"sk-toggleable__content\"><pre>[&#x27;AccountAge&#x27;, &#x27;MonthlyCharges&#x27;, &#x27;TotalCharges&#x27;, &#x27;ViewingHoursPerWeek&#x27;, &#x27;AverageViewingDuration&#x27;, &#x27;ContentDownloadsPerMonth&#x27;, &#x27;UserRating&#x27;, &#x27;SupportTicketsPerMonth&#x27;, &#x27;WatchlistSize&#x27;]</pre></div></div></div><div class=\"sk-serial\"><div class=\"sk-item\"><div class=\"sk-serial\"><div class=\"sk-item\"><div class=\"sk-estimator sk-toggleable\"><input class=\"sk-toggleable__control sk-hidden--visually\" id=\"62caf706-8378-4c15-aaca-0ba345e50271\" type=\"checkbox\" ><label for=\"62caf706-8378-4c15-aaca-0ba345e50271\" class=\"sk-toggleable__label sk-toggleable__label-arrow\">Normalizer</label><div class=\"sk-toggleable__content\"><pre>Normalizer()</pre></div></div></div></div></div></div></div></div><div class=\"sk-parallel-item\"><div class=\"sk-item\"><div class=\"sk-label-container\"><div class=\"sk-label sk-toggleable\"><input class=\"sk-toggleable__control sk-hidden--visually\" id=\"84c76047-bc6b-4778-9a81-c6f7a5c93be0\" type=\"checkbox\" ><label for=\"84c76047-bc6b-4778-9a81-c6f7a5c93be0\" class=\"sk-toggleable__label sk-toggleable__label-arrow\">cat</label><div class=\"sk-toggleable__content\"><pre>[&#x27;PaymentMethod&#x27;, &#x27;PaperlessBilling&#x27;, &#x27;ContentType&#x27;, &#x27;MultiDeviceAccess&#x27;, &#x27;DeviceRegistered&#x27;, &#x27;GenrePreference&#x27;, &#x27;Gender&#x27;, &#x27;ParentalControl&#x27;, &#x27;SubtitlesEnabled&#x27;, &#x27;SubscriptionType&#x27;]</pre></div></div></div><div class=\"sk-serial\"><div class=\"sk-item\"><div class=\"sk-serial\"><div class=\"sk-item\"><div class=\"sk-estimator sk-toggleable\"><input class=\"sk-toggleable__control sk-hidden--visually\" id=\"0dc469bc-0f51-4b86-a337-6563264e5d97\" type=\"checkbox\" ><label for=\"0dc469bc-0f51-4b86-a337-6563264e5d97\" class=\"sk-toggleable__label sk-toggleable__label-arrow\">CustomEncoder</label><div class=\"sk-toggleable__content\"><pre>CustomEncoder(categorical_columns=[&#x27;PaymentMethod&#x27;, &#x27;PaperlessBilling&#x27;,\n",
       "                                   &#x27;ContentType&#x27;, &#x27;MultiDeviceAccess&#x27;,\n",
       "                                   &#x27;DeviceRegistered&#x27;, &#x27;GenrePreference&#x27;,\n",
       "                                   &#x27;Gender&#x27;, &#x27;ParentalControl&#x27;,\n",
       "                                   &#x27;SubtitlesEnabled&#x27;],\n",
       "              subscription_type_ordering=[&#x27;Basic&#x27;, &#x27;Standard&#x27;, &#x27;Premium&#x27;])</pre></div></div></div></div></div></div></div></div></div></div></div></div>"
      ]
     },
     "metadata": {
      "application/vnd.databricks.v1+output": {
       "addedWidgets": {},
       "arguments": {},
       "data": "<style>#sk-a4fa4b51-c1f5-407c-9471-927f2131bc3f {color: black;background-color: white;}#sk-a4fa4b51-c1f5-407c-9471-927f2131bc3f pre{padding: 0;}#sk-a4fa4b51-c1f5-407c-9471-927f2131bc3f div.sk-toggleable {background-color: white;}#sk-a4fa4b51-c1f5-407c-9471-927f2131bc3f label.sk-toggleable__label {cursor: pointer;display: block;width: 100%;margin-bottom: 0;padding: 0.3em;box-sizing: border-box;text-align: center;}#sk-a4fa4b51-c1f5-407c-9471-927f2131bc3f label.sk-toggleable__label-arrow:before {content: \"▸\";float: left;margin-right: 0.25em;color: #696969;}#sk-a4fa4b51-c1f5-407c-9471-927f2131bc3f label.sk-toggleable__label-arrow:hover:before {color: black;}#sk-a4fa4b51-c1f5-407c-9471-927f2131bc3f div.sk-estimator:hover label.sk-toggleable__label-arrow:before {color: black;}#sk-a4fa4b51-c1f5-407c-9471-927f2131bc3f div.sk-toggleable__content {max-height: 0;max-width: 0;overflow: hidden;text-align: left;background-color: #f0f8ff;}#sk-a4fa4b51-c1f5-407c-9471-927f2131bc3f div.sk-toggleable__content pre {margin: 0.2em;color: black;border-radius: 0.25em;background-color: #f0f8ff;}#sk-a4fa4b51-c1f5-407c-9471-927f2131bc3f input.sk-toggleable__control:checked~div.sk-toggleable__content {max-height: 200px;max-width: 100%;overflow: auto;}#sk-a4fa4b51-c1f5-407c-9471-927f2131bc3f input.sk-toggleable__control:checked~label.sk-toggleable__label-arrow:before {content: \"▾\";}#sk-a4fa4b51-c1f5-407c-9471-927f2131bc3f div.sk-estimator input.sk-toggleable__control:checked~label.sk-toggleable__label {background-color: #d4ebff;}#sk-a4fa4b51-c1f5-407c-9471-927f2131bc3f div.sk-label input.sk-toggleable__control:checked~label.sk-toggleable__label {background-color: #d4ebff;}#sk-a4fa4b51-c1f5-407c-9471-927f2131bc3f input.sk-hidden--visually {border: 0;clip: rect(1px 1px 1px 1px);clip: rect(1px, 1px, 1px, 1px);height: 1px;margin: -1px;overflow: hidden;padding: 0;position: absolute;width: 1px;}#sk-a4fa4b51-c1f5-407c-9471-927f2131bc3f div.sk-estimator {font-family: monospace;background-color: #f0f8ff;border: 1px dotted black;border-radius: 0.25em;box-sizing: border-box;margin-bottom: 0.5em;}#sk-a4fa4b51-c1f5-407c-9471-927f2131bc3f div.sk-estimator:hover {background-color: #d4ebff;}#sk-a4fa4b51-c1f5-407c-9471-927f2131bc3f div.sk-parallel-item::after {content: \"\";width: 100%;border-bottom: 1px solid gray;flex-grow: 1;}#sk-a4fa4b51-c1f5-407c-9471-927f2131bc3f div.sk-label:hover label.sk-toggleable__label {background-color: #d4ebff;}#sk-a4fa4b51-c1f5-407c-9471-927f2131bc3f div.sk-serial::before {content: \"\";position: absolute;border-left: 1px solid gray;box-sizing: border-box;top: 2em;bottom: 0;left: 50%;}#sk-a4fa4b51-c1f5-407c-9471-927f2131bc3f div.sk-serial {display: flex;flex-direction: column;align-items: center;background-color: white;padding-right: 0.2em;padding-left: 0.2em;}#sk-a4fa4b51-c1f5-407c-9471-927f2131bc3f div.sk-item {z-index: 1;}#sk-a4fa4b51-c1f5-407c-9471-927f2131bc3f div.sk-parallel {display: flex;align-items: stretch;justify-content: center;background-color: white;}#sk-a4fa4b51-c1f5-407c-9471-927f2131bc3f div.sk-parallel::before {content: \"\";position: absolute;border-left: 1px solid gray;box-sizing: border-box;top: 2em;bottom: 0;left: 50%;}#sk-a4fa4b51-c1f5-407c-9471-927f2131bc3f div.sk-parallel-item {display: flex;flex-direction: column;position: relative;background-color: white;}#sk-a4fa4b51-c1f5-407c-9471-927f2131bc3f div.sk-parallel-item:first-child::after {align-self: flex-end;width: 50%;}#sk-a4fa4b51-c1f5-407c-9471-927f2131bc3f div.sk-parallel-item:last-child::after {align-self: flex-start;width: 50%;}#sk-a4fa4b51-c1f5-407c-9471-927f2131bc3f div.sk-parallel-item:only-child::after {width: 0;}#sk-a4fa4b51-c1f5-407c-9471-927f2131bc3f div.sk-dashed-wrapped {border: 1px dashed gray;margin: 0 0.4em 0.5em 0.4em;box-sizing: border-box;padding-bottom: 0.4em;background-color: white;position: relative;}#sk-a4fa4b51-c1f5-407c-9471-927f2131bc3f div.sk-label label {font-family: monospace;font-weight: bold;background-color: white;display: inline-block;line-height: 1.2em;}#sk-a4fa4b51-c1f5-407c-9471-927f2131bc3f div.sk-label-container {position: relative;z-index: 2;text-align: center;}#sk-a4fa4b51-c1f5-407c-9471-927f2131bc3f div.sk-container {/* jupyter's `normalize.less` sets `[hidden] { display: none; }` but bootstrap.min.css set `[hidden] { display: none !important; }` so we also need the `!important` here to be able to override the default hidden behavior on the sphinx rendered scikit-learn.org. See: https://github.com/scikit-learn/scikit-learn/issues/21755 */display: inline-block !important;position: relative;}#sk-a4fa4b51-c1f5-407c-9471-927f2131bc3f div.sk-text-repr-fallback {display: none;}</style><div id=\"sk-a4fa4b51-c1f5-407c-9471-927f2131bc3f\" class=\"sk-top-container\"><div class=\"sk-text-repr-fallback\"><pre>ColumnTransformer(transformers=[(&#x27;num&#x27;,\n                                 Pipeline(steps=[(&#x27;normalizer&#x27;, Normalizer())]),\n                                 [&#x27;AccountAge&#x27;, &#x27;MonthlyCharges&#x27;,\n                                  &#x27;TotalCharges&#x27;, &#x27;ViewingHoursPerWeek&#x27;,\n                                  &#x27;AverageViewingDuration&#x27;,\n                                  &#x27;ContentDownloadsPerMonth&#x27;, &#x27;UserRating&#x27;,\n                                  &#x27;SupportTicketsPerMonth&#x27;, &#x27;WatchlistSize&#x27;]),\n                                (&#x27;cat&#x27;,\n                                 Pipeline(steps=[(&#x27;encoder&#x27;,\n                                                  CustomEncoder(categorical_columns=[&#x27;PaymentMethod&#x27;,\n                                                                                     &#x27;Pap...\n                                                                                     &#x27;ContentType&#x27;,\n                                                                                     &#x27;MultiDeviceAccess&#x27;,\n                                                                                     &#x27;DeviceRegistered&#x27;,\n                                                                                     &#x27;GenrePreference&#x27;,\n                                                                                     &#x27;Gender&#x27;,\n                                                                                     &#x27;ParentalControl&#x27;,\n                                                                                     &#x27;SubtitlesEnabled&#x27;],\n                                                                subscription_type_ordering=[&#x27;Basic&#x27;,\n                                                                                            &#x27;Standard&#x27;,\n                                                                                            &#x27;Premium&#x27;]))]),\n                                 [&#x27;PaymentMethod&#x27;, &#x27;PaperlessBilling&#x27;,\n                                  &#x27;ContentType&#x27;, &#x27;MultiDeviceAccess&#x27;,\n                                  &#x27;DeviceRegistered&#x27;, &#x27;GenrePreference&#x27;,\n                                  &#x27;Gender&#x27;, &#x27;ParentalControl&#x27;,\n                                  &#x27;SubtitlesEnabled&#x27;, &#x27;SubscriptionType&#x27;])])</pre><b>Please rerun this cell to show the HTML repr or trust the notebook.</b></div><div class=\"sk-container\" hidden><div class=\"sk-item sk-dashed-wrapped\"><div class=\"sk-label-container\"><div class=\"sk-label sk-toggleable\"><input class=\"sk-toggleable__control sk-hidden--visually\" id=\"92cb2286-18eb-4eb8-bc2b-fee8c719060f\" type=\"checkbox\" ><label for=\"92cb2286-18eb-4eb8-bc2b-fee8c719060f\" class=\"sk-toggleable__label sk-toggleable__label-arrow\">ColumnTransformer</label><div class=\"sk-toggleable__content\"><pre>ColumnTransformer(transformers=[(&#x27;num&#x27;,\n                                 Pipeline(steps=[(&#x27;normalizer&#x27;, Normalizer())]),\n                                 [&#x27;AccountAge&#x27;, &#x27;MonthlyCharges&#x27;,\n                                  &#x27;TotalCharges&#x27;, &#x27;ViewingHoursPerWeek&#x27;,\n                                  &#x27;AverageViewingDuration&#x27;,\n                                  &#x27;ContentDownloadsPerMonth&#x27;, &#x27;UserRating&#x27;,\n                                  &#x27;SupportTicketsPerMonth&#x27;, &#x27;WatchlistSize&#x27;]),\n                                (&#x27;cat&#x27;,\n                                 Pipeline(steps=[(&#x27;encoder&#x27;,\n                                                  CustomEncoder(categorical_columns=[&#x27;PaymentMethod&#x27;,\n                                                                                     &#x27;Pap...\n                                                                                     &#x27;ContentType&#x27;,\n                                                                                     &#x27;MultiDeviceAccess&#x27;,\n                                                                                     &#x27;DeviceRegistered&#x27;,\n                                                                                     &#x27;GenrePreference&#x27;,\n                                                                                     &#x27;Gender&#x27;,\n                                                                                     &#x27;ParentalControl&#x27;,\n                                                                                     &#x27;SubtitlesEnabled&#x27;],\n                                                                subscription_type_ordering=[&#x27;Basic&#x27;,\n                                                                                            &#x27;Standard&#x27;,\n                                                                                            &#x27;Premium&#x27;]))]),\n                                 [&#x27;PaymentMethod&#x27;, &#x27;PaperlessBilling&#x27;,\n                                  &#x27;ContentType&#x27;, &#x27;MultiDeviceAccess&#x27;,\n                                  &#x27;DeviceRegistered&#x27;, &#x27;GenrePreference&#x27;,\n                                  &#x27;Gender&#x27;, &#x27;ParentalControl&#x27;,\n                                  &#x27;SubtitlesEnabled&#x27;, &#x27;SubscriptionType&#x27;])])</pre></div></div></div><div class=\"sk-parallel\"><div class=\"sk-parallel-item\"><div class=\"sk-item\"><div class=\"sk-label-container\"><div class=\"sk-label sk-toggleable\"><input class=\"sk-toggleable__control sk-hidden--visually\" id=\"b586006d-4f6b-4328-a030-726b852114da\" type=\"checkbox\" ><label for=\"b586006d-4f6b-4328-a030-726b852114da\" class=\"sk-toggleable__label sk-toggleable__label-arrow\">num</label><div class=\"sk-toggleable__content\"><pre>[&#x27;AccountAge&#x27;, &#x27;MonthlyCharges&#x27;, &#x27;TotalCharges&#x27;, &#x27;ViewingHoursPerWeek&#x27;, &#x27;AverageViewingDuration&#x27;, &#x27;ContentDownloadsPerMonth&#x27;, &#x27;UserRating&#x27;, &#x27;SupportTicketsPerMonth&#x27;, &#x27;WatchlistSize&#x27;]</pre></div></div></div><div class=\"sk-serial\"><div class=\"sk-item\"><div class=\"sk-serial\"><div class=\"sk-item\"><div class=\"sk-estimator sk-toggleable\"><input class=\"sk-toggleable__control sk-hidden--visually\" id=\"62caf706-8378-4c15-aaca-0ba345e50271\" type=\"checkbox\" ><label for=\"62caf706-8378-4c15-aaca-0ba345e50271\" class=\"sk-toggleable__label sk-toggleable__label-arrow\">Normalizer</label><div class=\"sk-toggleable__content\"><pre>Normalizer()</pre></div></div></div></div></div></div></div></div><div class=\"sk-parallel-item\"><div class=\"sk-item\"><div class=\"sk-label-container\"><div class=\"sk-label sk-toggleable\"><input class=\"sk-toggleable__control sk-hidden--visually\" id=\"84c76047-bc6b-4778-9a81-c6f7a5c93be0\" type=\"checkbox\" ><label for=\"84c76047-bc6b-4778-9a81-c6f7a5c93be0\" class=\"sk-toggleable__label sk-toggleable__label-arrow\">cat</label><div class=\"sk-toggleable__content\"><pre>[&#x27;PaymentMethod&#x27;, &#x27;PaperlessBilling&#x27;, &#x27;ContentType&#x27;, &#x27;MultiDeviceAccess&#x27;, &#x27;DeviceRegistered&#x27;, &#x27;GenrePreference&#x27;, &#x27;Gender&#x27;, &#x27;ParentalControl&#x27;, &#x27;SubtitlesEnabled&#x27;, &#x27;SubscriptionType&#x27;]</pre></div></div></div><div class=\"sk-serial\"><div class=\"sk-item\"><div class=\"sk-serial\"><div class=\"sk-item\"><div class=\"sk-estimator sk-toggleable\"><input class=\"sk-toggleable__control sk-hidden--visually\" id=\"0dc469bc-0f51-4b86-a337-6563264e5d97\" type=\"checkbox\" ><label for=\"0dc469bc-0f51-4b86-a337-6563264e5d97\" class=\"sk-toggleable__label sk-toggleable__label-arrow\">CustomEncoder</label><div class=\"sk-toggleable__content\"><pre>CustomEncoder(categorical_columns=[&#x27;PaymentMethod&#x27;, &#x27;PaperlessBilling&#x27;,\n                                   &#x27;ContentType&#x27;, &#x27;MultiDeviceAccess&#x27;,\n                                   &#x27;DeviceRegistered&#x27;, &#x27;GenrePreference&#x27;,\n                                   &#x27;Gender&#x27;, &#x27;ParentalControl&#x27;,\n                                   &#x27;SubtitlesEnabled&#x27;],\n              subscription_type_ordering=[&#x27;Basic&#x27;, &#x27;Standard&#x27;, &#x27;Premium&#x27;])</pre></div></div></div></div></div></div></div></div></div></div></div></div>",
       "datasetInfos": [],
       "metadata": {},
       "removedWidgets": [],
       "textData": null,
       "type": "htmlSandbox"
      }
     },
     "output_type": "display_data"
    }
   ],
   "source": [
    "from sklearn import set_config\n",
    "set_config(display='diagram')\n",
    "\n",
    "preprocessor"
   ]
  },
  {
   "cell_type": "code",
   "execution_count": 0,
   "metadata": {
    "application/vnd.databricks.v1+cell": {
     "cellMetadata": {
      "byteLimit": 2048000,
      "rowLimit": 10000
     },
     "inputWidgets": {},
     "nuid": "9fbed59b-ae32-424e-904e-a342fd2d7840",
     "showTitle": false,
     "title": ""
    },
    "execution": {
     "iopub.execute_input": "2024-03-26T14:01:44.011058Z",
     "iopub.status.busy": "2024-03-26T14:01:44.010622Z",
     "iopub.status.idle": "2024-03-26T14:01:44.068268Z",
     "shell.execute_reply": "2024-03-26T14:01:44.066924Z",
     "shell.execute_reply.started": "2024-03-26T14:01:44.011026Z"
    },
    "trusted": true
   },
   "outputs": [],
   "source": [
    "# Assuming that you have train_df and test_df already defined and separated\n",
    "# Train data - features and target\n",
    "X_train = train_df.drop('Churn', axis=1)\n",
    "y_train = train_df['Churn']"
   ]
  },
  {
   "cell_type": "code",
   "execution_count": 0,
   "metadata": {
    "application/vnd.databricks.v1+cell": {
     "cellMetadata": {
      "byteLimit": 2048000,
      "rowLimit": 10000
     },
     "inputWidgets": {},
     "nuid": "11bd2ca6-92da-4a3f-bf5a-7c401bd128f5",
     "showTitle": false,
     "title": ""
    },
    "execution": {
     "iopub.execute_input": "2024-03-26T14:04:29.373971Z",
     "iopub.status.busy": "2024-03-26T14:04:29.373461Z",
     "iopub.status.idle": "2024-03-26T14:04:30.442085Z",
     "shell.execute_reply": "2024-03-26T14:04:30.440683Z",
     "shell.execute_reply.started": "2024-03-26T14:04:29.373933Z"
    },
    "trusted": true
   },
   "outputs": [
    {
     "output_type": "display_data",
     "data": {
      "text/html": [
       "<style>#sk-e477ad9a-da5e-4c64-9c12-0d8681099b4d {color: black;background-color: white;}#sk-e477ad9a-da5e-4c64-9c12-0d8681099b4d pre{padding: 0;}#sk-e477ad9a-da5e-4c64-9c12-0d8681099b4d div.sk-toggleable {background-color: white;}#sk-e477ad9a-da5e-4c64-9c12-0d8681099b4d label.sk-toggleable__label {cursor: pointer;display: block;width: 100%;margin-bottom: 0;padding: 0.3em;box-sizing: border-box;text-align: center;}#sk-e477ad9a-da5e-4c64-9c12-0d8681099b4d label.sk-toggleable__label-arrow:before {content: \"▸\";float: left;margin-right: 0.25em;color: #696969;}#sk-e477ad9a-da5e-4c64-9c12-0d8681099b4d label.sk-toggleable__label-arrow:hover:before {color: black;}#sk-e477ad9a-da5e-4c64-9c12-0d8681099b4d div.sk-estimator:hover label.sk-toggleable__label-arrow:before {color: black;}#sk-e477ad9a-da5e-4c64-9c12-0d8681099b4d div.sk-toggleable__content {max-height: 0;max-width: 0;overflow: hidden;text-align: left;background-color: #f0f8ff;}#sk-e477ad9a-da5e-4c64-9c12-0d8681099b4d div.sk-toggleable__content pre {margin: 0.2em;color: black;border-radius: 0.25em;background-color: #f0f8ff;}#sk-e477ad9a-da5e-4c64-9c12-0d8681099b4d input.sk-toggleable__control:checked~div.sk-toggleable__content {max-height: 200px;max-width: 100%;overflow: auto;}#sk-e477ad9a-da5e-4c64-9c12-0d8681099b4d input.sk-toggleable__control:checked~label.sk-toggleable__label-arrow:before {content: \"▾\";}#sk-e477ad9a-da5e-4c64-9c12-0d8681099b4d div.sk-estimator input.sk-toggleable__control:checked~label.sk-toggleable__label {background-color: #d4ebff;}#sk-e477ad9a-da5e-4c64-9c12-0d8681099b4d div.sk-label input.sk-toggleable__control:checked~label.sk-toggleable__label {background-color: #d4ebff;}#sk-e477ad9a-da5e-4c64-9c12-0d8681099b4d input.sk-hidden--visually {border: 0;clip: rect(1px 1px 1px 1px);clip: rect(1px, 1px, 1px, 1px);height: 1px;margin: -1px;overflow: hidden;padding: 0;position: absolute;width: 1px;}#sk-e477ad9a-da5e-4c64-9c12-0d8681099b4d div.sk-estimator {font-family: monospace;background-color: #f0f8ff;border: 1px dotted black;border-radius: 0.25em;box-sizing: border-box;margin-bottom: 0.5em;}#sk-e477ad9a-da5e-4c64-9c12-0d8681099b4d div.sk-estimator:hover {background-color: #d4ebff;}#sk-e477ad9a-da5e-4c64-9c12-0d8681099b4d div.sk-parallel-item::after {content: \"\";width: 100%;border-bottom: 1px solid gray;flex-grow: 1;}#sk-e477ad9a-da5e-4c64-9c12-0d8681099b4d div.sk-label:hover label.sk-toggleable__label {background-color: #d4ebff;}#sk-e477ad9a-da5e-4c64-9c12-0d8681099b4d div.sk-serial::before {content: \"\";position: absolute;border-left: 1px solid gray;box-sizing: border-box;top: 2em;bottom: 0;left: 50%;}#sk-e477ad9a-da5e-4c64-9c12-0d8681099b4d div.sk-serial {display: flex;flex-direction: column;align-items: center;background-color: white;padding-right: 0.2em;padding-left: 0.2em;}#sk-e477ad9a-da5e-4c64-9c12-0d8681099b4d div.sk-item {z-index: 1;}#sk-e477ad9a-da5e-4c64-9c12-0d8681099b4d div.sk-parallel {display: flex;align-items: stretch;justify-content: center;background-color: white;}#sk-e477ad9a-da5e-4c64-9c12-0d8681099b4d div.sk-parallel::before {content: \"\";position: absolute;border-left: 1px solid gray;box-sizing: border-box;top: 2em;bottom: 0;left: 50%;}#sk-e477ad9a-da5e-4c64-9c12-0d8681099b4d div.sk-parallel-item {display: flex;flex-direction: column;position: relative;background-color: white;}#sk-e477ad9a-da5e-4c64-9c12-0d8681099b4d div.sk-parallel-item:first-child::after {align-self: flex-end;width: 50%;}#sk-e477ad9a-da5e-4c64-9c12-0d8681099b4d div.sk-parallel-item:last-child::after {align-self: flex-start;width: 50%;}#sk-e477ad9a-da5e-4c64-9c12-0d8681099b4d div.sk-parallel-item:only-child::after {width: 0;}#sk-e477ad9a-da5e-4c64-9c12-0d8681099b4d div.sk-dashed-wrapped {border: 1px dashed gray;margin: 0 0.4em 0.5em 0.4em;box-sizing: border-box;padding-bottom: 0.4em;background-color: white;position: relative;}#sk-e477ad9a-da5e-4c64-9c12-0d8681099b4d div.sk-label label {font-family: monospace;font-weight: bold;background-color: white;display: inline-block;line-height: 1.2em;}#sk-e477ad9a-da5e-4c64-9c12-0d8681099b4d div.sk-label-container {position: relative;z-index: 2;text-align: center;}#sk-e477ad9a-da5e-4c64-9c12-0d8681099b4d div.sk-container {/* jupyter's `normalize.less` sets `[hidden] { display: none; }` but bootstrap.min.css set `[hidden] { display: none !important; }` so we also need the `!important` here to be able to override the default hidden behavior on the sphinx rendered scikit-learn.org. See: https://github.com/scikit-learn/scikit-learn/issues/21755 */display: inline-block !important;position: relative;}#sk-e477ad9a-da5e-4c64-9c12-0d8681099b4d div.sk-text-repr-fallback {display: none;}</style><div id=\"sk-e477ad9a-da5e-4c64-9c12-0d8681099b4d\" class=\"sk-top-container\"><div class=\"sk-text-repr-fallback\"><pre>ColumnTransformer(transformers=[(&#x27;num&#x27;,\n",
       "                                 Pipeline(steps=[(&#x27;normalizer&#x27;, Normalizer())]),\n",
       "                                 [&#x27;AccountAge&#x27;, &#x27;MonthlyCharges&#x27;,\n",
       "                                  &#x27;TotalCharges&#x27;, &#x27;ViewingHoursPerWeek&#x27;,\n",
       "                                  &#x27;AverageViewingDuration&#x27;,\n",
       "                                  &#x27;ContentDownloadsPerMonth&#x27;, &#x27;UserRating&#x27;,\n",
       "                                  &#x27;SupportTicketsPerMonth&#x27;, &#x27;WatchlistSize&#x27;]),\n",
       "                                (&#x27;cat&#x27;,\n",
       "                                 Pipeline(steps=[(&#x27;encoder&#x27;,\n",
       "                                                  CustomEncoder(categorical_columns=[&#x27;PaymentMethod&#x27;,\n",
       "                                                                                     &#x27;Pap...\n",
       "                                                                                     &#x27;ContentType&#x27;,\n",
       "                                                                                     &#x27;MultiDeviceAccess&#x27;,\n",
       "                                                                                     &#x27;DeviceRegistered&#x27;,\n",
       "                                                                                     &#x27;GenrePreference&#x27;,\n",
       "                                                                                     &#x27;Gender&#x27;,\n",
       "                                                                                     &#x27;ParentalControl&#x27;,\n",
       "                                                                                     &#x27;SubtitlesEnabled&#x27;],\n",
       "                                                                subscription_type_ordering=[&#x27;Basic&#x27;,\n",
       "                                                                                            &#x27;Standard&#x27;,\n",
       "                                                                                            &#x27;Premium&#x27;]))]),\n",
       "                                 [&#x27;PaymentMethod&#x27;, &#x27;PaperlessBilling&#x27;,\n",
       "                                  &#x27;ContentType&#x27;, &#x27;MultiDeviceAccess&#x27;,\n",
       "                                  &#x27;DeviceRegistered&#x27;, &#x27;GenrePreference&#x27;,\n",
       "                                  &#x27;Gender&#x27;, &#x27;ParentalControl&#x27;,\n",
       "                                  &#x27;SubtitlesEnabled&#x27;, &#x27;SubscriptionType&#x27;])])</pre><b>Please rerun this cell to show the HTML repr or trust the notebook.</b></div><div class=\"sk-container\" hidden><div class=\"sk-item sk-dashed-wrapped\"><div class=\"sk-label-container\"><div class=\"sk-label sk-toggleable\"><input class=\"sk-toggleable__control sk-hidden--visually\" id=\"dfa3f446-a2da-48a6-9035-63e6ce9e339a\" type=\"checkbox\" ><label for=\"dfa3f446-a2da-48a6-9035-63e6ce9e339a\" class=\"sk-toggleable__label sk-toggleable__label-arrow\">ColumnTransformer</label><div class=\"sk-toggleable__content\"><pre>ColumnTransformer(transformers=[(&#x27;num&#x27;,\n",
       "                                 Pipeline(steps=[(&#x27;normalizer&#x27;, Normalizer())]),\n",
       "                                 [&#x27;AccountAge&#x27;, &#x27;MonthlyCharges&#x27;,\n",
       "                                  &#x27;TotalCharges&#x27;, &#x27;ViewingHoursPerWeek&#x27;,\n",
       "                                  &#x27;AverageViewingDuration&#x27;,\n",
       "                                  &#x27;ContentDownloadsPerMonth&#x27;, &#x27;UserRating&#x27;,\n",
       "                                  &#x27;SupportTicketsPerMonth&#x27;, &#x27;WatchlistSize&#x27;]),\n",
       "                                (&#x27;cat&#x27;,\n",
       "                                 Pipeline(steps=[(&#x27;encoder&#x27;,\n",
       "                                                  CustomEncoder(categorical_columns=[&#x27;PaymentMethod&#x27;,\n",
       "                                                                                     &#x27;Pap...\n",
       "                                                                                     &#x27;ContentType&#x27;,\n",
       "                                                                                     &#x27;MultiDeviceAccess&#x27;,\n",
       "                                                                                     &#x27;DeviceRegistered&#x27;,\n",
       "                                                                                     &#x27;GenrePreference&#x27;,\n",
       "                                                                                     &#x27;Gender&#x27;,\n",
       "                                                                                     &#x27;ParentalControl&#x27;,\n",
       "                                                                                     &#x27;SubtitlesEnabled&#x27;],\n",
       "                                                                subscription_type_ordering=[&#x27;Basic&#x27;,\n",
       "                                                                                            &#x27;Standard&#x27;,\n",
       "                                                                                            &#x27;Premium&#x27;]))]),\n",
       "                                 [&#x27;PaymentMethod&#x27;, &#x27;PaperlessBilling&#x27;,\n",
       "                                  &#x27;ContentType&#x27;, &#x27;MultiDeviceAccess&#x27;,\n",
       "                                  &#x27;DeviceRegistered&#x27;, &#x27;GenrePreference&#x27;,\n",
       "                                  &#x27;Gender&#x27;, &#x27;ParentalControl&#x27;,\n",
       "                                  &#x27;SubtitlesEnabled&#x27;, &#x27;SubscriptionType&#x27;])])</pre></div></div></div><div class=\"sk-parallel\"><div class=\"sk-parallel-item\"><div class=\"sk-item\"><div class=\"sk-label-container\"><div class=\"sk-label sk-toggleable\"><input class=\"sk-toggleable__control sk-hidden--visually\" id=\"a3ec8534-fe0f-4d64-ae28-4886a5269623\" type=\"checkbox\" ><label for=\"a3ec8534-fe0f-4d64-ae28-4886a5269623\" class=\"sk-toggleable__label sk-toggleable__label-arrow\">num</label><div class=\"sk-toggleable__content\"><pre>[&#x27;AccountAge&#x27;, &#x27;MonthlyCharges&#x27;, &#x27;TotalCharges&#x27;, &#x27;ViewingHoursPerWeek&#x27;, &#x27;AverageViewingDuration&#x27;, &#x27;ContentDownloadsPerMonth&#x27;, &#x27;UserRating&#x27;, &#x27;SupportTicketsPerMonth&#x27;, &#x27;WatchlistSize&#x27;]</pre></div></div></div><div class=\"sk-serial\"><div class=\"sk-item\"><div class=\"sk-serial\"><div class=\"sk-item\"><div class=\"sk-estimator sk-toggleable\"><input class=\"sk-toggleable__control sk-hidden--visually\" id=\"050641ea-d155-4274-803a-3240c713b479\" type=\"checkbox\" ><label for=\"050641ea-d155-4274-803a-3240c713b479\" class=\"sk-toggleable__label sk-toggleable__label-arrow\">Normalizer</label><div class=\"sk-toggleable__content\"><pre>Normalizer()</pre></div></div></div></div></div></div></div></div><div class=\"sk-parallel-item\"><div class=\"sk-item\"><div class=\"sk-label-container\"><div class=\"sk-label sk-toggleable\"><input class=\"sk-toggleable__control sk-hidden--visually\" id=\"b4842904-d2b8-43e9-88f9-7d660b0e434c\" type=\"checkbox\" ><label for=\"b4842904-d2b8-43e9-88f9-7d660b0e434c\" class=\"sk-toggleable__label sk-toggleable__label-arrow\">cat</label><div class=\"sk-toggleable__content\"><pre>[&#x27;PaymentMethod&#x27;, &#x27;PaperlessBilling&#x27;, &#x27;ContentType&#x27;, &#x27;MultiDeviceAccess&#x27;, &#x27;DeviceRegistered&#x27;, &#x27;GenrePreference&#x27;, &#x27;Gender&#x27;, &#x27;ParentalControl&#x27;, &#x27;SubtitlesEnabled&#x27;, &#x27;SubscriptionType&#x27;]</pre></div></div></div><div class=\"sk-serial\"><div class=\"sk-item\"><div class=\"sk-serial\"><div class=\"sk-item\"><div class=\"sk-estimator sk-toggleable\"><input class=\"sk-toggleable__control sk-hidden--visually\" id=\"678af6f3-6c09-4e22-ae0b-9ba94dcbb8a4\" type=\"checkbox\" ><label for=\"678af6f3-6c09-4e22-ae0b-9ba94dcbb8a4\" class=\"sk-toggleable__label sk-toggleable__label-arrow\">CustomEncoder</label><div class=\"sk-toggleable__content\"><pre>CustomEncoder(categorical_columns=[&#x27;PaymentMethod&#x27;, &#x27;PaperlessBilling&#x27;,\n",
       "                                   &#x27;ContentType&#x27;, &#x27;MultiDeviceAccess&#x27;,\n",
       "                                   &#x27;DeviceRegistered&#x27;, &#x27;GenrePreference&#x27;,\n",
       "                                   &#x27;Gender&#x27;, &#x27;ParentalControl&#x27;,\n",
       "                                   &#x27;SubtitlesEnabled&#x27;],\n",
       "              subscription_type_ordering=[&#x27;Basic&#x27;, &#x27;Standard&#x27;, &#x27;Premium&#x27;])</pre></div></div></div></div></div></div></div></div></div></div></div></div>"
      ]
     },
     "metadata": {
      "application/vnd.databricks.v1+output": {
       "addedWidgets": {},
       "arguments": {},
       "data": "<style>#sk-e477ad9a-da5e-4c64-9c12-0d8681099b4d {color: black;background-color: white;}#sk-e477ad9a-da5e-4c64-9c12-0d8681099b4d pre{padding: 0;}#sk-e477ad9a-da5e-4c64-9c12-0d8681099b4d div.sk-toggleable {background-color: white;}#sk-e477ad9a-da5e-4c64-9c12-0d8681099b4d label.sk-toggleable__label {cursor: pointer;display: block;width: 100%;margin-bottom: 0;padding: 0.3em;box-sizing: border-box;text-align: center;}#sk-e477ad9a-da5e-4c64-9c12-0d8681099b4d label.sk-toggleable__label-arrow:before {content: \"▸\";float: left;margin-right: 0.25em;color: #696969;}#sk-e477ad9a-da5e-4c64-9c12-0d8681099b4d label.sk-toggleable__label-arrow:hover:before {color: black;}#sk-e477ad9a-da5e-4c64-9c12-0d8681099b4d div.sk-estimator:hover label.sk-toggleable__label-arrow:before {color: black;}#sk-e477ad9a-da5e-4c64-9c12-0d8681099b4d div.sk-toggleable__content {max-height: 0;max-width: 0;overflow: hidden;text-align: left;background-color: #f0f8ff;}#sk-e477ad9a-da5e-4c64-9c12-0d8681099b4d div.sk-toggleable__content pre {margin: 0.2em;color: black;border-radius: 0.25em;background-color: #f0f8ff;}#sk-e477ad9a-da5e-4c64-9c12-0d8681099b4d input.sk-toggleable__control:checked~div.sk-toggleable__content {max-height: 200px;max-width: 100%;overflow: auto;}#sk-e477ad9a-da5e-4c64-9c12-0d8681099b4d input.sk-toggleable__control:checked~label.sk-toggleable__label-arrow:before {content: \"▾\";}#sk-e477ad9a-da5e-4c64-9c12-0d8681099b4d div.sk-estimator input.sk-toggleable__control:checked~label.sk-toggleable__label {background-color: #d4ebff;}#sk-e477ad9a-da5e-4c64-9c12-0d8681099b4d div.sk-label input.sk-toggleable__control:checked~label.sk-toggleable__label {background-color: #d4ebff;}#sk-e477ad9a-da5e-4c64-9c12-0d8681099b4d input.sk-hidden--visually {border: 0;clip: rect(1px 1px 1px 1px);clip: rect(1px, 1px, 1px, 1px);height: 1px;margin: -1px;overflow: hidden;padding: 0;position: absolute;width: 1px;}#sk-e477ad9a-da5e-4c64-9c12-0d8681099b4d div.sk-estimator {font-family: monospace;background-color: #f0f8ff;border: 1px dotted black;border-radius: 0.25em;box-sizing: border-box;margin-bottom: 0.5em;}#sk-e477ad9a-da5e-4c64-9c12-0d8681099b4d div.sk-estimator:hover {background-color: #d4ebff;}#sk-e477ad9a-da5e-4c64-9c12-0d8681099b4d div.sk-parallel-item::after {content: \"\";width: 100%;border-bottom: 1px solid gray;flex-grow: 1;}#sk-e477ad9a-da5e-4c64-9c12-0d8681099b4d div.sk-label:hover label.sk-toggleable__label {background-color: #d4ebff;}#sk-e477ad9a-da5e-4c64-9c12-0d8681099b4d div.sk-serial::before {content: \"\";position: absolute;border-left: 1px solid gray;box-sizing: border-box;top: 2em;bottom: 0;left: 50%;}#sk-e477ad9a-da5e-4c64-9c12-0d8681099b4d div.sk-serial {display: flex;flex-direction: column;align-items: center;background-color: white;padding-right: 0.2em;padding-left: 0.2em;}#sk-e477ad9a-da5e-4c64-9c12-0d8681099b4d div.sk-item {z-index: 1;}#sk-e477ad9a-da5e-4c64-9c12-0d8681099b4d div.sk-parallel {display: flex;align-items: stretch;justify-content: center;background-color: white;}#sk-e477ad9a-da5e-4c64-9c12-0d8681099b4d div.sk-parallel::before {content: \"\";position: absolute;border-left: 1px solid gray;box-sizing: border-box;top: 2em;bottom: 0;left: 50%;}#sk-e477ad9a-da5e-4c64-9c12-0d8681099b4d div.sk-parallel-item {display: flex;flex-direction: column;position: relative;background-color: white;}#sk-e477ad9a-da5e-4c64-9c12-0d8681099b4d div.sk-parallel-item:first-child::after {align-self: flex-end;width: 50%;}#sk-e477ad9a-da5e-4c64-9c12-0d8681099b4d div.sk-parallel-item:last-child::after {align-self: flex-start;width: 50%;}#sk-e477ad9a-da5e-4c64-9c12-0d8681099b4d div.sk-parallel-item:only-child::after {width: 0;}#sk-e477ad9a-da5e-4c64-9c12-0d8681099b4d div.sk-dashed-wrapped {border: 1px dashed gray;margin: 0 0.4em 0.5em 0.4em;box-sizing: border-box;padding-bottom: 0.4em;background-color: white;position: relative;}#sk-e477ad9a-da5e-4c64-9c12-0d8681099b4d div.sk-label label {font-family: monospace;font-weight: bold;background-color: white;display: inline-block;line-height: 1.2em;}#sk-e477ad9a-da5e-4c64-9c12-0d8681099b4d div.sk-label-container {position: relative;z-index: 2;text-align: center;}#sk-e477ad9a-da5e-4c64-9c12-0d8681099b4d div.sk-container {/* jupyter's `normalize.less` sets `[hidden] { display: none; }` but bootstrap.min.css set `[hidden] { display: none !important; }` so we also need the `!important` here to be able to override the default hidden behavior on the sphinx rendered scikit-learn.org. See: https://github.com/scikit-learn/scikit-learn/issues/21755 */display: inline-block !important;position: relative;}#sk-e477ad9a-da5e-4c64-9c12-0d8681099b4d div.sk-text-repr-fallback {display: none;}</style><div id=\"sk-e477ad9a-da5e-4c64-9c12-0d8681099b4d\" class=\"sk-top-container\"><div class=\"sk-text-repr-fallback\"><pre>ColumnTransformer(transformers=[(&#x27;num&#x27;,\n                                 Pipeline(steps=[(&#x27;normalizer&#x27;, Normalizer())]),\n                                 [&#x27;AccountAge&#x27;, &#x27;MonthlyCharges&#x27;,\n                                  &#x27;TotalCharges&#x27;, &#x27;ViewingHoursPerWeek&#x27;,\n                                  &#x27;AverageViewingDuration&#x27;,\n                                  &#x27;ContentDownloadsPerMonth&#x27;, &#x27;UserRating&#x27;,\n                                  &#x27;SupportTicketsPerMonth&#x27;, &#x27;WatchlistSize&#x27;]),\n                                (&#x27;cat&#x27;,\n                                 Pipeline(steps=[(&#x27;encoder&#x27;,\n                                                  CustomEncoder(categorical_columns=[&#x27;PaymentMethod&#x27;,\n                                                                                     &#x27;Pap...\n                                                                                     &#x27;ContentType&#x27;,\n                                                                                     &#x27;MultiDeviceAccess&#x27;,\n                                                                                     &#x27;DeviceRegistered&#x27;,\n                                                                                     &#x27;GenrePreference&#x27;,\n                                                                                     &#x27;Gender&#x27;,\n                                                                                     &#x27;ParentalControl&#x27;,\n                                                                                     &#x27;SubtitlesEnabled&#x27;],\n                                                                subscription_type_ordering=[&#x27;Basic&#x27;,\n                                                                                            &#x27;Standard&#x27;,\n                                                                                            &#x27;Premium&#x27;]))]),\n                                 [&#x27;PaymentMethod&#x27;, &#x27;PaperlessBilling&#x27;,\n                                  &#x27;ContentType&#x27;, &#x27;MultiDeviceAccess&#x27;,\n                                  &#x27;DeviceRegistered&#x27;, &#x27;GenrePreference&#x27;,\n                                  &#x27;Gender&#x27;, &#x27;ParentalControl&#x27;,\n                                  &#x27;SubtitlesEnabled&#x27;, &#x27;SubscriptionType&#x27;])])</pre><b>Please rerun this cell to show the HTML repr or trust the notebook.</b></div><div class=\"sk-container\" hidden><div class=\"sk-item sk-dashed-wrapped\"><div class=\"sk-label-container\"><div class=\"sk-label sk-toggleable\"><input class=\"sk-toggleable__control sk-hidden--visually\" id=\"dfa3f446-a2da-48a6-9035-63e6ce9e339a\" type=\"checkbox\" ><label for=\"dfa3f446-a2da-48a6-9035-63e6ce9e339a\" class=\"sk-toggleable__label sk-toggleable__label-arrow\">ColumnTransformer</label><div class=\"sk-toggleable__content\"><pre>ColumnTransformer(transformers=[(&#x27;num&#x27;,\n                                 Pipeline(steps=[(&#x27;normalizer&#x27;, Normalizer())]),\n                                 [&#x27;AccountAge&#x27;, &#x27;MonthlyCharges&#x27;,\n                                  &#x27;TotalCharges&#x27;, &#x27;ViewingHoursPerWeek&#x27;,\n                                  &#x27;AverageViewingDuration&#x27;,\n                                  &#x27;ContentDownloadsPerMonth&#x27;, &#x27;UserRating&#x27;,\n                                  &#x27;SupportTicketsPerMonth&#x27;, &#x27;WatchlistSize&#x27;]),\n                                (&#x27;cat&#x27;,\n                                 Pipeline(steps=[(&#x27;encoder&#x27;,\n                                                  CustomEncoder(categorical_columns=[&#x27;PaymentMethod&#x27;,\n                                                                                     &#x27;Pap...\n                                                                                     &#x27;ContentType&#x27;,\n                                                                                     &#x27;MultiDeviceAccess&#x27;,\n                                                                                     &#x27;DeviceRegistered&#x27;,\n                                                                                     &#x27;GenrePreference&#x27;,\n                                                                                     &#x27;Gender&#x27;,\n                                                                                     &#x27;ParentalControl&#x27;,\n                                                                                     &#x27;SubtitlesEnabled&#x27;],\n                                                                subscription_type_ordering=[&#x27;Basic&#x27;,\n                                                                                            &#x27;Standard&#x27;,\n                                                                                            &#x27;Premium&#x27;]))]),\n                                 [&#x27;PaymentMethod&#x27;, &#x27;PaperlessBilling&#x27;,\n                                  &#x27;ContentType&#x27;, &#x27;MultiDeviceAccess&#x27;,\n                                  &#x27;DeviceRegistered&#x27;, &#x27;GenrePreference&#x27;,\n                                  &#x27;Gender&#x27;, &#x27;ParentalControl&#x27;,\n                                  &#x27;SubtitlesEnabled&#x27;, &#x27;SubscriptionType&#x27;])])</pre></div></div></div><div class=\"sk-parallel\"><div class=\"sk-parallel-item\"><div class=\"sk-item\"><div class=\"sk-label-container\"><div class=\"sk-label sk-toggleable\"><input class=\"sk-toggleable__control sk-hidden--visually\" id=\"a3ec8534-fe0f-4d64-ae28-4886a5269623\" type=\"checkbox\" ><label for=\"a3ec8534-fe0f-4d64-ae28-4886a5269623\" class=\"sk-toggleable__label sk-toggleable__label-arrow\">num</label><div class=\"sk-toggleable__content\"><pre>[&#x27;AccountAge&#x27;, &#x27;MonthlyCharges&#x27;, &#x27;TotalCharges&#x27;, &#x27;ViewingHoursPerWeek&#x27;, &#x27;AverageViewingDuration&#x27;, &#x27;ContentDownloadsPerMonth&#x27;, &#x27;UserRating&#x27;, &#x27;SupportTicketsPerMonth&#x27;, &#x27;WatchlistSize&#x27;]</pre></div></div></div><div class=\"sk-serial\"><div class=\"sk-item\"><div class=\"sk-serial\"><div class=\"sk-item\"><div class=\"sk-estimator sk-toggleable\"><input class=\"sk-toggleable__control sk-hidden--visually\" id=\"050641ea-d155-4274-803a-3240c713b479\" type=\"checkbox\" ><label for=\"050641ea-d155-4274-803a-3240c713b479\" class=\"sk-toggleable__label sk-toggleable__label-arrow\">Normalizer</label><div class=\"sk-toggleable__content\"><pre>Normalizer()</pre></div></div></div></div></div></div></div></div><div class=\"sk-parallel-item\"><div class=\"sk-item\"><div class=\"sk-label-container\"><div class=\"sk-label sk-toggleable\"><input class=\"sk-toggleable__control sk-hidden--visually\" id=\"b4842904-d2b8-43e9-88f9-7d660b0e434c\" type=\"checkbox\" ><label for=\"b4842904-d2b8-43e9-88f9-7d660b0e434c\" class=\"sk-toggleable__label sk-toggleable__label-arrow\">cat</label><div class=\"sk-toggleable__content\"><pre>[&#x27;PaymentMethod&#x27;, &#x27;PaperlessBilling&#x27;, &#x27;ContentType&#x27;, &#x27;MultiDeviceAccess&#x27;, &#x27;DeviceRegistered&#x27;, &#x27;GenrePreference&#x27;, &#x27;Gender&#x27;, &#x27;ParentalControl&#x27;, &#x27;SubtitlesEnabled&#x27;, &#x27;SubscriptionType&#x27;]</pre></div></div></div><div class=\"sk-serial\"><div class=\"sk-item\"><div class=\"sk-serial\"><div class=\"sk-item\"><div class=\"sk-estimator sk-toggleable\"><input class=\"sk-toggleable__control sk-hidden--visually\" id=\"678af6f3-6c09-4e22-ae0b-9ba94dcbb8a4\" type=\"checkbox\" ><label for=\"678af6f3-6c09-4e22-ae0b-9ba94dcbb8a4\" class=\"sk-toggleable__label sk-toggleable__label-arrow\">CustomEncoder</label><div class=\"sk-toggleable__content\"><pre>CustomEncoder(categorical_columns=[&#x27;PaymentMethod&#x27;, &#x27;PaperlessBilling&#x27;,\n                                   &#x27;ContentType&#x27;, &#x27;MultiDeviceAccess&#x27;,\n                                   &#x27;DeviceRegistered&#x27;, &#x27;GenrePreference&#x27;,\n                                   &#x27;Gender&#x27;, &#x27;ParentalControl&#x27;,\n                                   &#x27;SubtitlesEnabled&#x27;],\n              subscription_type_ordering=[&#x27;Basic&#x27;, &#x27;Standard&#x27;, &#x27;Premium&#x27;])</pre></div></div></div></div></div></div></div></div></div></div></div></div>",
       "datasetInfos": [],
       "metadata": {},
       "removedWidgets": [],
       "textData": null,
       "type": "htmlSandbox"
      }
     },
     "output_type": "display_data"
    }
   ],
   "source": [
    "# Fit the preprocessor with train_df\n",
    "preprocessor.fit(X_train, y_train)"
   ]
  },
  {
   "cell_type": "code",
   "execution_count": 0,
   "metadata": {
    "application/vnd.databricks.v1+cell": {
     "cellMetadata": {
      "byteLimit": 2048000,
      "rowLimit": 10000
     },
     "inputWidgets": {},
     "nuid": "9dcd5c89-f10e-43ff-a974-c5ad0ce6356a",
     "showTitle": false,
     "title": ""
    },
    "execution": {
     "iopub.execute_input": "2024-03-26T14:04:34.129084Z",
     "iopub.status.busy": "2024-03-26T14:04:34.127794Z",
     "iopub.status.idle": "2024-03-26T14:04:34.137011Z",
     "shell.execute_reply": "2024-03-26T14:04:34.135679Z",
     "shell.execute_reply.started": "2024-03-26T14:04:34.129028Z"
    },
    "trusted": true
   },
   "outputs": [],
   "source": [
    "# This function needs to be updated based on the CustomEncoder implementation\n",
    "def get_feature_names(column_transformer):\n",
    "    \"\"\"Get feature names from all transformers.\"\"\"\n",
    "    output_features = []\n",
    "    for name, pipe, features in column_transformer.transformers_:\n",
    "        # Handle the categorical features (assuming 'cat' is the name of the categorical transformer)\n",
    "        if name == 'cat':\n",
    "            # Get feature names from the one-hot encoder\n",
    "            transformer = pipe.named_steps['encoder']\n",
    "            # Assuming the one-hot encoded feature names can be obtained like this:\n",
    "            onehot_features = list(transformer.onehot_encoder.get_feature_names_out())\n",
    "            # Append the ordinal encoded feature name manually\n",
    "            onehot_features.append('SubscriptionTypeEncoded')\n",
    "            output_features.extend(onehot_features)\n",
    "        elif name == 'num':  # For numerical features\n",
    "            output_features.extend(features)\n",
    "        elif name == 'passthrough':\n",
    "            output_features.extend(features)\n",
    "\n",
    "    return output_features"
   ]
  },
  {
   "cell_type": "code",
   "execution_count": 0,
   "metadata": {
    "application/vnd.databricks.v1+cell": {
     "cellMetadata": {
      "byteLimit": 2048000,
      "rowLimit": 10000
     },
     "inputWidgets": {},
     "nuid": "ce643459-eb1c-4c48-97f9-9a4d7853f2fd",
     "showTitle": false,
     "title": ""
    },
    "execution": {
     "iopub.execute_input": "2024-03-26T14:04:35.928616Z",
     "iopub.status.busy": "2024-03-26T14:04:35.928180Z",
     "iopub.status.idle": "2024-03-26T14:04:37.141584Z",
     "shell.execute_reply": "2024-03-26T14:04:37.140428Z",
     "shell.execute_reply.started": "2024-03-26T14:04:35.928587Z"
    },
    "trusted": true
   },
   "outputs": [
    {
     "output_type": "stream",
     "name": "stdout",
     "output_type": "stream",
     "text": [
      "Transformed Train DataFrame:\nIndex(['AccountAge', 'MonthlyCharges', 'TotalCharges', 'ViewingHoursPerWeek',\n       'AverageViewingDuration', 'ContentDownloadsPerMonth', 'UserRating',\n       'SupportTicketsPerMonth', 'WatchlistSize',\n       'PaymentMethod_Bank transfer', 'PaymentMethod_Credit card',\n       'PaymentMethod_Electronic check', 'PaymentMethod_Mailed check',\n       'PaperlessBilling_No', 'PaperlessBilling_Yes', 'ContentType_Both',\n       'ContentType_Movies', 'ContentType_TV Shows', 'MultiDeviceAccess_No',\n       'MultiDeviceAccess_Yes', 'DeviceRegistered_Computer',\n       'DeviceRegistered_Mobile', 'DeviceRegistered_TV',\n       'DeviceRegistered_Tablet', 'GenrePreference_Action',\n       'GenrePreference_Comedy', 'GenrePreference_Drama',\n       'GenrePreference_Fantasy', 'GenrePreference_Sci-Fi', 'Gender_Female',\n       'Gender_Male', 'ParentalControl_No', 'ParentalControl_Yes',\n       'SubtitlesEnabled_No', 'SubtitlesEnabled_Yes',\n       'SubscriptionTypeEncoded'],\n      dtype='object')\n\nTransformed Test DataFrame:\nIndex(['AccountAge', 'MonthlyCharges', 'TotalCharges', 'ViewingHoursPerWeek',\n       'AverageViewingDuration', 'ContentDownloadsPerMonth', 'UserRating',\n       'SupportTicketsPerMonth', 'WatchlistSize',\n       'PaymentMethod_Bank transfer', 'PaymentMethod_Credit card',\n       'PaymentMethod_Electronic check', 'PaymentMethod_Mailed check',\n       'PaperlessBilling_No', 'PaperlessBilling_Yes', 'ContentType_Both',\n       'ContentType_Movies', 'ContentType_TV Shows', 'MultiDeviceAccess_No',\n       'MultiDeviceAccess_Yes', 'DeviceRegistered_Computer',\n       'DeviceRegistered_Mobile', 'DeviceRegistered_TV',\n       'DeviceRegistered_Tablet', 'GenrePreference_Action',\n       'GenrePreference_Comedy', 'GenrePreference_Drama',\n       'GenrePreference_Fantasy', 'GenrePreference_Sci-Fi', 'Gender_Female',\n       'Gender_Male', 'ParentalControl_No', 'ParentalControl_Yes',\n       'SubtitlesEnabled_No', 'SubtitlesEnabled_Yes',\n       'SubscriptionTypeEncoded'],\n      dtype='object')\n"
     ]
    }
   ],
   "source": [
    "def get_transformed_dataframe(preprocessor, input_df):\n",
    "    transformed_data = preprocessor.transform(input_df)\n",
    "    feature_names = get_feature_names(preprocessor)\n",
    "    \n",
    "    # Create the final DataFrame without checking for 'Churn'\n",
    "    transformed_df = pd.DataFrame(transformed_data, columns=feature_names, index=input_df.index)\n",
    "    \n",
    "    return transformed_df\n",
    "\n",
    "# Now use the function for both train_df and test_df\n",
    "transformed_train_df = get_transformed_dataframe(preprocessor, X_train)\n",
    "transformed_test_df = get_transformed_dataframe(preprocessor, test_df)\n",
    "\n",
    "# Show the head of the transformed DataFrames for inspection\n",
    "print(\"Transformed Train DataFrame:\")\n",
    "print(transformed_train_df.columns)\n",
    "print(\"\\nTransformed Test DataFrame:\")\n",
    "print(transformed_test_df.columns)"
   ]
  },
  {
   "cell_type": "code",
   "execution_count": 0,
   "metadata": {
    "application/vnd.databricks.v1+cell": {
     "cellMetadata": {
      "byteLimit": 2048000,
      "rowLimit": 10000
     },
     "inputWidgets": {},
     "nuid": "9726cde6-6975-4b46-a475-a84f9aa41abc",
     "showTitle": false,
     "title": ""
    },
    "execution": {
     "iopub.execute_input": "2024-03-26T14:04:41.057993Z",
     "iopub.status.busy": "2024-03-26T14:04:41.057543Z",
     "iopub.status.idle": "2024-03-26T14:04:41.064182Z",
     "shell.execute_reply": "2024-03-26T14:04:41.063127Z",
     "shell.execute_reply.started": "2024-03-26T14:04:41.057963Z"
    },
    "trusted": true
   },
   "outputs": [],
   "source": [
    "class ToDataFrame(BaseEstimator, TransformerMixin):\n",
    "    def __init__(self, column_names):\n",
    "        self.column_names = column_names\n",
    "    \n",
    "    def fit(self, X, y=None):\n",
    "        return self\n",
    "    \n",
    "    def transform(self, X):\n",
    "        return pd.DataFrame(X, columns=self.column_names)"
   ]
  },
  {
   "cell_type": "code",
   "execution_count": 0,
   "metadata": {
    "application/vnd.databricks.v1+cell": {
     "cellMetadata": {
      "byteLimit": 2048000,
      "rowLimit": 10000
     },
     "inputWidgets": {},
     "nuid": "5aa110e2-91d3-49a7-a62f-1ce98dc25041",
     "showTitle": false,
     "title": ""
    },
    "execution": {
     "iopub.execute_input": "2024-03-26T14:06:17.217054Z",
     "iopub.status.busy": "2024-03-26T14:06:17.216601Z",
     "iopub.status.idle": "2024-03-26T14:06:17.225924Z",
     "shell.execute_reply": "2024-03-26T14:06:17.224738Z",
     "shell.execute_reply.started": "2024-03-26T14:06:17.217018Z"
    },
    "trusted": true
   },
   "outputs": [
    {
     "output_type": "stream",
     "name": "stdout",
     "output_type": "stream",
     "text": [
      "Out[14]: ['AccountAge',\n 'MonthlyCharges',\n 'TotalCharges',\n 'ViewingHoursPerWeek',\n 'AverageViewingDuration',\n 'ContentDownloadsPerMonth',\n 'UserRating',\n 'SupportTicketsPerMonth',\n 'WatchlistSize',\n 'PaymentMethod_Bank transfer',\n 'PaymentMethod_Credit card',\n 'PaymentMethod_Electronic check',\n 'PaymentMethod_Mailed check',\n 'PaperlessBilling_No',\n 'PaperlessBilling_Yes',\n 'ContentType_Both',\n 'ContentType_Movies',\n 'ContentType_TV Shows',\n 'MultiDeviceAccess_No',\n 'MultiDeviceAccess_Yes',\n 'DeviceRegistered_Computer',\n 'DeviceRegistered_Mobile',\n 'DeviceRegistered_TV',\n 'DeviceRegistered_Tablet',\n 'GenrePreference_Action',\n 'GenrePreference_Comedy',\n 'GenrePreference_Drama',\n 'GenrePreference_Fantasy',\n 'GenrePreference_Sci-Fi',\n 'Gender_Female',\n 'Gender_Male',\n 'ParentalControl_No',\n 'ParentalControl_Yes',\n 'SubtitlesEnabled_No',\n 'SubtitlesEnabled_Yes',\n 'SubscriptionTypeEncoded']"
     ]
    }
   ],
   "source": [
    "output_column_names = transformed_train_df.columns.tolist() # List of column names after preprocessing\n",
    "output_column_names"
   ]
  },
  {
   "cell_type": "code",
   "execution_count": 0,
   "metadata": {
    "application/vnd.databricks.v1+cell": {
     "cellMetadata": {
      "byteLimit": 2048000,
      "rowLimit": 10000
     },
     "inputWidgets": {},
     "nuid": "1bf71b08-da11-43de-9020-48136ad893c8",
     "showTitle": false,
     "title": ""
    },
    "execution": {
     "iopub.execute_input": "2024-03-26T14:04:45.093489Z",
     "iopub.status.busy": "2024-03-26T14:04:45.092947Z",
     "iopub.status.idle": "2024-03-26T14:04:45.104153Z",
     "shell.execute_reply": "2024-03-26T14:04:45.102846Z",
     "shell.execute_reply.started": "2024-03-26T14:04:45.093355Z"
    },
    "trusted": true
   },
   "outputs": [],
   "source": [
    "from sklearn.base import BaseEstimator, TransformerMixin\n",
    "from imblearn.over_sampling import ADASYN\n",
    "\n",
    "class ConditionalResampler(BaseEstimator, TransformerMixin):\n",
    "    def __init__(self, sampler=ADASYN(random_state=42), apply_resampling=False):\n",
    "        self.sampler = sampler\n",
    "        self.apply_resampling = apply_resampling\n",
    "        # Add attributes to ensure they exist even if not resampled\n",
    "        self.X_resampled_ = None\n",
    "        self.y_resampled_ = None\n",
    "\n",
    "    def fit(self, X, y=None):\n",
    "        # Perform resampling if applicable\n",
    "        if self.apply_resampling and y is not None:\n",
    "            self.X_resampled_, self.y_resampled_ = self.sampler.fit_resample(X, y)\n",
    "        return self\n",
    "\n",
    "    def fit_resample(self, X, y):\n",
    "        # Perform resampling if applicable and return the resampled data\n",
    "        if self.apply_resampling and y is not None:\n",
    "            self.X_resampled_, self.y_resampled_ = self.sampler.fit_resample(X, y)\n",
    "        else:\n",
    "            self.X_resampled_, self.y_resampled_ = X, y\n",
    "        return self.X_resampled_, self.y_resampled_\n",
    "\n",
    "    def transform(self, X):\n",
    "        # During transform, just pass through the data if no resampling has occurred\n",
    "        if self.X_resampled_ is not None:\n",
    "            return self.X_resampled_\n",
    "        return X\n",
    "    \n",
    "    def get_resampled_target(self):\n",
    "        # Method to retrieve the resampled target variable\n",
    "        return self.y_resampled_\n",
    "\n",
    "ada = ADASYN(random_state=42)\n",
    "resampler = ConditionalResampler(sampler=ada, apply_resampling=True)"
   ]
  },
  {
   "cell_type": "code",
   "execution_count": 0,
   "metadata": {
    "application/vnd.databricks.v1+cell": {
     "cellMetadata": {
      "byteLimit": 2048000,
      "rowLimit": 10000
     },
     "inputWidgets": {},
     "nuid": "4c25ac7d-5da4-4774-a2b6-cbe4bd43dc57",
     "showTitle": false,
     "title": ""
    },
    "execution": {
     "iopub.execute_input": "2024-03-26T14:04:49.784058Z",
     "iopub.status.busy": "2024-03-26T14:04:49.783626Z",
     "iopub.status.idle": "2024-03-26T14:04:49.792769Z",
     "shell.execute_reply": "2024-03-26T14:04:49.791556Z",
     "shell.execute_reply.started": "2024-03-26T14:04:49.784028Z"
    },
    "trusted": true
   },
   "outputs": [],
   "source": [
    "from sklearn.base import BaseEstimator, TransformerMixin\n",
    "\n",
    "class ToDataFrameAfterResample(BaseEstimator, TransformerMixin):\n",
    "    def __init__(self, feature_names, target_name):\n",
    "        \"\"\"\n",
    "        Initializes the transformer.\n",
    "        \n",
    "        Parameters:\n",
    "        - feature_names: list of feature names after preprocessing and resampling.\n",
    "        - target_name: name of the target variable.\n",
    "        \"\"\"\n",
    "        self.feature_names = feature_names\n",
    "        self.target_name = target_name\n",
    "    \n",
    "    def fit(self, X, y=None):\n",
    "        # Nothing to fit, just return self\n",
    "        return self\n",
    "    \n",
    "    def transform(self, X, y=None):\n",
    "        # Check that the inputs are as expected\n",
    "        if y is None:\n",
    "            raise ValueError(\"Target array (y) is required for this transformer.\")\n",
    "        \n",
    "        # Convert the feature array into a DataFrame\n",
    "        X_df = pd.DataFrame(X, columns=self.feature_names)\n",
    "        \n",
    "        # Convert the target array into a Series with the appropriate name\n",
    "        y_series = pd.Series(y, name=self.target_name)\n",
    "        \n",
    "        # Combine the DataFrame and Series into a single DataFrame\n",
    "        combined_df = pd.concat([X_df, y_series], axis=1)\n",
    "        \n",
    "        return combined_df"
   ]
  },
  {
   "cell_type": "code",
   "execution_count": 0,
   "metadata": {
    "application/vnd.databricks.v1+cell": {
     "cellMetadata": {
      "byteLimit": 2048000,
      "rowLimit": 10000
     },
     "inputWidgets": {},
     "nuid": "e09f1f83-5c20-413f-9099-07a927485749",
     "showTitle": false,
     "title": ""
    },
    "execution": {
     "iopub.execute_input": "2024-03-26T14:06:24.933200Z",
     "iopub.status.busy": "2024-03-26T14:06:24.932732Z",
     "iopub.status.idle": "2024-03-26T14:06:24.939691Z",
     "shell.execute_reply": "2024-03-26T14:06:24.938246Z",
     "shell.execute_reply.started": "2024-03-26T14:06:24.933164Z"
    },
    "trusted": true
   },
   "outputs": [],
   "source": [
    "# Define the full pipeline with the updated preprocessor and resampler\n",
    "pre_resample_pipeline = ImbPipeline(steps=[\n",
    "    ('preprocessor', preprocessor),\n",
    "    ('to_df', ToDataFrame(column_names=output_column_names)),\n",
    "    ('resampler', ConditionalResampler(sampler=ada, apply_resampling=True))\n",
    "])"
   ]
  },
  {
   "cell_type": "code",
   "execution_count": 0,
   "metadata": {
    "application/vnd.databricks.v1+cell": {
     "cellMetadata": {
      "byteLimit": 2048000,
      "rowLimit": 10000
     },
     "inputWidgets": {},
     "nuid": "950744c1-999c-43f6-b2a8-7e3d219533bf",
     "showTitle": false,
     "title": ""
    },
    "execution": {
     "iopub.execute_input": "2024-03-26T16:42:44.108449Z",
     "iopub.status.busy": "2024-03-26T16:42:44.107952Z",
     "iopub.status.idle": "2024-03-26T16:42:44.165182Z",
     "shell.execute_reply": "2024-03-26T16:42:44.163848Z",
     "shell.execute_reply.started": "2024-03-26T16:42:44.108404Z"
    },
    "trusted": true
   },
   "outputs": [
    {
     "output_type": "display_data",
     "data": {
      "text/html": [
       "<style>#sk-1e7fd75c-c8f8-4bae-b047-eaac3836a329 {color: black;background-color: white;}#sk-1e7fd75c-c8f8-4bae-b047-eaac3836a329 pre{padding: 0;}#sk-1e7fd75c-c8f8-4bae-b047-eaac3836a329 div.sk-toggleable {background-color: white;}#sk-1e7fd75c-c8f8-4bae-b047-eaac3836a329 label.sk-toggleable__label {cursor: pointer;display: block;width: 100%;margin-bottom: 0;padding: 0.3em;box-sizing: border-box;text-align: center;}#sk-1e7fd75c-c8f8-4bae-b047-eaac3836a329 label.sk-toggleable__label-arrow:before {content: \"▸\";float: left;margin-right: 0.25em;color: #696969;}#sk-1e7fd75c-c8f8-4bae-b047-eaac3836a329 label.sk-toggleable__label-arrow:hover:before {color: black;}#sk-1e7fd75c-c8f8-4bae-b047-eaac3836a329 div.sk-estimator:hover label.sk-toggleable__label-arrow:before {color: black;}#sk-1e7fd75c-c8f8-4bae-b047-eaac3836a329 div.sk-toggleable__content {max-height: 0;max-width: 0;overflow: hidden;text-align: left;background-color: #f0f8ff;}#sk-1e7fd75c-c8f8-4bae-b047-eaac3836a329 div.sk-toggleable__content pre {margin: 0.2em;color: black;border-radius: 0.25em;background-color: #f0f8ff;}#sk-1e7fd75c-c8f8-4bae-b047-eaac3836a329 input.sk-toggleable__control:checked~div.sk-toggleable__content {max-height: 200px;max-width: 100%;overflow: auto;}#sk-1e7fd75c-c8f8-4bae-b047-eaac3836a329 input.sk-toggleable__control:checked~label.sk-toggleable__label-arrow:before {content: \"▾\";}#sk-1e7fd75c-c8f8-4bae-b047-eaac3836a329 div.sk-estimator input.sk-toggleable__control:checked~label.sk-toggleable__label {background-color: #d4ebff;}#sk-1e7fd75c-c8f8-4bae-b047-eaac3836a329 div.sk-label input.sk-toggleable__control:checked~label.sk-toggleable__label {background-color: #d4ebff;}#sk-1e7fd75c-c8f8-4bae-b047-eaac3836a329 input.sk-hidden--visually {border: 0;clip: rect(1px 1px 1px 1px);clip: rect(1px, 1px, 1px, 1px);height: 1px;margin: -1px;overflow: hidden;padding: 0;position: absolute;width: 1px;}#sk-1e7fd75c-c8f8-4bae-b047-eaac3836a329 div.sk-estimator {font-family: monospace;background-color: #f0f8ff;border: 1px dotted black;border-radius: 0.25em;box-sizing: border-box;margin-bottom: 0.5em;}#sk-1e7fd75c-c8f8-4bae-b047-eaac3836a329 div.sk-estimator:hover {background-color: #d4ebff;}#sk-1e7fd75c-c8f8-4bae-b047-eaac3836a329 div.sk-parallel-item::after {content: \"\";width: 100%;border-bottom: 1px solid gray;flex-grow: 1;}#sk-1e7fd75c-c8f8-4bae-b047-eaac3836a329 div.sk-label:hover label.sk-toggleable__label {background-color: #d4ebff;}#sk-1e7fd75c-c8f8-4bae-b047-eaac3836a329 div.sk-serial::before {content: \"\";position: absolute;border-left: 1px solid gray;box-sizing: border-box;top: 2em;bottom: 0;left: 50%;}#sk-1e7fd75c-c8f8-4bae-b047-eaac3836a329 div.sk-serial {display: flex;flex-direction: column;align-items: center;background-color: white;padding-right: 0.2em;padding-left: 0.2em;}#sk-1e7fd75c-c8f8-4bae-b047-eaac3836a329 div.sk-item {z-index: 1;}#sk-1e7fd75c-c8f8-4bae-b047-eaac3836a329 div.sk-parallel {display: flex;align-items: stretch;justify-content: center;background-color: white;}#sk-1e7fd75c-c8f8-4bae-b047-eaac3836a329 div.sk-parallel::before {content: \"\";position: absolute;border-left: 1px solid gray;box-sizing: border-box;top: 2em;bottom: 0;left: 50%;}#sk-1e7fd75c-c8f8-4bae-b047-eaac3836a329 div.sk-parallel-item {display: flex;flex-direction: column;position: relative;background-color: white;}#sk-1e7fd75c-c8f8-4bae-b047-eaac3836a329 div.sk-parallel-item:first-child::after {align-self: flex-end;width: 50%;}#sk-1e7fd75c-c8f8-4bae-b047-eaac3836a329 div.sk-parallel-item:last-child::after {align-self: flex-start;width: 50%;}#sk-1e7fd75c-c8f8-4bae-b047-eaac3836a329 div.sk-parallel-item:only-child::after {width: 0;}#sk-1e7fd75c-c8f8-4bae-b047-eaac3836a329 div.sk-dashed-wrapped {border: 1px dashed gray;margin: 0 0.4em 0.5em 0.4em;box-sizing: border-box;padding-bottom: 0.4em;background-color: white;position: relative;}#sk-1e7fd75c-c8f8-4bae-b047-eaac3836a329 div.sk-label label {font-family: monospace;font-weight: bold;background-color: white;display: inline-block;line-height: 1.2em;}#sk-1e7fd75c-c8f8-4bae-b047-eaac3836a329 div.sk-label-container {position: relative;z-index: 2;text-align: center;}#sk-1e7fd75c-c8f8-4bae-b047-eaac3836a329 div.sk-container {/* jupyter's `normalize.less` sets `[hidden] { display: none; }` but bootstrap.min.css set `[hidden] { display: none !important; }` so we also need the `!important` here to be able to override the default hidden behavior on the sphinx rendered scikit-learn.org. See: https://github.com/scikit-learn/scikit-learn/issues/21755 */display: inline-block !important;position: relative;}#sk-1e7fd75c-c8f8-4bae-b047-eaac3836a329 div.sk-text-repr-fallback {display: none;}</style><div id=\"sk-1e7fd75c-c8f8-4bae-b047-eaac3836a329\" class=\"sk-top-container\"><div class=\"sk-text-repr-fallback\"><pre>Pipeline(steps=[(&#x27;preprocessor&#x27;,\n",
       "                 ColumnTransformer(transformers=[(&#x27;num&#x27;,\n",
       "                                                  Pipeline(steps=[(&#x27;normalizer&#x27;,\n",
       "                                                                   Normalizer())]),\n",
       "                                                  [&#x27;AccountAge&#x27;,\n",
       "                                                   &#x27;MonthlyCharges&#x27;,\n",
       "                                                   &#x27;TotalCharges&#x27;,\n",
       "                                                   &#x27;ViewingHoursPerWeek&#x27;,\n",
       "                                                   &#x27;AverageViewingDuration&#x27;,\n",
       "                                                   &#x27;ContentDownloadsPerMonth&#x27;,\n",
       "                                                   &#x27;UserRating&#x27;,\n",
       "                                                   &#x27;SupportTicketsPerMonth&#x27;,\n",
       "                                                   &#x27;WatchlistSize&#x27;]),\n",
       "                                                 (&#x27;cat&#x27;,\n",
       "                                                  Pipeline(steps=[(&#x27;encoder&#x27;,\n",
       "                                                                   CustomEncoder(categoric...\n",
       "                                           &#x27;MultiDeviceAccess_No&#x27;,\n",
       "                                           &#x27;MultiDeviceAccess_Yes&#x27;,\n",
       "                                           &#x27;DeviceRegistered_Computer&#x27;,\n",
       "                                           &#x27;DeviceRegistered_Mobile&#x27;,\n",
       "                                           &#x27;DeviceRegistered_TV&#x27;,\n",
       "                                           &#x27;DeviceRegistered_Tablet&#x27;,\n",
       "                                           &#x27;GenrePreference_Action&#x27;,\n",
       "                                           &#x27;GenrePreference_Comedy&#x27;,\n",
       "                                           &#x27;GenrePreference_Drama&#x27;,\n",
       "                                           &#x27;GenrePreference_Fantasy&#x27;,\n",
       "                                           &#x27;GenrePreference_Sci-Fi&#x27;,\n",
       "                                           &#x27;Gender_Female&#x27;, ...])),\n",
       "                (&#x27;resampler&#x27;, ConditionalResampler(apply_resampling=True))])</pre><b>Please rerun this cell to show the HTML repr or trust the notebook.</b></div><div class=\"sk-container\" hidden><div class=\"sk-item sk-dashed-wrapped\"><div class=\"sk-label-container\"><div class=\"sk-label sk-toggleable\"><input class=\"sk-toggleable__control sk-hidden--visually\" id=\"80e7f22c-7f51-4314-88bf-5b79c181b24f\" type=\"checkbox\" ><label for=\"80e7f22c-7f51-4314-88bf-5b79c181b24f\" class=\"sk-toggleable__label sk-toggleable__label-arrow\">Pipeline</label><div class=\"sk-toggleable__content\"><pre>Pipeline(steps=[(&#x27;preprocessor&#x27;,\n",
       "                 ColumnTransformer(transformers=[(&#x27;num&#x27;,\n",
       "                                                  Pipeline(steps=[(&#x27;normalizer&#x27;,\n",
       "                                                                   Normalizer())]),\n",
       "                                                  [&#x27;AccountAge&#x27;,\n",
       "                                                   &#x27;MonthlyCharges&#x27;,\n",
       "                                                   &#x27;TotalCharges&#x27;,\n",
       "                                                   &#x27;ViewingHoursPerWeek&#x27;,\n",
       "                                                   &#x27;AverageViewingDuration&#x27;,\n",
       "                                                   &#x27;ContentDownloadsPerMonth&#x27;,\n",
       "                                                   &#x27;UserRating&#x27;,\n",
       "                                                   &#x27;SupportTicketsPerMonth&#x27;,\n",
       "                                                   &#x27;WatchlistSize&#x27;]),\n",
       "                                                 (&#x27;cat&#x27;,\n",
       "                                                  Pipeline(steps=[(&#x27;encoder&#x27;,\n",
       "                                                                   CustomEncoder(categoric...\n",
       "                                           &#x27;MultiDeviceAccess_No&#x27;,\n",
       "                                           &#x27;MultiDeviceAccess_Yes&#x27;,\n",
       "                                           &#x27;DeviceRegistered_Computer&#x27;,\n",
       "                                           &#x27;DeviceRegistered_Mobile&#x27;,\n",
       "                                           &#x27;DeviceRegistered_TV&#x27;,\n",
       "                                           &#x27;DeviceRegistered_Tablet&#x27;,\n",
       "                                           &#x27;GenrePreference_Action&#x27;,\n",
       "                                           &#x27;GenrePreference_Comedy&#x27;,\n",
       "                                           &#x27;GenrePreference_Drama&#x27;,\n",
       "                                           &#x27;GenrePreference_Fantasy&#x27;,\n",
       "                                           &#x27;GenrePreference_Sci-Fi&#x27;,\n",
       "                                           &#x27;Gender_Female&#x27;, ...])),\n",
       "                (&#x27;resampler&#x27;, ConditionalResampler(apply_resampling=True))])</pre></div></div></div><div class=\"sk-serial\"><div class=\"sk-item sk-dashed-wrapped\"><div class=\"sk-label-container\"><div class=\"sk-label sk-toggleable\"><input class=\"sk-toggleable__control sk-hidden--visually\" id=\"ad2fd3e0-374c-46e7-9bf9-3902ab314339\" type=\"checkbox\" ><label for=\"ad2fd3e0-374c-46e7-9bf9-3902ab314339\" class=\"sk-toggleable__label sk-toggleable__label-arrow\">preprocessor: ColumnTransformer</label><div class=\"sk-toggleable__content\"><pre>ColumnTransformer(transformers=[(&#x27;num&#x27;,\n",
       "                                 Pipeline(steps=[(&#x27;normalizer&#x27;, Normalizer())]),\n",
       "                                 [&#x27;AccountAge&#x27;, &#x27;MonthlyCharges&#x27;,\n",
       "                                  &#x27;TotalCharges&#x27;, &#x27;ViewingHoursPerWeek&#x27;,\n",
       "                                  &#x27;AverageViewingDuration&#x27;,\n",
       "                                  &#x27;ContentDownloadsPerMonth&#x27;, &#x27;UserRating&#x27;,\n",
       "                                  &#x27;SupportTicketsPerMonth&#x27;, &#x27;WatchlistSize&#x27;]),\n",
       "                                (&#x27;cat&#x27;,\n",
       "                                 Pipeline(steps=[(&#x27;encoder&#x27;,\n",
       "                                                  CustomEncoder(categorical_columns=[&#x27;PaymentMethod&#x27;,\n",
       "                                                                                     &#x27;Pap...\n",
       "                                                                                     &#x27;ContentType&#x27;,\n",
       "                                                                                     &#x27;MultiDeviceAccess&#x27;,\n",
       "                                                                                     &#x27;DeviceRegistered&#x27;,\n",
       "                                                                                     &#x27;GenrePreference&#x27;,\n",
       "                                                                                     &#x27;Gender&#x27;,\n",
       "                                                                                     &#x27;ParentalControl&#x27;,\n",
       "                                                                                     &#x27;SubtitlesEnabled&#x27;],\n",
       "                                                                subscription_type_ordering=[&#x27;Basic&#x27;,\n",
       "                                                                                            &#x27;Standard&#x27;,\n",
       "                                                                                            &#x27;Premium&#x27;]))]),\n",
       "                                 [&#x27;PaymentMethod&#x27;, &#x27;PaperlessBilling&#x27;,\n",
       "                                  &#x27;ContentType&#x27;, &#x27;MultiDeviceAccess&#x27;,\n",
       "                                  &#x27;DeviceRegistered&#x27;, &#x27;GenrePreference&#x27;,\n",
       "                                  &#x27;Gender&#x27;, &#x27;ParentalControl&#x27;,\n",
       "                                  &#x27;SubtitlesEnabled&#x27;, &#x27;SubscriptionType&#x27;])])</pre></div></div></div><div class=\"sk-parallel\"><div class=\"sk-parallel-item\"><div class=\"sk-item\"><div class=\"sk-label-container\"><div class=\"sk-label sk-toggleable\"><input class=\"sk-toggleable__control sk-hidden--visually\" id=\"d2a0e26f-b09a-48ad-afc7-2377a947aee9\" type=\"checkbox\" ><label for=\"d2a0e26f-b09a-48ad-afc7-2377a947aee9\" class=\"sk-toggleable__label sk-toggleable__label-arrow\">num</label><div class=\"sk-toggleable__content\"><pre>[&#x27;AccountAge&#x27;, &#x27;MonthlyCharges&#x27;, &#x27;TotalCharges&#x27;, &#x27;ViewingHoursPerWeek&#x27;, &#x27;AverageViewingDuration&#x27;, &#x27;ContentDownloadsPerMonth&#x27;, &#x27;UserRating&#x27;, &#x27;SupportTicketsPerMonth&#x27;, &#x27;WatchlistSize&#x27;]</pre></div></div></div><div class=\"sk-serial\"><div class=\"sk-item\"><div class=\"sk-serial\"><div class=\"sk-item\"><div class=\"sk-estimator sk-toggleable\"><input class=\"sk-toggleable__control sk-hidden--visually\" id=\"b2cb9dae-68f8-418c-9aae-1a3bc4ea815a\" type=\"checkbox\" ><label for=\"b2cb9dae-68f8-418c-9aae-1a3bc4ea815a\" class=\"sk-toggleable__label sk-toggleable__label-arrow\">Normalizer</label><div class=\"sk-toggleable__content\"><pre>Normalizer()</pre></div></div></div></div></div></div></div></div><div class=\"sk-parallel-item\"><div class=\"sk-item\"><div class=\"sk-label-container\"><div class=\"sk-label sk-toggleable\"><input class=\"sk-toggleable__control sk-hidden--visually\" id=\"92319d5c-0986-4502-adb3-2befc07c2ee9\" type=\"checkbox\" ><label for=\"92319d5c-0986-4502-adb3-2befc07c2ee9\" class=\"sk-toggleable__label sk-toggleable__label-arrow\">cat</label><div class=\"sk-toggleable__content\"><pre>[&#x27;PaymentMethod&#x27;, &#x27;PaperlessBilling&#x27;, &#x27;ContentType&#x27;, &#x27;MultiDeviceAccess&#x27;, &#x27;DeviceRegistered&#x27;, &#x27;GenrePreference&#x27;, &#x27;Gender&#x27;, &#x27;ParentalControl&#x27;, &#x27;SubtitlesEnabled&#x27;, &#x27;SubscriptionType&#x27;]</pre></div></div></div><div class=\"sk-serial\"><div class=\"sk-item\"><div class=\"sk-serial\"><div class=\"sk-item\"><div class=\"sk-estimator sk-toggleable\"><input class=\"sk-toggleable__control sk-hidden--visually\" id=\"5a88756a-ea5d-456a-b8aa-76e98f4b3a3b\" type=\"checkbox\" ><label for=\"5a88756a-ea5d-456a-b8aa-76e98f4b3a3b\" class=\"sk-toggleable__label sk-toggleable__label-arrow\">CustomEncoder</label><div class=\"sk-toggleable__content\"><pre>CustomEncoder(categorical_columns=[&#x27;PaymentMethod&#x27;, &#x27;PaperlessBilling&#x27;,\n",
       "                                   &#x27;ContentType&#x27;, &#x27;MultiDeviceAccess&#x27;,\n",
       "                                   &#x27;DeviceRegistered&#x27;, &#x27;GenrePreference&#x27;,\n",
       "                                   &#x27;Gender&#x27;, &#x27;ParentalControl&#x27;,\n",
       "                                   &#x27;SubtitlesEnabled&#x27;],\n",
       "              subscription_type_ordering=[&#x27;Basic&#x27;, &#x27;Standard&#x27;, &#x27;Premium&#x27;])</pre></div></div></div></div></div></div></div></div></div></div><div class=\"sk-item\"><div class=\"sk-estimator sk-toggleable\"><input class=\"sk-toggleable__control sk-hidden--visually\" id=\"e63e5bc3-2ec7-4794-b7ea-40d0cf249dee\" type=\"checkbox\" ><label for=\"e63e5bc3-2ec7-4794-b7ea-40d0cf249dee\" class=\"sk-toggleable__label sk-toggleable__label-arrow\">ToDataFrame</label><div class=\"sk-toggleable__content\"><pre>ToDataFrame(column_names=[&#x27;AccountAge&#x27;, &#x27;MonthlyCharges&#x27;, &#x27;TotalCharges&#x27;,\n",
       "                          &#x27;ViewingHoursPerWeek&#x27;, &#x27;AverageViewingDuration&#x27;,\n",
       "                          &#x27;ContentDownloadsPerMonth&#x27;, &#x27;UserRating&#x27;,\n",
       "                          &#x27;SupportTicketsPerMonth&#x27;, &#x27;WatchlistSize&#x27;,\n",
       "                          &#x27;PaymentMethod_Bank transfer&#x27;,\n",
       "                          &#x27;PaymentMethod_Credit card&#x27;,\n",
       "                          &#x27;PaymentMethod_Electronic check&#x27;,\n",
       "                          &#x27;PaymentMethod_Mailed check&#x27;, &#x27;PaperlessBilling_No&#x27;,\n",
       "                          &#x27;PaperlessBil...tType_Both&#x27;,\n",
       "                          &#x27;ContentType_Movies&#x27;, &#x27;ContentType_TV Shows&#x27;,\n",
       "                          &#x27;MultiDeviceAccess_No&#x27;, &#x27;MultiDeviceAccess_Yes&#x27;,\n",
       "                          &#x27;DeviceRegistered_Computer&#x27;,\n",
       "                          &#x27;DeviceRegistered_Mobile&#x27;, &#x27;DeviceRegistered_TV&#x27;,\n",
       "                          &#x27;DeviceRegistered_Tablet&#x27;, &#x27;GenrePreference_Action&#x27;,\n",
       "                          &#x27;GenrePreference_Comedy&#x27;, &#x27;GenrePreference_Drama&#x27;,\n",
       "                          &#x27;GenrePreference_Fantasy&#x27;, &#x27;GenrePreference_Sci-Fi&#x27;,\n",
       "                          &#x27;Gender_Female&#x27;, ...])</pre></div></div></div><div class=\"sk-item sk-dashed-wrapped\"><div class=\"sk-label-container\"><div class=\"sk-label sk-toggleable\"><input class=\"sk-toggleable__control sk-hidden--visually\" id=\"b8127bca-1399-422c-b5fc-79d559a470b9\" type=\"checkbox\" ><label for=\"b8127bca-1399-422c-b5fc-79d559a470b9\" class=\"sk-toggleable__label sk-toggleable__label-arrow\">resampler: ConditionalResampler</label><div class=\"sk-toggleable__content\"><pre>ConditionalResampler(apply_resampling=True)</pre></div></div></div><div class=\"sk-parallel\"><div class=\"sk-parallel-item\"><div class=\"sk-item\"><div class=\"sk-serial\"><div class=\"sk-item\"><div class=\"sk-estimator sk-toggleable\"><input class=\"sk-toggleable__control sk-hidden--visually\" id=\"10caa3a6-62e0-4f2a-b05e-4be54e08c4f4\" type=\"checkbox\" ><label for=\"10caa3a6-62e0-4f2a-b05e-4be54e08c4f4\" class=\"sk-toggleable__label sk-toggleable__label-arrow\">ADASYN</label><div class=\"sk-toggleable__content\"><pre>ADASYN(random_state=42)</pre></div></div></div></div></div></div></div></div></div></div></div></div>"
      ]
     },
     "metadata": {
      "application/vnd.databricks.v1+output": {
       "addedWidgets": {},
       "arguments": {},
       "data": "<style>#sk-1e7fd75c-c8f8-4bae-b047-eaac3836a329 {color: black;background-color: white;}#sk-1e7fd75c-c8f8-4bae-b047-eaac3836a329 pre{padding: 0;}#sk-1e7fd75c-c8f8-4bae-b047-eaac3836a329 div.sk-toggleable {background-color: white;}#sk-1e7fd75c-c8f8-4bae-b047-eaac3836a329 label.sk-toggleable__label {cursor: pointer;display: block;width: 100%;margin-bottom: 0;padding: 0.3em;box-sizing: border-box;text-align: center;}#sk-1e7fd75c-c8f8-4bae-b047-eaac3836a329 label.sk-toggleable__label-arrow:before {content: \"▸\";float: left;margin-right: 0.25em;color: #696969;}#sk-1e7fd75c-c8f8-4bae-b047-eaac3836a329 label.sk-toggleable__label-arrow:hover:before {color: black;}#sk-1e7fd75c-c8f8-4bae-b047-eaac3836a329 div.sk-estimator:hover label.sk-toggleable__label-arrow:before {color: black;}#sk-1e7fd75c-c8f8-4bae-b047-eaac3836a329 div.sk-toggleable__content {max-height: 0;max-width: 0;overflow: hidden;text-align: left;background-color: #f0f8ff;}#sk-1e7fd75c-c8f8-4bae-b047-eaac3836a329 div.sk-toggleable__content pre {margin: 0.2em;color: black;border-radius: 0.25em;background-color: #f0f8ff;}#sk-1e7fd75c-c8f8-4bae-b047-eaac3836a329 input.sk-toggleable__control:checked~div.sk-toggleable__content {max-height: 200px;max-width: 100%;overflow: auto;}#sk-1e7fd75c-c8f8-4bae-b047-eaac3836a329 input.sk-toggleable__control:checked~label.sk-toggleable__label-arrow:before {content: \"▾\";}#sk-1e7fd75c-c8f8-4bae-b047-eaac3836a329 div.sk-estimator input.sk-toggleable__control:checked~label.sk-toggleable__label {background-color: #d4ebff;}#sk-1e7fd75c-c8f8-4bae-b047-eaac3836a329 div.sk-label input.sk-toggleable__control:checked~label.sk-toggleable__label {background-color: #d4ebff;}#sk-1e7fd75c-c8f8-4bae-b047-eaac3836a329 input.sk-hidden--visually {border: 0;clip: rect(1px 1px 1px 1px);clip: rect(1px, 1px, 1px, 1px);height: 1px;margin: -1px;overflow: hidden;padding: 0;position: absolute;width: 1px;}#sk-1e7fd75c-c8f8-4bae-b047-eaac3836a329 div.sk-estimator {font-family: monospace;background-color: #f0f8ff;border: 1px dotted black;border-radius: 0.25em;box-sizing: border-box;margin-bottom: 0.5em;}#sk-1e7fd75c-c8f8-4bae-b047-eaac3836a329 div.sk-estimator:hover {background-color: #d4ebff;}#sk-1e7fd75c-c8f8-4bae-b047-eaac3836a329 div.sk-parallel-item::after {content: \"\";width: 100%;border-bottom: 1px solid gray;flex-grow: 1;}#sk-1e7fd75c-c8f8-4bae-b047-eaac3836a329 div.sk-label:hover label.sk-toggleable__label {background-color: #d4ebff;}#sk-1e7fd75c-c8f8-4bae-b047-eaac3836a329 div.sk-serial::before {content: \"\";position: absolute;border-left: 1px solid gray;box-sizing: border-box;top: 2em;bottom: 0;left: 50%;}#sk-1e7fd75c-c8f8-4bae-b047-eaac3836a329 div.sk-serial {display: flex;flex-direction: column;align-items: center;background-color: white;padding-right: 0.2em;padding-left: 0.2em;}#sk-1e7fd75c-c8f8-4bae-b047-eaac3836a329 div.sk-item {z-index: 1;}#sk-1e7fd75c-c8f8-4bae-b047-eaac3836a329 div.sk-parallel {display: flex;align-items: stretch;justify-content: center;background-color: white;}#sk-1e7fd75c-c8f8-4bae-b047-eaac3836a329 div.sk-parallel::before {content: \"\";position: absolute;border-left: 1px solid gray;box-sizing: border-box;top: 2em;bottom: 0;left: 50%;}#sk-1e7fd75c-c8f8-4bae-b047-eaac3836a329 div.sk-parallel-item {display: flex;flex-direction: column;position: relative;background-color: white;}#sk-1e7fd75c-c8f8-4bae-b047-eaac3836a329 div.sk-parallel-item:first-child::after {align-self: flex-end;width: 50%;}#sk-1e7fd75c-c8f8-4bae-b047-eaac3836a329 div.sk-parallel-item:last-child::after {align-self: flex-start;width: 50%;}#sk-1e7fd75c-c8f8-4bae-b047-eaac3836a329 div.sk-parallel-item:only-child::after {width: 0;}#sk-1e7fd75c-c8f8-4bae-b047-eaac3836a329 div.sk-dashed-wrapped {border: 1px dashed gray;margin: 0 0.4em 0.5em 0.4em;box-sizing: border-box;padding-bottom: 0.4em;background-color: white;position: relative;}#sk-1e7fd75c-c8f8-4bae-b047-eaac3836a329 div.sk-label label {font-family: monospace;font-weight: bold;background-color: white;display: inline-block;line-height: 1.2em;}#sk-1e7fd75c-c8f8-4bae-b047-eaac3836a329 div.sk-label-container {position: relative;z-index: 2;text-align: center;}#sk-1e7fd75c-c8f8-4bae-b047-eaac3836a329 div.sk-container {/* jupyter's `normalize.less` sets `[hidden] { display: none; }` but bootstrap.min.css set `[hidden] { display: none !important; }` so we also need the `!important` here to be able to override the default hidden behavior on the sphinx rendered scikit-learn.org. See: https://github.com/scikit-learn/scikit-learn/issues/21755 */display: inline-block !important;position: relative;}#sk-1e7fd75c-c8f8-4bae-b047-eaac3836a329 div.sk-text-repr-fallback {display: none;}</style><div id=\"sk-1e7fd75c-c8f8-4bae-b047-eaac3836a329\" class=\"sk-top-container\"><div class=\"sk-text-repr-fallback\"><pre>Pipeline(steps=[(&#x27;preprocessor&#x27;,\n                 ColumnTransformer(transformers=[(&#x27;num&#x27;,\n                                                  Pipeline(steps=[(&#x27;normalizer&#x27;,\n                                                                   Normalizer())]),\n                                                  [&#x27;AccountAge&#x27;,\n                                                   &#x27;MonthlyCharges&#x27;,\n                                                   &#x27;TotalCharges&#x27;,\n                                                   &#x27;ViewingHoursPerWeek&#x27;,\n                                                   &#x27;AverageViewingDuration&#x27;,\n                                                   &#x27;ContentDownloadsPerMonth&#x27;,\n                                                   &#x27;UserRating&#x27;,\n                                                   &#x27;SupportTicketsPerMonth&#x27;,\n                                                   &#x27;WatchlistSize&#x27;]),\n                                                 (&#x27;cat&#x27;,\n                                                  Pipeline(steps=[(&#x27;encoder&#x27;,\n                                                                   CustomEncoder(categoric...\n                                           &#x27;MultiDeviceAccess_No&#x27;,\n                                           &#x27;MultiDeviceAccess_Yes&#x27;,\n                                           &#x27;DeviceRegistered_Computer&#x27;,\n                                           &#x27;DeviceRegistered_Mobile&#x27;,\n                                           &#x27;DeviceRegistered_TV&#x27;,\n                                           &#x27;DeviceRegistered_Tablet&#x27;,\n                                           &#x27;GenrePreference_Action&#x27;,\n                                           &#x27;GenrePreference_Comedy&#x27;,\n                                           &#x27;GenrePreference_Drama&#x27;,\n                                           &#x27;GenrePreference_Fantasy&#x27;,\n                                           &#x27;GenrePreference_Sci-Fi&#x27;,\n                                           &#x27;Gender_Female&#x27;, ...])),\n                (&#x27;resampler&#x27;, ConditionalResampler(apply_resampling=True))])</pre><b>Please rerun this cell to show the HTML repr or trust the notebook.</b></div><div class=\"sk-container\" hidden><div class=\"sk-item sk-dashed-wrapped\"><div class=\"sk-label-container\"><div class=\"sk-label sk-toggleable\"><input class=\"sk-toggleable__control sk-hidden--visually\" id=\"80e7f22c-7f51-4314-88bf-5b79c181b24f\" type=\"checkbox\" ><label for=\"80e7f22c-7f51-4314-88bf-5b79c181b24f\" class=\"sk-toggleable__label sk-toggleable__label-arrow\">Pipeline</label><div class=\"sk-toggleable__content\"><pre>Pipeline(steps=[(&#x27;preprocessor&#x27;,\n                 ColumnTransformer(transformers=[(&#x27;num&#x27;,\n                                                  Pipeline(steps=[(&#x27;normalizer&#x27;,\n                                                                   Normalizer())]),\n                                                  [&#x27;AccountAge&#x27;,\n                                                   &#x27;MonthlyCharges&#x27;,\n                                                   &#x27;TotalCharges&#x27;,\n                                                   &#x27;ViewingHoursPerWeek&#x27;,\n                                                   &#x27;AverageViewingDuration&#x27;,\n                                                   &#x27;ContentDownloadsPerMonth&#x27;,\n                                                   &#x27;UserRating&#x27;,\n                                                   &#x27;SupportTicketsPerMonth&#x27;,\n                                                   &#x27;WatchlistSize&#x27;]),\n                                                 (&#x27;cat&#x27;,\n                                                  Pipeline(steps=[(&#x27;encoder&#x27;,\n                                                                   CustomEncoder(categoric...\n                                           &#x27;MultiDeviceAccess_No&#x27;,\n                                           &#x27;MultiDeviceAccess_Yes&#x27;,\n                                           &#x27;DeviceRegistered_Computer&#x27;,\n                                           &#x27;DeviceRegistered_Mobile&#x27;,\n                                           &#x27;DeviceRegistered_TV&#x27;,\n                                           &#x27;DeviceRegistered_Tablet&#x27;,\n                                           &#x27;GenrePreference_Action&#x27;,\n                                           &#x27;GenrePreference_Comedy&#x27;,\n                                           &#x27;GenrePreference_Drama&#x27;,\n                                           &#x27;GenrePreference_Fantasy&#x27;,\n                                           &#x27;GenrePreference_Sci-Fi&#x27;,\n                                           &#x27;Gender_Female&#x27;, ...])),\n                (&#x27;resampler&#x27;, ConditionalResampler(apply_resampling=True))])</pre></div></div></div><div class=\"sk-serial\"><div class=\"sk-item sk-dashed-wrapped\"><div class=\"sk-label-container\"><div class=\"sk-label sk-toggleable\"><input class=\"sk-toggleable__control sk-hidden--visually\" id=\"ad2fd3e0-374c-46e7-9bf9-3902ab314339\" type=\"checkbox\" ><label for=\"ad2fd3e0-374c-46e7-9bf9-3902ab314339\" class=\"sk-toggleable__label sk-toggleable__label-arrow\">preprocessor: ColumnTransformer</label><div class=\"sk-toggleable__content\"><pre>ColumnTransformer(transformers=[(&#x27;num&#x27;,\n                                 Pipeline(steps=[(&#x27;normalizer&#x27;, Normalizer())]),\n                                 [&#x27;AccountAge&#x27;, &#x27;MonthlyCharges&#x27;,\n                                  &#x27;TotalCharges&#x27;, &#x27;ViewingHoursPerWeek&#x27;,\n                                  &#x27;AverageViewingDuration&#x27;,\n                                  &#x27;ContentDownloadsPerMonth&#x27;, &#x27;UserRating&#x27;,\n                                  &#x27;SupportTicketsPerMonth&#x27;, &#x27;WatchlistSize&#x27;]),\n                                (&#x27;cat&#x27;,\n                                 Pipeline(steps=[(&#x27;encoder&#x27;,\n                                                  CustomEncoder(categorical_columns=[&#x27;PaymentMethod&#x27;,\n                                                                                     &#x27;Pap...\n                                                                                     &#x27;ContentType&#x27;,\n                                                                                     &#x27;MultiDeviceAccess&#x27;,\n                                                                                     &#x27;DeviceRegistered&#x27;,\n                                                                                     &#x27;GenrePreference&#x27;,\n                                                                                     &#x27;Gender&#x27;,\n                                                                                     &#x27;ParentalControl&#x27;,\n                                                                                     &#x27;SubtitlesEnabled&#x27;],\n                                                                subscription_type_ordering=[&#x27;Basic&#x27;,\n                                                                                            &#x27;Standard&#x27;,\n                                                                                            &#x27;Premium&#x27;]))]),\n                                 [&#x27;PaymentMethod&#x27;, &#x27;PaperlessBilling&#x27;,\n                                  &#x27;ContentType&#x27;, &#x27;MultiDeviceAccess&#x27;,\n                                  &#x27;DeviceRegistered&#x27;, &#x27;GenrePreference&#x27;,\n                                  &#x27;Gender&#x27;, &#x27;ParentalControl&#x27;,\n                                  &#x27;SubtitlesEnabled&#x27;, &#x27;SubscriptionType&#x27;])])</pre></div></div></div><div class=\"sk-parallel\"><div class=\"sk-parallel-item\"><div class=\"sk-item\"><div class=\"sk-label-container\"><div class=\"sk-label sk-toggleable\"><input class=\"sk-toggleable__control sk-hidden--visually\" id=\"d2a0e26f-b09a-48ad-afc7-2377a947aee9\" type=\"checkbox\" ><label for=\"d2a0e26f-b09a-48ad-afc7-2377a947aee9\" class=\"sk-toggleable__label sk-toggleable__label-arrow\">num</label><div class=\"sk-toggleable__content\"><pre>[&#x27;AccountAge&#x27;, &#x27;MonthlyCharges&#x27;, &#x27;TotalCharges&#x27;, &#x27;ViewingHoursPerWeek&#x27;, &#x27;AverageViewingDuration&#x27;, &#x27;ContentDownloadsPerMonth&#x27;, &#x27;UserRating&#x27;, &#x27;SupportTicketsPerMonth&#x27;, &#x27;WatchlistSize&#x27;]</pre></div></div></div><div class=\"sk-serial\"><div class=\"sk-item\"><div class=\"sk-serial\"><div class=\"sk-item\"><div class=\"sk-estimator sk-toggleable\"><input class=\"sk-toggleable__control sk-hidden--visually\" id=\"b2cb9dae-68f8-418c-9aae-1a3bc4ea815a\" type=\"checkbox\" ><label for=\"b2cb9dae-68f8-418c-9aae-1a3bc4ea815a\" class=\"sk-toggleable__label sk-toggleable__label-arrow\">Normalizer</label><div class=\"sk-toggleable__content\"><pre>Normalizer()</pre></div></div></div></div></div></div></div></div><div class=\"sk-parallel-item\"><div class=\"sk-item\"><div class=\"sk-label-container\"><div class=\"sk-label sk-toggleable\"><input class=\"sk-toggleable__control sk-hidden--visually\" id=\"92319d5c-0986-4502-adb3-2befc07c2ee9\" type=\"checkbox\" ><label for=\"92319d5c-0986-4502-adb3-2befc07c2ee9\" class=\"sk-toggleable__label sk-toggleable__label-arrow\">cat</label><div class=\"sk-toggleable__content\"><pre>[&#x27;PaymentMethod&#x27;, &#x27;PaperlessBilling&#x27;, &#x27;ContentType&#x27;, &#x27;MultiDeviceAccess&#x27;, &#x27;DeviceRegistered&#x27;, &#x27;GenrePreference&#x27;, &#x27;Gender&#x27;, &#x27;ParentalControl&#x27;, &#x27;SubtitlesEnabled&#x27;, &#x27;SubscriptionType&#x27;]</pre></div></div></div><div class=\"sk-serial\"><div class=\"sk-item\"><div class=\"sk-serial\"><div class=\"sk-item\"><div class=\"sk-estimator sk-toggleable\"><input class=\"sk-toggleable__control sk-hidden--visually\" id=\"5a88756a-ea5d-456a-b8aa-76e98f4b3a3b\" type=\"checkbox\" ><label for=\"5a88756a-ea5d-456a-b8aa-76e98f4b3a3b\" class=\"sk-toggleable__label sk-toggleable__label-arrow\">CustomEncoder</label><div class=\"sk-toggleable__content\"><pre>CustomEncoder(categorical_columns=[&#x27;PaymentMethod&#x27;, &#x27;PaperlessBilling&#x27;,\n                                   &#x27;ContentType&#x27;, &#x27;MultiDeviceAccess&#x27;,\n                                   &#x27;DeviceRegistered&#x27;, &#x27;GenrePreference&#x27;,\n                                   &#x27;Gender&#x27;, &#x27;ParentalControl&#x27;,\n                                   &#x27;SubtitlesEnabled&#x27;],\n              subscription_type_ordering=[&#x27;Basic&#x27;, &#x27;Standard&#x27;, &#x27;Premium&#x27;])</pre></div></div></div></div></div></div></div></div></div></div><div class=\"sk-item\"><div class=\"sk-estimator sk-toggleable\"><input class=\"sk-toggleable__control sk-hidden--visually\" id=\"e63e5bc3-2ec7-4794-b7ea-40d0cf249dee\" type=\"checkbox\" ><label for=\"e63e5bc3-2ec7-4794-b7ea-40d0cf249dee\" class=\"sk-toggleable__label sk-toggleable__label-arrow\">ToDataFrame</label><div class=\"sk-toggleable__content\"><pre>ToDataFrame(column_names=[&#x27;AccountAge&#x27;, &#x27;MonthlyCharges&#x27;, &#x27;TotalCharges&#x27;,\n                          &#x27;ViewingHoursPerWeek&#x27;, &#x27;AverageViewingDuration&#x27;,\n                          &#x27;ContentDownloadsPerMonth&#x27;, &#x27;UserRating&#x27;,\n                          &#x27;SupportTicketsPerMonth&#x27;, &#x27;WatchlistSize&#x27;,\n                          &#x27;PaymentMethod_Bank transfer&#x27;,\n                          &#x27;PaymentMethod_Credit card&#x27;,\n                          &#x27;PaymentMethod_Electronic check&#x27;,\n                          &#x27;PaymentMethod_Mailed check&#x27;, &#x27;PaperlessBilling_No&#x27;,\n                          &#x27;PaperlessBil...tType_Both&#x27;,\n                          &#x27;ContentType_Movies&#x27;, &#x27;ContentType_TV Shows&#x27;,\n                          &#x27;MultiDeviceAccess_No&#x27;, &#x27;MultiDeviceAccess_Yes&#x27;,\n                          &#x27;DeviceRegistered_Computer&#x27;,\n                          &#x27;DeviceRegistered_Mobile&#x27;, &#x27;DeviceRegistered_TV&#x27;,\n                          &#x27;DeviceRegistered_Tablet&#x27;, &#x27;GenrePreference_Action&#x27;,\n                          &#x27;GenrePreference_Comedy&#x27;, &#x27;GenrePreference_Drama&#x27;,\n                          &#x27;GenrePreference_Fantasy&#x27;, &#x27;GenrePreference_Sci-Fi&#x27;,\n                          &#x27;Gender_Female&#x27;, ...])</pre></div></div></div><div class=\"sk-item sk-dashed-wrapped\"><div class=\"sk-label-container\"><div class=\"sk-label sk-toggleable\"><input class=\"sk-toggleable__control sk-hidden--visually\" id=\"b8127bca-1399-422c-b5fc-79d559a470b9\" type=\"checkbox\" ><label for=\"b8127bca-1399-422c-b5fc-79d559a470b9\" class=\"sk-toggleable__label sk-toggleable__label-arrow\">resampler: ConditionalResampler</label><div class=\"sk-toggleable__content\"><pre>ConditionalResampler(apply_resampling=True)</pre></div></div></div><div class=\"sk-parallel\"><div class=\"sk-parallel-item\"><div class=\"sk-item\"><div class=\"sk-serial\"><div class=\"sk-item\"><div class=\"sk-estimator sk-toggleable\"><input class=\"sk-toggleable__control sk-hidden--visually\" id=\"10caa3a6-62e0-4f2a-b05e-4be54e08c4f4\" type=\"checkbox\" ><label for=\"10caa3a6-62e0-4f2a-b05e-4be54e08c4f4\" class=\"sk-toggleable__label sk-toggleable__label-arrow\">ADASYN</label><div class=\"sk-toggleable__content\"><pre>ADASYN(random_state=42)</pre></div></div></div></div></div></div></div></div></div></div></div></div>",
       "datasetInfos": [],
       "metadata": {},
       "removedWidgets": [],
       "textData": null,
       "type": "htmlSandbox"
      }
     },
     "output_type": "display_data"
    }
   ],
   "source": [
    "pre_resample_pipeline"
   ]
  },
  {
   "cell_type": "code",
   "execution_count": 0,
   "metadata": {
    "application/vnd.databricks.v1+cell": {
     "cellMetadata": {
      "byteLimit": 2048000,
      "rowLimit": 10000
     },
     "inputWidgets": {},
     "nuid": "525948b4-e53e-4201-9bcb-09354b693925",
     "showTitle": false,
     "title": ""
    },
    "execution": {
     "iopub.execute_input": "2024-03-26T14:06:28.293148Z",
     "iopub.status.busy": "2024-03-26T14:06:28.292226Z",
     "iopub.status.idle": "2024-03-26T14:13:29.660076Z",
     "shell.execute_reply": "2024-03-26T14:13:29.658813Z",
     "shell.execute_reply.started": "2024-03-26T14:06:28.293104Z"
    },
    "trusted": true
   },
   "outputs": [],
   "source": [
    "# Fit and apply the first stage\n",
    "X_resampled, y_resampled = pre_resample_pipeline.fit_resample(X_train, y_train)\n",
    "\n",
    "# Apply the ToDataFrameAfterResample transformer manually\n",
    "dataframe_transformer = ToDataFrameAfterResample(feature_names=output_column_names, target_name='Churn')\n",
    "resampled_dataframe = dataframe_transformer.transform(X_resampled, y_resampled)"
   ]
  },
  {
   "cell_type": "code",
   "execution_count": 0,
   "metadata": {
    "application/vnd.databricks.v1+cell": {
     "cellMetadata": {
      "byteLimit": 2048000,
      "rowLimit": 10000
     },
     "inputWidgets": {},
     "nuid": "9acb7c36-7061-44fa-8a6a-09a3e96ac593",
     "showTitle": false,
     "title": ""
    },
    "execution": {
     "iopub.execute_input": "2024-03-26T14:15:47.134106Z",
     "iopub.status.busy": "2024-03-26T14:15:47.133599Z",
     "iopub.status.idle": "2024-03-26T14:15:47.145184Z",
     "shell.execute_reply": "2024-03-26T14:15:47.143918Z",
     "shell.execute_reply.started": "2024-03-26T14:15:47.134063Z"
    },
    "trusted": true
   },
   "outputs": [],
   "source": [
    "from sklearn.base import BaseEstimator, TransformerMixin\n",
    "\n",
    "class FeatureSelector(BaseEstimator, TransformerMixin):\n",
    "    def __init__(self, feature_names):\n",
    "        self.feature_names = feature_names\n",
    "\n",
    "    def fit(self, X, y=None):\n",
    "        # No fitting necessary for feature selection\n",
    "        if isinstance(X, pd.DataFrame):\n",
    "            # If X is a DataFrame, store the column indices that correspond to the feature_names\n",
    "            self.feature_indices_ = [X.columns.get_loc(name) for name in self.feature_names]\n",
    "        else:\n",
    "            # Assuming the order of columns in the NumPy array matches the order of feature names\n",
    "            # Feature indices will simply be a range if X is not a DataFrame at fit time\n",
    "            self.feature_indices_ = list(range(len(self.feature_names)))\n",
    "        return self\n",
    "\n",
    "    def transform(self, X, y=None):\n",
    "        # Handle both DataFrame and NumPy array\n",
    "        if isinstance(X, pd.DataFrame):\n",
    "            return X[self.feature_names]\n",
    "        elif isinstance(X, np.ndarray):\n",
    "            # If X is an array, use the feature indices that were stored during fit\n",
    "            return X[:, self.feature_indices_]\n",
    "        else:\n",
    "            raise TypeError(\"Input must be a pandas DataFrame or a numpy ndarray.\")\n",
    "            \n",
    "pca_features = [\n",
    "    'MonthlyCharges', 'SupportTicketsPerMonth', 'UserRating', \n",
    "    'WatchlistSize', 'AccountAge', 'TotalCharges', \n",
    "    'ViewingHoursPerWeek', 'ContentDownloadsPerMonth', \n",
    "    'AverageViewingDuration'\n",
    "]\n",
    "\n",
    "pca_pipeline = Pipeline(steps=[\n",
    "    ('feature_selector', FeatureSelector(feature_names=pca_features)),\n",
    "    ('scaler', StandardScaler()),\n",
    "    ('pca', PCA(n_components=9))\n",
    "])\n"
   ]
  },
  {
   "cell_type": "code",
   "execution_count": 0,
   "metadata": {
    "application/vnd.databricks.v1+cell": {
     "cellMetadata": {
      "byteLimit": 2048000,
      "rowLimit": 10000
     },
     "inputWidgets": {},
     "nuid": "956ed91d-9d99-45d4-a037-834cfa4b83c0",
     "showTitle": false,
     "title": ""
    },
    "execution": {
     "iopub.execute_input": "2024-03-26T14:15:49.621498Z",
     "iopub.status.busy": "2024-03-26T14:15:49.620967Z",
     "iopub.status.idle": "2024-03-26T14:15:49.629855Z",
     "shell.execute_reply": "2024-03-26T14:15:49.627950Z",
     "shell.execute_reply.started": "2024-03-26T14:15:49.621458Z"
    },
    "trusted": true
   },
   "outputs": [],
   "source": [
    "# Using FunctionTransformer to create a no-op (no operation) pipeline step\n",
    "encoded_features = [\n",
    "    'SubscriptionTypeEncoded','PaymentMethod_Bank transfer','PaymentMethod_Credit card',\n",
    "    'PaymentMethod_Electronic check','PaymentMethod_Mailed check','PaperlessBilling_No',\n",
    "    'PaperlessBilling_Yes','ContentType_Both','ContentType_Movies',\n",
    "    'ContentType_TV Shows','MultiDeviceAccess_No','MultiDeviceAccess_Yes',\n",
    "    'DeviceRegistered_Computer','DeviceRegistered_Mobile','DeviceRegistered_TV',\n",
    "    'DeviceRegistered_Tablet','GenrePreference_Action','GenrePreference_Comedy',\n",
    "    'GenrePreference_Drama','GenrePreference_Fantasy','GenrePreference_Sci-Fi',\n",
    "    'Gender_Female','Gender_Male','ParentalControl_No',\n",
    "    'ParentalControl_Yes','SubtitlesEnabled_No','SubtitlesEnabled_Yes'\n",
    "]\n",
    "\n",
    "# No-op pipeline for encoded features\n",
    "pass_through_pipeline = Pipeline([\n",
    "    ('identity', FunctionTransformer())  # validate=False is used as we're not checking for NaNs or infinities\n",
    "])"
   ]
  },
  {
   "cell_type": "code",
   "execution_count": 0,
   "metadata": {
    "application/vnd.databricks.v1+cell": {
     "cellMetadata": {
      "byteLimit": 2048000,
      "rowLimit": 10000
     },
     "inputWidgets": {},
     "nuid": "aabc47bf-6c00-4423-8596-f95d30744457",
     "showTitle": false,
     "title": ""
    },
    "execution": {
     "iopub.execute_input": "2024-03-26T14:15:52.973427Z",
     "iopub.status.busy": "2024-03-26T14:15:52.972985Z",
     "iopub.status.idle": "2024-03-26T14:15:52.979571Z",
     "shell.execute_reply": "2024-03-26T14:15:52.978226Z",
     "shell.execute_reply.started": "2024-03-26T14:15:52.973377Z"
    },
    "trusted": true
   },
   "outputs": [],
   "source": [
    "combined_features_pipeline = ColumnTransformer(transformers=[\n",
    "    ('pca_features', pca_pipeline, pca_features),\n",
    "    ('encoded_features', pass_through_pipeline, encoded_features)\n",
    "], remainder='drop')"
   ]
  },
  {
   "cell_type": "code",
   "execution_count": 0,
   "metadata": {
    "application/vnd.databricks.v1+cell": {
     "cellMetadata": {
      "byteLimit": 2048000,
      "rowLimit": 10000
     },
     "inputWidgets": {},
     "nuid": "836e277f-7b25-47f0-8075-81f86d4ebab9",
     "showTitle": false,
     "title": ""
    },
    "execution": {
     "iopub.execute_input": "2024-03-26T16:44:25.479425Z",
     "iopub.status.busy": "2024-03-26T16:44:25.478531Z",
     "iopub.status.idle": "2024-03-26T16:44:25.511282Z",
     "shell.execute_reply": "2024-03-26T16:44:25.509819Z",
     "shell.execute_reply.started": "2024-03-26T16:44:25.479370Z"
    },
    "trusted": true
   },
   "outputs": [
    {
     "output_type": "display_data",
     "data": {
      "text/html": [
       "<style>#sk-5ce65929-ff8c-4f82-bdaa-547743a83006 {color: black;background-color: white;}#sk-5ce65929-ff8c-4f82-bdaa-547743a83006 pre{padding: 0;}#sk-5ce65929-ff8c-4f82-bdaa-547743a83006 div.sk-toggleable {background-color: white;}#sk-5ce65929-ff8c-4f82-bdaa-547743a83006 label.sk-toggleable__label {cursor: pointer;display: block;width: 100%;margin-bottom: 0;padding: 0.3em;box-sizing: border-box;text-align: center;}#sk-5ce65929-ff8c-4f82-bdaa-547743a83006 label.sk-toggleable__label-arrow:before {content: \"▸\";float: left;margin-right: 0.25em;color: #696969;}#sk-5ce65929-ff8c-4f82-bdaa-547743a83006 label.sk-toggleable__label-arrow:hover:before {color: black;}#sk-5ce65929-ff8c-4f82-bdaa-547743a83006 div.sk-estimator:hover label.sk-toggleable__label-arrow:before {color: black;}#sk-5ce65929-ff8c-4f82-bdaa-547743a83006 div.sk-toggleable__content {max-height: 0;max-width: 0;overflow: hidden;text-align: left;background-color: #f0f8ff;}#sk-5ce65929-ff8c-4f82-bdaa-547743a83006 div.sk-toggleable__content pre {margin: 0.2em;color: black;border-radius: 0.25em;background-color: #f0f8ff;}#sk-5ce65929-ff8c-4f82-bdaa-547743a83006 input.sk-toggleable__control:checked~div.sk-toggleable__content {max-height: 200px;max-width: 100%;overflow: auto;}#sk-5ce65929-ff8c-4f82-bdaa-547743a83006 input.sk-toggleable__control:checked~label.sk-toggleable__label-arrow:before {content: \"▾\";}#sk-5ce65929-ff8c-4f82-bdaa-547743a83006 div.sk-estimator input.sk-toggleable__control:checked~label.sk-toggleable__label {background-color: #d4ebff;}#sk-5ce65929-ff8c-4f82-bdaa-547743a83006 div.sk-label input.sk-toggleable__control:checked~label.sk-toggleable__label {background-color: #d4ebff;}#sk-5ce65929-ff8c-4f82-bdaa-547743a83006 input.sk-hidden--visually {border: 0;clip: rect(1px 1px 1px 1px);clip: rect(1px, 1px, 1px, 1px);height: 1px;margin: -1px;overflow: hidden;padding: 0;position: absolute;width: 1px;}#sk-5ce65929-ff8c-4f82-bdaa-547743a83006 div.sk-estimator {font-family: monospace;background-color: #f0f8ff;border: 1px dotted black;border-radius: 0.25em;box-sizing: border-box;margin-bottom: 0.5em;}#sk-5ce65929-ff8c-4f82-bdaa-547743a83006 div.sk-estimator:hover {background-color: #d4ebff;}#sk-5ce65929-ff8c-4f82-bdaa-547743a83006 div.sk-parallel-item::after {content: \"\";width: 100%;border-bottom: 1px solid gray;flex-grow: 1;}#sk-5ce65929-ff8c-4f82-bdaa-547743a83006 div.sk-label:hover label.sk-toggleable__label {background-color: #d4ebff;}#sk-5ce65929-ff8c-4f82-bdaa-547743a83006 div.sk-serial::before {content: \"\";position: absolute;border-left: 1px solid gray;box-sizing: border-box;top: 2em;bottom: 0;left: 50%;}#sk-5ce65929-ff8c-4f82-bdaa-547743a83006 div.sk-serial {display: flex;flex-direction: column;align-items: center;background-color: white;padding-right: 0.2em;padding-left: 0.2em;}#sk-5ce65929-ff8c-4f82-bdaa-547743a83006 div.sk-item {z-index: 1;}#sk-5ce65929-ff8c-4f82-bdaa-547743a83006 div.sk-parallel {display: flex;align-items: stretch;justify-content: center;background-color: white;}#sk-5ce65929-ff8c-4f82-bdaa-547743a83006 div.sk-parallel::before {content: \"\";position: absolute;border-left: 1px solid gray;box-sizing: border-box;top: 2em;bottom: 0;left: 50%;}#sk-5ce65929-ff8c-4f82-bdaa-547743a83006 div.sk-parallel-item {display: flex;flex-direction: column;position: relative;background-color: white;}#sk-5ce65929-ff8c-4f82-bdaa-547743a83006 div.sk-parallel-item:first-child::after {align-self: flex-end;width: 50%;}#sk-5ce65929-ff8c-4f82-bdaa-547743a83006 div.sk-parallel-item:last-child::after {align-self: flex-start;width: 50%;}#sk-5ce65929-ff8c-4f82-bdaa-547743a83006 div.sk-parallel-item:only-child::after {width: 0;}#sk-5ce65929-ff8c-4f82-bdaa-547743a83006 div.sk-dashed-wrapped {border: 1px dashed gray;margin: 0 0.4em 0.5em 0.4em;box-sizing: border-box;padding-bottom: 0.4em;background-color: white;position: relative;}#sk-5ce65929-ff8c-4f82-bdaa-547743a83006 div.sk-label label {font-family: monospace;font-weight: bold;background-color: white;display: inline-block;line-height: 1.2em;}#sk-5ce65929-ff8c-4f82-bdaa-547743a83006 div.sk-label-container {position: relative;z-index: 2;text-align: center;}#sk-5ce65929-ff8c-4f82-bdaa-547743a83006 div.sk-container {/* jupyter's `normalize.less` sets `[hidden] { display: none; }` but bootstrap.min.css set `[hidden] { display: none !important; }` so we also need the `!important` here to be able to override the default hidden behavior on the sphinx rendered scikit-learn.org. See: https://github.com/scikit-learn/scikit-learn/issues/21755 */display: inline-block !important;position: relative;}#sk-5ce65929-ff8c-4f82-bdaa-547743a83006 div.sk-text-repr-fallback {display: none;}</style><div id=\"sk-5ce65929-ff8c-4f82-bdaa-547743a83006\" class=\"sk-top-container\"><div class=\"sk-text-repr-fallback\"><pre>ColumnTransformer(transformers=[(&#x27;pca_features&#x27;,\n",
       "                                 Pipeline(steps=[(&#x27;feature_selector&#x27;,\n",
       "                                                  FeatureSelector(feature_names=[&#x27;MonthlyCharges&#x27;,\n",
       "                                                                                 &#x27;SupportTicketsPerMonth&#x27;,\n",
       "                                                                                 &#x27;UserRating&#x27;,\n",
       "                                                                                 &#x27;WatchlistSize&#x27;,\n",
       "                                                                                 &#x27;AccountAge&#x27;,\n",
       "                                                                                 &#x27;TotalCharges&#x27;,\n",
       "                                                                                 &#x27;ViewingHoursPerWeek&#x27;,\n",
       "                                                                                 &#x27;ContentDownloadsPerMonth&#x27;,\n",
       "                                                                                 &#x27;AverageViewingDuration&#x27;])),\n",
       "                                                 (&#x27;scaler&#x27;, StandardScaler()),\n",
       "                                                 (&#x27;pca&#x27;, PCA(n_components=9))]),\n",
       "                                 [...\n",
       "                                  &#x27;MultiDeviceAccess_Yes&#x27;,\n",
       "                                  &#x27;DeviceRegistered_Computer&#x27;,\n",
       "                                  &#x27;DeviceRegistered_Mobile&#x27;,\n",
       "                                  &#x27;DeviceRegistered_TV&#x27;,\n",
       "                                  &#x27;DeviceRegistered_Tablet&#x27;,\n",
       "                                  &#x27;GenrePreference_Action&#x27;,\n",
       "                                  &#x27;GenrePreference_Comedy&#x27;,\n",
       "                                  &#x27;GenrePreference_Drama&#x27;,\n",
       "                                  &#x27;GenrePreference_Fantasy&#x27;,\n",
       "                                  &#x27;GenrePreference_Sci-Fi&#x27;, &#x27;Gender_Female&#x27;,\n",
       "                                  &#x27;Gender_Male&#x27;, &#x27;ParentalControl_No&#x27;,\n",
       "                                  &#x27;ParentalControl_Yes&#x27;, &#x27;SubtitlesEnabled_No&#x27;,\n",
       "                                  &#x27;SubtitlesEnabled_Yes&#x27;])])</pre><b>Please rerun this cell to show the HTML repr or trust the notebook.</b></div><div class=\"sk-container\" hidden><div class=\"sk-item sk-dashed-wrapped\"><div class=\"sk-label-container\"><div class=\"sk-label sk-toggleable\"><input class=\"sk-toggleable__control sk-hidden--visually\" id=\"333764f3-bf35-42ed-bf9f-b5a5fbf1cd8c\" type=\"checkbox\" ><label for=\"333764f3-bf35-42ed-bf9f-b5a5fbf1cd8c\" class=\"sk-toggleable__label sk-toggleable__label-arrow\">ColumnTransformer</label><div class=\"sk-toggleable__content\"><pre>ColumnTransformer(transformers=[(&#x27;pca_features&#x27;,\n",
       "                                 Pipeline(steps=[(&#x27;feature_selector&#x27;,\n",
       "                                                  FeatureSelector(feature_names=[&#x27;MonthlyCharges&#x27;,\n",
       "                                                                                 &#x27;SupportTicketsPerMonth&#x27;,\n",
       "                                                                                 &#x27;UserRating&#x27;,\n",
       "                                                                                 &#x27;WatchlistSize&#x27;,\n",
       "                                                                                 &#x27;AccountAge&#x27;,\n",
       "                                                                                 &#x27;TotalCharges&#x27;,\n",
       "                                                                                 &#x27;ViewingHoursPerWeek&#x27;,\n",
       "                                                                                 &#x27;ContentDownloadsPerMonth&#x27;,\n",
       "                                                                                 &#x27;AverageViewingDuration&#x27;])),\n",
       "                                                 (&#x27;scaler&#x27;, StandardScaler()),\n",
       "                                                 (&#x27;pca&#x27;, PCA(n_components=9))]),\n",
       "                                 [...\n",
       "                                  &#x27;MultiDeviceAccess_Yes&#x27;,\n",
       "                                  &#x27;DeviceRegistered_Computer&#x27;,\n",
       "                                  &#x27;DeviceRegistered_Mobile&#x27;,\n",
       "                                  &#x27;DeviceRegistered_TV&#x27;,\n",
       "                                  &#x27;DeviceRegistered_Tablet&#x27;,\n",
       "                                  &#x27;GenrePreference_Action&#x27;,\n",
       "                                  &#x27;GenrePreference_Comedy&#x27;,\n",
       "                                  &#x27;GenrePreference_Drama&#x27;,\n",
       "                                  &#x27;GenrePreference_Fantasy&#x27;,\n",
       "                                  &#x27;GenrePreference_Sci-Fi&#x27;, &#x27;Gender_Female&#x27;,\n",
       "                                  &#x27;Gender_Male&#x27;, &#x27;ParentalControl_No&#x27;,\n",
       "                                  &#x27;ParentalControl_Yes&#x27;, &#x27;SubtitlesEnabled_No&#x27;,\n",
       "                                  &#x27;SubtitlesEnabled_Yes&#x27;])])</pre></div></div></div><div class=\"sk-parallel\"><div class=\"sk-parallel-item\"><div class=\"sk-item\"><div class=\"sk-label-container\"><div class=\"sk-label sk-toggleable\"><input class=\"sk-toggleable__control sk-hidden--visually\" id=\"35b05f8c-b96e-4739-b38b-da59be905f1a\" type=\"checkbox\" ><label for=\"35b05f8c-b96e-4739-b38b-da59be905f1a\" class=\"sk-toggleable__label sk-toggleable__label-arrow\">pca_features</label><div class=\"sk-toggleable__content\"><pre>[&#x27;MonthlyCharges&#x27;, &#x27;SupportTicketsPerMonth&#x27;, &#x27;UserRating&#x27;, &#x27;WatchlistSize&#x27;, &#x27;AccountAge&#x27;, &#x27;TotalCharges&#x27;, &#x27;ViewingHoursPerWeek&#x27;, &#x27;ContentDownloadsPerMonth&#x27;, &#x27;AverageViewingDuration&#x27;]</pre></div></div></div><div class=\"sk-serial\"><div class=\"sk-item\"><div class=\"sk-serial\"><div class=\"sk-item\"><div class=\"sk-estimator sk-toggleable\"><input class=\"sk-toggleable__control sk-hidden--visually\" id=\"0c924b04-50e7-4cab-9157-f950abbb117f\" type=\"checkbox\" ><label for=\"0c924b04-50e7-4cab-9157-f950abbb117f\" class=\"sk-toggleable__label sk-toggleable__label-arrow\">FeatureSelector</label><div class=\"sk-toggleable__content\"><pre>FeatureSelector(feature_names=[&#x27;MonthlyCharges&#x27;, &#x27;SupportTicketsPerMonth&#x27;,\n",
       "                               &#x27;UserRating&#x27;, &#x27;WatchlistSize&#x27;, &#x27;AccountAge&#x27;,\n",
       "                               &#x27;TotalCharges&#x27;, &#x27;ViewingHoursPerWeek&#x27;,\n",
       "                               &#x27;ContentDownloadsPerMonth&#x27;,\n",
       "                               &#x27;AverageViewingDuration&#x27;])</pre></div></div></div><div class=\"sk-item\"><div class=\"sk-estimator sk-toggleable\"><input class=\"sk-toggleable__control sk-hidden--visually\" id=\"dd194064-82ea-4072-aa0c-1a890c91c4c0\" type=\"checkbox\" ><label for=\"dd194064-82ea-4072-aa0c-1a890c91c4c0\" class=\"sk-toggleable__label sk-toggleable__label-arrow\">StandardScaler</label><div class=\"sk-toggleable__content\"><pre>StandardScaler()</pre></div></div></div><div class=\"sk-item\"><div class=\"sk-estimator sk-toggleable\"><input class=\"sk-toggleable__control sk-hidden--visually\" id=\"aab6d985-b386-43be-9eef-c5fbcb2e3d92\" type=\"checkbox\" ><label for=\"aab6d985-b386-43be-9eef-c5fbcb2e3d92\" class=\"sk-toggleable__label sk-toggleable__label-arrow\">PCA</label><div class=\"sk-toggleable__content\"><pre>PCA(n_components=9)</pre></div></div></div></div></div></div></div></div><div class=\"sk-parallel-item\"><div class=\"sk-item\"><div class=\"sk-label-container\"><div class=\"sk-label sk-toggleable\"><input class=\"sk-toggleable__control sk-hidden--visually\" id=\"3f6e7578-202b-4190-8ea0-09fb012d72b5\" type=\"checkbox\" ><label for=\"3f6e7578-202b-4190-8ea0-09fb012d72b5\" class=\"sk-toggleable__label sk-toggleable__label-arrow\">encoded_features</label><div class=\"sk-toggleable__content\"><pre>[&#x27;SubscriptionTypeEncoded&#x27;, &#x27;PaymentMethod_Bank transfer&#x27;, &#x27;PaymentMethod_Credit card&#x27;, &#x27;PaymentMethod_Electronic check&#x27;, &#x27;PaymentMethod_Mailed check&#x27;, &#x27;PaperlessBilling_No&#x27;, &#x27;PaperlessBilling_Yes&#x27;, &#x27;ContentType_Both&#x27;, &#x27;ContentType_Movies&#x27;, &#x27;ContentType_TV Shows&#x27;, &#x27;MultiDeviceAccess_No&#x27;, &#x27;MultiDeviceAccess_Yes&#x27;, &#x27;DeviceRegistered_Computer&#x27;, &#x27;DeviceRegistered_Mobile&#x27;, &#x27;DeviceRegistered_TV&#x27;, &#x27;DeviceRegistered_Tablet&#x27;, &#x27;GenrePreference_Action&#x27;, &#x27;GenrePreference_Comedy&#x27;, &#x27;GenrePreference_Drama&#x27;, &#x27;GenrePreference_Fantasy&#x27;, &#x27;GenrePreference_Sci-Fi&#x27;, &#x27;Gender_Female&#x27;, &#x27;Gender_Male&#x27;, &#x27;ParentalControl_No&#x27;, &#x27;ParentalControl_Yes&#x27;, &#x27;SubtitlesEnabled_No&#x27;, &#x27;SubtitlesEnabled_Yes&#x27;]</pre></div></div></div><div class=\"sk-serial\"><div class=\"sk-item\"><div class=\"sk-serial\"><div class=\"sk-item\"><div class=\"sk-estimator sk-toggleable\"><input class=\"sk-toggleable__control sk-hidden--visually\" id=\"e18c7272-4254-4d38-be46-58587037fcb4\" type=\"checkbox\" ><label for=\"e18c7272-4254-4d38-be46-58587037fcb4\" class=\"sk-toggleable__label sk-toggleable__label-arrow\">FunctionTransformer</label><div class=\"sk-toggleable__content\"><pre>FunctionTransformer()</pre></div></div></div></div></div></div></div></div></div></div></div></div>"
      ]
     },
     "metadata": {
      "application/vnd.databricks.v1+output": {
       "addedWidgets": {},
       "arguments": {},
       "data": "<style>#sk-5ce65929-ff8c-4f82-bdaa-547743a83006 {color: black;background-color: white;}#sk-5ce65929-ff8c-4f82-bdaa-547743a83006 pre{padding: 0;}#sk-5ce65929-ff8c-4f82-bdaa-547743a83006 div.sk-toggleable {background-color: white;}#sk-5ce65929-ff8c-4f82-bdaa-547743a83006 label.sk-toggleable__label {cursor: pointer;display: block;width: 100%;margin-bottom: 0;padding: 0.3em;box-sizing: border-box;text-align: center;}#sk-5ce65929-ff8c-4f82-bdaa-547743a83006 label.sk-toggleable__label-arrow:before {content: \"▸\";float: left;margin-right: 0.25em;color: #696969;}#sk-5ce65929-ff8c-4f82-bdaa-547743a83006 label.sk-toggleable__label-arrow:hover:before {color: black;}#sk-5ce65929-ff8c-4f82-bdaa-547743a83006 div.sk-estimator:hover label.sk-toggleable__label-arrow:before {color: black;}#sk-5ce65929-ff8c-4f82-bdaa-547743a83006 div.sk-toggleable__content {max-height: 0;max-width: 0;overflow: hidden;text-align: left;background-color: #f0f8ff;}#sk-5ce65929-ff8c-4f82-bdaa-547743a83006 div.sk-toggleable__content pre {margin: 0.2em;color: black;border-radius: 0.25em;background-color: #f0f8ff;}#sk-5ce65929-ff8c-4f82-bdaa-547743a83006 input.sk-toggleable__control:checked~div.sk-toggleable__content {max-height: 200px;max-width: 100%;overflow: auto;}#sk-5ce65929-ff8c-4f82-bdaa-547743a83006 input.sk-toggleable__control:checked~label.sk-toggleable__label-arrow:before {content: \"▾\";}#sk-5ce65929-ff8c-4f82-bdaa-547743a83006 div.sk-estimator input.sk-toggleable__control:checked~label.sk-toggleable__label {background-color: #d4ebff;}#sk-5ce65929-ff8c-4f82-bdaa-547743a83006 div.sk-label input.sk-toggleable__control:checked~label.sk-toggleable__label {background-color: #d4ebff;}#sk-5ce65929-ff8c-4f82-bdaa-547743a83006 input.sk-hidden--visually {border: 0;clip: rect(1px 1px 1px 1px);clip: rect(1px, 1px, 1px, 1px);height: 1px;margin: -1px;overflow: hidden;padding: 0;position: absolute;width: 1px;}#sk-5ce65929-ff8c-4f82-bdaa-547743a83006 div.sk-estimator {font-family: monospace;background-color: #f0f8ff;border: 1px dotted black;border-radius: 0.25em;box-sizing: border-box;margin-bottom: 0.5em;}#sk-5ce65929-ff8c-4f82-bdaa-547743a83006 div.sk-estimator:hover {background-color: #d4ebff;}#sk-5ce65929-ff8c-4f82-bdaa-547743a83006 div.sk-parallel-item::after {content: \"\";width: 100%;border-bottom: 1px solid gray;flex-grow: 1;}#sk-5ce65929-ff8c-4f82-bdaa-547743a83006 div.sk-label:hover label.sk-toggleable__label {background-color: #d4ebff;}#sk-5ce65929-ff8c-4f82-bdaa-547743a83006 div.sk-serial::before {content: \"\";position: absolute;border-left: 1px solid gray;box-sizing: border-box;top: 2em;bottom: 0;left: 50%;}#sk-5ce65929-ff8c-4f82-bdaa-547743a83006 div.sk-serial {display: flex;flex-direction: column;align-items: center;background-color: white;padding-right: 0.2em;padding-left: 0.2em;}#sk-5ce65929-ff8c-4f82-bdaa-547743a83006 div.sk-item {z-index: 1;}#sk-5ce65929-ff8c-4f82-bdaa-547743a83006 div.sk-parallel {display: flex;align-items: stretch;justify-content: center;background-color: white;}#sk-5ce65929-ff8c-4f82-bdaa-547743a83006 div.sk-parallel::before {content: \"\";position: absolute;border-left: 1px solid gray;box-sizing: border-box;top: 2em;bottom: 0;left: 50%;}#sk-5ce65929-ff8c-4f82-bdaa-547743a83006 div.sk-parallel-item {display: flex;flex-direction: column;position: relative;background-color: white;}#sk-5ce65929-ff8c-4f82-bdaa-547743a83006 div.sk-parallel-item:first-child::after {align-self: flex-end;width: 50%;}#sk-5ce65929-ff8c-4f82-bdaa-547743a83006 div.sk-parallel-item:last-child::after {align-self: flex-start;width: 50%;}#sk-5ce65929-ff8c-4f82-bdaa-547743a83006 div.sk-parallel-item:only-child::after {width: 0;}#sk-5ce65929-ff8c-4f82-bdaa-547743a83006 div.sk-dashed-wrapped {border: 1px dashed gray;margin: 0 0.4em 0.5em 0.4em;box-sizing: border-box;padding-bottom: 0.4em;background-color: white;position: relative;}#sk-5ce65929-ff8c-4f82-bdaa-547743a83006 div.sk-label label {font-family: monospace;font-weight: bold;background-color: white;display: inline-block;line-height: 1.2em;}#sk-5ce65929-ff8c-4f82-bdaa-547743a83006 div.sk-label-container {position: relative;z-index: 2;text-align: center;}#sk-5ce65929-ff8c-4f82-bdaa-547743a83006 div.sk-container {/* jupyter's `normalize.less` sets `[hidden] { display: none; }` but bootstrap.min.css set `[hidden] { display: none !important; }` so we also need the `!important` here to be able to override the default hidden behavior on the sphinx rendered scikit-learn.org. See: https://github.com/scikit-learn/scikit-learn/issues/21755 */display: inline-block !important;position: relative;}#sk-5ce65929-ff8c-4f82-bdaa-547743a83006 div.sk-text-repr-fallback {display: none;}</style><div id=\"sk-5ce65929-ff8c-4f82-bdaa-547743a83006\" class=\"sk-top-container\"><div class=\"sk-text-repr-fallback\"><pre>ColumnTransformer(transformers=[(&#x27;pca_features&#x27;,\n                                 Pipeline(steps=[(&#x27;feature_selector&#x27;,\n                                                  FeatureSelector(feature_names=[&#x27;MonthlyCharges&#x27;,\n                                                                                 &#x27;SupportTicketsPerMonth&#x27;,\n                                                                                 &#x27;UserRating&#x27;,\n                                                                                 &#x27;WatchlistSize&#x27;,\n                                                                                 &#x27;AccountAge&#x27;,\n                                                                                 &#x27;TotalCharges&#x27;,\n                                                                                 &#x27;ViewingHoursPerWeek&#x27;,\n                                                                                 &#x27;ContentDownloadsPerMonth&#x27;,\n                                                                                 &#x27;AverageViewingDuration&#x27;])),\n                                                 (&#x27;scaler&#x27;, StandardScaler()),\n                                                 (&#x27;pca&#x27;, PCA(n_components=9))]),\n                                 [...\n                                  &#x27;MultiDeviceAccess_Yes&#x27;,\n                                  &#x27;DeviceRegistered_Computer&#x27;,\n                                  &#x27;DeviceRegistered_Mobile&#x27;,\n                                  &#x27;DeviceRegistered_TV&#x27;,\n                                  &#x27;DeviceRegistered_Tablet&#x27;,\n                                  &#x27;GenrePreference_Action&#x27;,\n                                  &#x27;GenrePreference_Comedy&#x27;,\n                                  &#x27;GenrePreference_Drama&#x27;,\n                                  &#x27;GenrePreference_Fantasy&#x27;,\n                                  &#x27;GenrePreference_Sci-Fi&#x27;, &#x27;Gender_Female&#x27;,\n                                  &#x27;Gender_Male&#x27;, &#x27;ParentalControl_No&#x27;,\n                                  &#x27;ParentalControl_Yes&#x27;, &#x27;SubtitlesEnabled_No&#x27;,\n                                  &#x27;SubtitlesEnabled_Yes&#x27;])])</pre><b>Please rerun this cell to show the HTML repr or trust the notebook.</b></div><div class=\"sk-container\" hidden><div class=\"sk-item sk-dashed-wrapped\"><div class=\"sk-label-container\"><div class=\"sk-label sk-toggleable\"><input class=\"sk-toggleable__control sk-hidden--visually\" id=\"333764f3-bf35-42ed-bf9f-b5a5fbf1cd8c\" type=\"checkbox\" ><label for=\"333764f3-bf35-42ed-bf9f-b5a5fbf1cd8c\" class=\"sk-toggleable__label sk-toggleable__label-arrow\">ColumnTransformer</label><div class=\"sk-toggleable__content\"><pre>ColumnTransformer(transformers=[(&#x27;pca_features&#x27;,\n                                 Pipeline(steps=[(&#x27;feature_selector&#x27;,\n                                                  FeatureSelector(feature_names=[&#x27;MonthlyCharges&#x27;,\n                                                                                 &#x27;SupportTicketsPerMonth&#x27;,\n                                                                                 &#x27;UserRating&#x27;,\n                                                                                 &#x27;WatchlistSize&#x27;,\n                                                                                 &#x27;AccountAge&#x27;,\n                                                                                 &#x27;TotalCharges&#x27;,\n                                                                                 &#x27;ViewingHoursPerWeek&#x27;,\n                                                                                 &#x27;ContentDownloadsPerMonth&#x27;,\n                                                                                 &#x27;AverageViewingDuration&#x27;])),\n                                                 (&#x27;scaler&#x27;, StandardScaler()),\n                                                 (&#x27;pca&#x27;, PCA(n_components=9))]),\n                                 [...\n                                  &#x27;MultiDeviceAccess_Yes&#x27;,\n                                  &#x27;DeviceRegistered_Computer&#x27;,\n                                  &#x27;DeviceRegistered_Mobile&#x27;,\n                                  &#x27;DeviceRegistered_TV&#x27;,\n                                  &#x27;DeviceRegistered_Tablet&#x27;,\n                                  &#x27;GenrePreference_Action&#x27;,\n                                  &#x27;GenrePreference_Comedy&#x27;,\n                                  &#x27;GenrePreference_Drama&#x27;,\n                                  &#x27;GenrePreference_Fantasy&#x27;,\n                                  &#x27;GenrePreference_Sci-Fi&#x27;, &#x27;Gender_Female&#x27;,\n                                  &#x27;Gender_Male&#x27;, &#x27;ParentalControl_No&#x27;,\n                                  &#x27;ParentalControl_Yes&#x27;, &#x27;SubtitlesEnabled_No&#x27;,\n                                  &#x27;SubtitlesEnabled_Yes&#x27;])])</pre></div></div></div><div class=\"sk-parallel\"><div class=\"sk-parallel-item\"><div class=\"sk-item\"><div class=\"sk-label-container\"><div class=\"sk-label sk-toggleable\"><input class=\"sk-toggleable__control sk-hidden--visually\" id=\"35b05f8c-b96e-4739-b38b-da59be905f1a\" type=\"checkbox\" ><label for=\"35b05f8c-b96e-4739-b38b-da59be905f1a\" class=\"sk-toggleable__label sk-toggleable__label-arrow\">pca_features</label><div class=\"sk-toggleable__content\"><pre>[&#x27;MonthlyCharges&#x27;, &#x27;SupportTicketsPerMonth&#x27;, &#x27;UserRating&#x27;, &#x27;WatchlistSize&#x27;, &#x27;AccountAge&#x27;, &#x27;TotalCharges&#x27;, &#x27;ViewingHoursPerWeek&#x27;, &#x27;ContentDownloadsPerMonth&#x27;, &#x27;AverageViewingDuration&#x27;]</pre></div></div></div><div class=\"sk-serial\"><div class=\"sk-item\"><div class=\"sk-serial\"><div class=\"sk-item\"><div class=\"sk-estimator sk-toggleable\"><input class=\"sk-toggleable__control sk-hidden--visually\" id=\"0c924b04-50e7-4cab-9157-f950abbb117f\" type=\"checkbox\" ><label for=\"0c924b04-50e7-4cab-9157-f950abbb117f\" class=\"sk-toggleable__label sk-toggleable__label-arrow\">FeatureSelector</label><div class=\"sk-toggleable__content\"><pre>FeatureSelector(feature_names=[&#x27;MonthlyCharges&#x27;, &#x27;SupportTicketsPerMonth&#x27;,\n                               &#x27;UserRating&#x27;, &#x27;WatchlistSize&#x27;, &#x27;AccountAge&#x27;,\n                               &#x27;TotalCharges&#x27;, &#x27;ViewingHoursPerWeek&#x27;,\n                               &#x27;ContentDownloadsPerMonth&#x27;,\n                               &#x27;AverageViewingDuration&#x27;])</pre></div></div></div><div class=\"sk-item\"><div class=\"sk-estimator sk-toggleable\"><input class=\"sk-toggleable__control sk-hidden--visually\" id=\"dd194064-82ea-4072-aa0c-1a890c91c4c0\" type=\"checkbox\" ><label for=\"dd194064-82ea-4072-aa0c-1a890c91c4c0\" class=\"sk-toggleable__label sk-toggleable__label-arrow\">StandardScaler</label><div class=\"sk-toggleable__content\"><pre>StandardScaler()</pre></div></div></div><div class=\"sk-item\"><div class=\"sk-estimator sk-toggleable\"><input class=\"sk-toggleable__control sk-hidden--visually\" id=\"aab6d985-b386-43be-9eef-c5fbcb2e3d92\" type=\"checkbox\" ><label for=\"aab6d985-b386-43be-9eef-c5fbcb2e3d92\" class=\"sk-toggleable__label sk-toggleable__label-arrow\">PCA</label><div class=\"sk-toggleable__content\"><pre>PCA(n_components=9)</pre></div></div></div></div></div></div></div></div><div class=\"sk-parallel-item\"><div class=\"sk-item\"><div class=\"sk-label-container\"><div class=\"sk-label sk-toggleable\"><input class=\"sk-toggleable__control sk-hidden--visually\" id=\"3f6e7578-202b-4190-8ea0-09fb012d72b5\" type=\"checkbox\" ><label for=\"3f6e7578-202b-4190-8ea0-09fb012d72b5\" class=\"sk-toggleable__label sk-toggleable__label-arrow\">encoded_features</label><div class=\"sk-toggleable__content\"><pre>[&#x27;SubscriptionTypeEncoded&#x27;, &#x27;PaymentMethod_Bank transfer&#x27;, &#x27;PaymentMethod_Credit card&#x27;, &#x27;PaymentMethod_Electronic check&#x27;, &#x27;PaymentMethod_Mailed check&#x27;, &#x27;PaperlessBilling_No&#x27;, &#x27;PaperlessBilling_Yes&#x27;, &#x27;ContentType_Both&#x27;, &#x27;ContentType_Movies&#x27;, &#x27;ContentType_TV Shows&#x27;, &#x27;MultiDeviceAccess_No&#x27;, &#x27;MultiDeviceAccess_Yes&#x27;, &#x27;DeviceRegistered_Computer&#x27;, &#x27;DeviceRegistered_Mobile&#x27;, &#x27;DeviceRegistered_TV&#x27;, &#x27;DeviceRegistered_Tablet&#x27;, &#x27;GenrePreference_Action&#x27;, &#x27;GenrePreference_Comedy&#x27;, &#x27;GenrePreference_Drama&#x27;, &#x27;GenrePreference_Fantasy&#x27;, &#x27;GenrePreference_Sci-Fi&#x27;, &#x27;Gender_Female&#x27;, &#x27;Gender_Male&#x27;, &#x27;ParentalControl_No&#x27;, &#x27;ParentalControl_Yes&#x27;, &#x27;SubtitlesEnabled_No&#x27;, &#x27;SubtitlesEnabled_Yes&#x27;]</pre></div></div></div><div class=\"sk-serial\"><div class=\"sk-item\"><div class=\"sk-serial\"><div class=\"sk-item\"><div class=\"sk-estimator sk-toggleable\"><input class=\"sk-toggleable__control sk-hidden--visually\" id=\"e18c7272-4254-4d38-be46-58587037fcb4\" type=\"checkbox\" ><label for=\"e18c7272-4254-4d38-be46-58587037fcb4\" class=\"sk-toggleable__label sk-toggleable__label-arrow\">FunctionTransformer</label><div class=\"sk-toggleable__content\"><pre>FunctionTransformer()</pre></div></div></div></div></div></div></div></div></div></div></div></div>",
       "datasetInfos": [],
       "metadata": {},
       "removedWidgets": [],
       "textData": null,
       "type": "htmlSandbox"
      }
     },
     "output_type": "display_data"
    }
   ],
   "source": [
    "combined_features_pipeline"
   ]
  },
  {
   "cell_type": "code",
   "execution_count": 0,
   "metadata": {
    "application/vnd.databricks.v1+cell": {
     "cellMetadata": {
      "byteLimit": 2048000,
      "rowLimit": 10000
     },
     "inputWidgets": {},
     "nuid": "f0f65f02-3b3d-43a7-8706-19df2e659f8a",
     "showTitle": false,
     "title": ""
    },
    "execution": {
     "iopub.execute_input": "2024-03-26T14:16:07.614204Z",
     "iopub.status.busy": "2024-03-26T14:16:07.613760Z",
     "iopub.status.idle": "2024-03-26T14:16:07.620950Z",
     "shell.execute_reply": "2024-03-26T14:16:07.619147Z",
     "shell.execute_reply.started": "2024-03-26T14:16:07.614175Z"
    },
    "trusted": true
   },
   "outputs": [],
   "source": [
    "# Stage 2: Post-Processing and Classification\n",
    "post_resample_pipeline = Pipeline([\n",
    "    # Assuming 'combine_features' does not require y and works with the DataFrame\n",
    "    ('combine_features', combined_features_pipeline),\n",
    "    ('classifier', RandomForestClassifier(random_state=42))\n",
    "])"
   ]
  },
  {
   "cell_type": "code",
   "execution_count": 0,
   "metadata": {
    "application/vnd.databricks.v1+cell": {
     "cellMetadata": {
      "byteLimit": 2048000,
      "rowLimit": 10000
     },
     "inputWidgets": {},
     "nuid": "51c64076-957a-4584-b387-921988800905",
     "showTitle": false,
     "title": ""
    }
   },
   "outputs": [],
   "source": [
    "from sklearn.linear_model import LogisticRegression\n",
    "from sklearn.svm import SVC\n",
    "from sklearn.neighbors import KNeighborsClassifier\n",
    "from sklearn.naive_bayes import GaussianNB\n",
    "from sklearn.tree import DecisionTreeClassifier\n",
    "from sklearn.ensemble import GradientBoostingClassifier, RandomForestClassifier\n",
    "from xgboost import XGBClassifier\n",
    "from lightgbm import LGBMClassifier\n",
    "from catboost import CatBoostClassifier\n",
    "from sklearn.neural_network import MLPClassifier\n",
    "\n",
    "# Logistic Regression\n",
    "logistic_regression_pipeline = Pipeline([\n",
    "    ('combine_features', combined_features_pipeline),\n",
    "    ('classifier', LogisticRegression(random_state=42))\n",
    "])\n",
    "\n",
    "# Support Vector Machine\n",
    "svm_pipeline = Pipeline([\n",
    "    ('combine_features', combined_features_pipeline),\n",
    "    ('classifier', SVC(random_state=42))\n",
    "])\n",
    "\n",
    "# K-Nearest Neighbors\n",
    "knn_pipeline = Pipeline([\n",
    "    ('combine_features', combined_features_pipeline),\n",
    "    ('classifier', KNeighborsClassifier())\n",
    "])\n",
    "\n",
    "# Naive Bayes\n",
    "naive_bayes_pipeline = Pipeline([\n",
    "    ('combine_features', combined_features_pipeline),\n",
    "    ('classifier', GaussianNB())\n",
    "])\n",
    "\n",
    "# Decision Trees\n",
    "decision_tree_pipeline = Pipeline([\n",
    "    ('combine_features', combined_features_pipeline),\n",
    "    ('classifier', DecisionTreeClassifier(random_state=42))\n",
    "])\n",
    "\n",
    "# Gradient Boosting Machines\n",
    "gbm_pipeline = Pipeline([\n",
    "    ('combine_features', combined_features_pipeline),\n",
    "    ('classifier', GradientBoostingClassifier(random_state=42))\n",
    "])\n",
    "\n",
    "# XGBoost\n",
    "xgboost_pipeline = Pipeline([\n",
    "    ('combine_features', combined_features_pipeline),\n",
    "    ('classifier', XGBClassifier(use_label_encoder=False, eval_metric='logloss', random_state=42))\n",
    "])\n",
    "\n",
    "# LightGBM\n",
    "lightgbm_pipeline = Pipeline([\n",
    "    ('combine_features', combined_features_pipeline),\n",
    "    ('classifier', LGBMClassifier(random_state=42))\n",
    "])\n",
    "\n",
    "# CatBoost\n",
    "catboost_pipeline = Pipeline([\n",
    "    ('combine_features', combined_features_pipeline),\n",
    "    ('classifier', CatBoostClassifier(verbose=0, random_state=42))\n",
    "])\n",
    "\n",
    "# Neural Networks (Deep Learning)\n",
    "neural_network_pipeline = Pipeline([\n",
    "    ('combine_features', combined_features_pipeline),\n",
    "    ('classifier', MLPClassifier(random_state=42))\n",
    "])\n"
   ]
  },
  {
   "cell_type": "code",
   "execution_count": 0,
   "metadata": {
    "application/vnd.databricks.v1+cell": {
     "cellMetadata": {
      "byteLimit": 2048000,
      "rowLimit": 10000
     },
     "inputWidgets": {},
     "nuid": "1968531f-ca76-4c72-81ea-cbce64fc36af",
     "showTitle": false,
     "title": ""
    },
    "execution": {
     "iopub.execute_input": "2024-03-26T16:43:35.515082Z",
     "iopub.status.busy": "2024-03-26T16:43:35.514621Z",
     "iopub.status.idle": "2024-03-26T16:43:35.592816Z",
     "shell.execute_reply": "2024-03-26T16:43:35.591558Z",
     "shell.execute_reply.started": "2024-03-26T16:43:35.515050Z"
    },
    "trusted": true
   },
   "outputs": [
    {
     "output_type": "display_data",
     "data": {
      "text/html": [
       "<style>#sk-dabfce4a-f5f2-4391-aea3-e9ee1701a874 {color: black;background-color: white;}#sk-dabfce4a-f5f2-4391-aea3-e9ee1701a874 pre{padding: 0;}#sk-dabfce4a-f5f2-4391-aea3-e9ee1701a874 div.sk-toggleable {background-color: white;}#sk-dabfce4a-f5f2-4391-aea3-e9ee1701a874 label.sk-toggleable__label {cursor: pointer;display: block;width: 100%;margin-bottom: 0;padding: 0.3em;box-sizing: border-box;text-align: center;}#sk-dabfce4a-f5f2-4391-aea3-e9ee1701a874 label.sk-toggleable__label-arrow:before {content: \"▸\";float: left;margin-right: 0.25em;color: #696969;}#sk-dabfce4a-f5f2-4391-aea3-e9ee1701a874 label.sk-toggleable__label-arrow:hover:before {color: black;}#sk-dabfce4a-f5f2-4391-aea3-e9ee1701a874 div.sk-estimator:hover label.sk-toggleable__label-arrow:before {color: black;}#sk-dabfce4a-f5f2-4391-aea3-e9ee1701a874 div.sk-toggleable__content {max-height: 0;max-width: 0;overflow: hidden;text-align: left;background-color: #f0f8ff;}#sk-dabfce4a-f5f2-4391-aea3-e9ee1701a874 div.sk-toggleable__content pre {margin: 0.2em;color: black;border-radius: 0.25em;background-color: #f0f8ff;}#sk-dabfce4a-f5f2-4391-aea3-e9ee1701a874 input.sk-toggleable__control:checked~div.sk-toggleable__content {max-height: 200px;max-width: 100%;overflow: auto;}#sk-dabfce4a-f5f2-4391-aea3-e9ee1701a874 input.sk-toggleable__control:checked~label.sk-toggleable__label-arrow:before {content: \"▾\";}#sk-dabfce4a-f5f2-4391-aea3-e9ee1701a874 div.sk-estimator input.sk-toggleable__control:checked~label.sk-toggleable__label {background-color: #d4ebff;}#sk-dabfce4a-f5f2-4391-aea3-e9ee1701a874 div.sk-label input.sk-toggleable__control:checked~label.sk-toggleable__label {background-color: #d4ebff;}#sk-dabfce4a-f5f2-4391-aea3-e9ee1701a874 input.sk-hidden--visually {border: 0;clip: rect(1px 1px 1px 1px);clip: rect(1px, 1px, 1px, 1px);height: 1px;margin: -1px;overflow: hidden;padding: 0;position: absolute;width: 1px;}#sk-dabfce4a-f5f2-4391-aea3-e9ee1701a874 div.sk-estimator {font-family: monospace;background-color: #f0f8ff;border: 1px dotted black;border-radius: 0.25em;box-sizing: border-box;margin-bottom: 0.5em;}#sk-dabfce4a-f5f2-4391-aea3-e9ee1701a874 div.sk-estimator:hover {background-color: #d4ebff;}#sk-dabfce4a-f5f2-4391-aea3-e9ee1701a874 div.sk-parallel-item::after {content: \"\";width: 100%;border-bottom: 1px solid gray;flex-grow: 1;}#sk-dabfce4a-f5f2-4391-aea3-e9ee1701a874 div.sk-label:hover label.sk-toggleable__label {background-color: #d4ebff;}#sk-dabfce4a-f5f2-4391-aea3-e9ee1701a874 div.sk-serial::before {content: \"\";position: absolute;border-left: 1px solid gray;box-sizing: border-box;top: 2em;bottom: 0;left: 50%;}#sk-dabfce4a-f5f2-4391-aea3-e9ee1701a874 div.sk-serial {display: flex;flex-direction: column;align-items: center;background-color: white;padding-right: 0.2em;padding-left: 0.2em;}#sk-dabfce4a-f5f2-4391-aea3-e9ee1701a874 div.sk-item {z-index: 1;}#sk-dabfce4a-f5f2-4391-aea3-e9ee1701a874 div.sk-parallel {display: flex;align-items: stretch;justify-content: center;background-color: white;}#sk-dabfce4a-f5f2-4391-aea3-e9ee1701a874 div.sk-parallel::before {content: \"\";position: absolute;border-left: 1px solid gray;box-sizing: border-box;top: 2em;bottom: 0;left: 50%;}#sk-dabfce4a-f5f2-4391-aea3-e9ee1701a874 div.sk-parallel-item {display: flex;flex-direction: column;position: relative;background-color: white;}#sk-dabfce4a-f5f2-4391-aea3-e9ee1701a874 div.sk-parallel-item:first-child::after {align-self: flex-end;width: 50%;}#sk-dabfce4a-f5f2-4391-aea3-e9ee1701a874 div.sk-parallel-item:last-child::after {align-self: flex-start;width: 50%;}#sk-dabfce4a-f5f2-4391-aea3-e9ee1701a874 div.sk-parallel-item:only-child::after {width: 0;}#sk-dabfce4a-f5f2-4391-aea3-e9ee1701a874 div.sk-dashed-wrapped {border: 1px dashed gray;margin: 0 0.4em 0.5em 0.4em;box-sizing: border-box;padding-bottom: 0.4em;background-color: white;position: relative;}#sk-dabfce4a-f5f2-4391-aea3-e9ee1701a874 div.sk-label label {font-family: monospace;font-weight: bold;background-color: white;display: inline-block;line-height: 1.2em;}#sk-dabfce4a-f5f2-4391-aea3-e9ee1701a874 div.sk-label-container {position: relative;z-index: 2;text-align: center;}#sk-dabfce4a-f5f2-4391-aea3-e9ee1701a874 div.sk-container {/* jupyter's `normalize.less` sets `[hidden] { display: none; }` but bootstrap.min.css set `[hidden] { display: none !important; }` so we also need the `!important` here to be able to override the default hidden behavior on the sphinx rendered scikit-learn.org. See: https://github.com/scikit-learn/scikit-learn/issues/21755 */display: inline-block !important;position: relative;}#sk-dabfce4a-f5f2-4391-aea3-e9ee1701a874 div.sk-text-repr-fallback {display: none;}</style><div id=\"sk-dabfce4a-f5f2-4391-aea3-e9ee1701a874\" class=\"sk-top-container\"><div class=\"sk-text-repr-fallback\"><pre>Pipeline(steps=[(&#x27;combine_features&#x27;,\n",
       "                 ColumnTransformer(transformers=[(&#x27;pca_features&#x27;,\n",
       "                                                  Pipeline(steps=[(&#x27;feature_selector&#x27;,\n",
       "                                                                   FeatureSelector(feature_names=[&#x27;MonthlyCharges&#x27;,\n",
       "                                                                                                  &#x27;SupportTicketsPerMonth&#x27;,\n",
       "                                                                                                  &#x27;UserRating&#x27;,\n",
       "                                                                                                  &#x27;WatchlistSize&#x27;,\n",
       "                                                                                                  &#x27;AccountAge&#x27;,\n",
       "                                                                                                  &#x27;TotalCharges&#x27;,\n",
       "                                                                                                  &#x27;ViewingHoursPerWeek&#x27;,\n",
       "                                                                                                  &#x27;ContentDownloadsPerMonth&#x27;,\n",
       "                                                                                                  &#x27;AverageViewingDuration&#x27;])),\n",
       "                                                                  (&#x27;scaler&#x27;,\n",
       "                                                                   StandardScale...\n",
       "                                                   &#x27;DeviceRegistered_TV&#x27;,\n",
       "                                                   &#x27;DeviceRegistered_Tablet&#x27;,\n",
       "                                                   &#x27;GenrePreference_Action&#x27;,\n",
       "                                                   &#x27;GenrePreference_Comedy&#x27;,\n",
       "                                                   &#x27;GenrePreference_Drama&#x27;,\n",
       "                                                   &#x27;GenrePreference_Fantasy&#x27;,\n",
       "                                                   &#x27;GenrePreference_Sci-Fi&#x27;,\n",
       "                                                   &#x27;Gender_Female&#x27;,\n",
       "                                                   &#x27;Gender_Male&#x27;,\n",
       "                                                   &#x27;ParentalControl_No&#x27;,\n",
       "                                                   &#x27;ParentalControl_Yes&#x27;,\n",
       "                                                   &#x27;SubtitlesEnabled_No&#x27;,\n",
       "                                                   &#x27;SubtitlesEnabled_Yes&#x27;])])),\n",
       "                (&#x27;classifier&#x27;, RandomForestClassifier(random_state=42))])</pre><b>Please rerun this cell to show the HTML repr or trust the notebook.</b></div><div class=\"sk-container\" hidden><div class=\"sk-item sk-dashed-wrapped\"><div class=\"sk-label-container\"><div class=\"sk-label sk-toggleable\"><input class=\"sk-toggleable__control sk-hidden--visually\" id=\"60940b24-a390-4244-bebc-f22e120c84eb\" type=\"checkbox\" ><label for=\"60940b24-a390-4244-bebc-f22e120c84eb\" class=\"sk-toggleable__label sk-toggleable__label-arrow\">Pipeline</label><div class=\"sk-toggleable__content\"><pre>Pipeline(steps=[(&#x27;combine_features&#x27;,\n",
       "                 ColumnTransformer(transformers=[(&#x27;pca_features&#x27;,\n",
       "                                                  Pipeline(steps=[(&#x27;feature_selector&#x27;,\n",
       "                                                                   FeatureSelector(feature_names=[&#x27;MonthlyCharges&#x27;,\n",
       "                                                                                                  &#x27;SupportTicketsPerMonth&#x27;,\n",
       "                                                                                                  &#x27;UserRating&#x27;,\n",
       "                                                                                                  &#x27;WatchlistSize&#x27;,\n",
       "                                                                                                  &#x27;AccountAge&#x27;,\n",
       "                                                                                                  &#x27;TotalCharges&#x27;,\n",
       "                                                                                                  &#x27;ViewingHoursPerWeek&#x27;,\n",
       "                                                                                                  &#x27;ContentDownloadsPerMonth&#x27;,\n",
       "                                                                                                  &#x27;AverageViewingDuration&#x27;])),\n",
       "                                                                  (&#x27;scaler&#x27;,\n",
       "                                                                   StandardScale...\n",
       "                                                   &#x27;DeviceRegistered_TV&#x27;,\n",
       "                                                   &#x27;DeviceRegistered_Tablet&#x27;,\n",
       "                                                   &#x27;GenrePreference_Action&#x27;,\n",
       "                                                   &#x27;GenrePreference_Comedy&#x27;,\n",
       "                                                   &#x27;GenrePreference_Drama&#x27;,\n",
       "                                                   &#x27;GenrePreference_Fantasy&#x27;,\n",
       "                                                   &#x27;GenrePreference_Sci-Fi&#x27;,\n",
       "                                                   &#x27;Gender_Female&#x27;,\n",
       "                                                   &#x27;Gender_Male&#x27;,\n",
       "                                                   &#x27;ParentalControl_No&#x27;,\n",
       "                                                   &#x27;ParentalControl_Yes&#x27;,\n",
       "                                                   &#x27;SubtitlesEnabled_No&#x27;,\n",
       "                                                   &#x27;SubtitlesEnabled_Yes&#x27;])])),\n",
       "                (&#x27;classifier&#x27;, RandomForestClassifier(random_state=42))])</pre></div></div></div><div class=\"sk-serial\"><div class=\"sk-item sk-dashed-wrapped\"><div class=\"sk-label-container\"><div class=\"sk-label sk-toggleable\"><input class=\"sk-toggleable__control sk-hidden--visually\" id=\"1a29afc4-e84e-4634-8779-e8f99b568e28\" type=\"checkbox\" ><label for=\"1a29afc4-e84e-4634-8779-e8f99b568e28\" class=\"sk-toggleable__label sk-toggleable__label-arrow\">combine_features: ColumnTransformer</label><div class=\"sk-toggleable__content\"><pre>ColumnTransformer(transformers=[(&#x27;pca_features&#x27;,\n",
       "                                 Pipeline(steps=[(&#x27;feature_selector&#x27;,\n",
       "                                                  FeatureSelector(feature_names=[&#x27;MonthlyCharges&#x27;,\n",
       "                                                                                 &#x27;SupportTicketsPerMonth&#x27;,\n",
       "                                                                                 &#x27;UserRating&#x27;,\n",
       "                                                                                 &#x27;WatchlistSize&#x27;,\n",
       "                                                                                 &#x27;AccountAge&#x27;,\n",
       "                                                                                 &#x27;TotalCharges&#x27;,\n",
       "                                                                                 &#x27;ViewingHoursPerWeek&#x27;,\n",
       "                                                                                 &#x27;ContentDownloadsPerMonth&#x27;,\n",
       "                                                                                 &#x27;AverageViewingDuration&#x27;])),\n",
       "                                                 (&#x27;scaler&#x27;, StandardScaler()),\n",
       "                                                 (&#x27;pca&#x27;, PCA(n_components=9))]),\n",
       "                                 [...\n",
       "                                  &#x27;MultiDeviceAccess_Yes&#x27;,\n",
       "                                  &#x27;DeviceRegistered_Computer&#x27;,\n",
       "                                  &#x27;DeviceRegistered_Mobile&#x27;,\n",
       "                                  &#x27;DeviceRegistered_TV&#x27;,\n",
       "                                  &#x27;DeviceRegistered_Tablet&#x27;,\n",
       "                                  &#x27;GenrePreference_Action&#x27;,\n",
       "                                  &#x27;GenrePreference_Comedy&#x27;,\n",
       "                                  &#x27;GenrePreference_Drama&#x27;,\n",
       "                                  &#x27;GenrePreference_Fantasy&#x27;,\n",
       "                                  &#x27;GenrePreference_Sci-Fi&#x27;, &#x27;Gender_Female&#x27;,\n",
       "                                  &#x27;Gender_Male&#x27;, &#x27;ParentalControl_No&#x27;,\n",
       "                                  &#x27;ParentalControl_Yes&#x27;, &#x27;SubtitlesEnabled_No&#x27;,\n",
       "                                  &#x27;SubtitlesEnabled_Yes&#x27;])])</pre></div></div></div><div class=\"sk-parallel\"><div class=\"sk-parallel-item\"><div class=\"sk-item\"><div class=\"sk-label-container\"><div class=\"sk-label sk-toggleable\"><input class=\"sk-toggleable__control sk-hidden--visually\" id=\"1cbe79f8-2a2e-4a89-bc15-378e06676d10\" type=\"checkbox\" ><label for=\"1cbe79f8-2a2e-4a89-bc15-378e06676d10\" class=\"sk-toggleable__label sk-toggleable__label-arrow\">pca_features</label><div class=\"sk-toggleable__content\"><pre>[&#x27;MonthlyCharges&#x27;, &#x27;SupportTicketsPerMonth&#x27;, &#x27;UserRating&#x27;, &#x27;WatchlistSize&#x27;, &#x27;AccountAge&#x27;, &#x27;TotalCharges&#x27;, &#x27;ViewingHoursPerWeek&#x27;, &#x27;ContentDownloadsPerMonth&#x27;, &#x27;AverageViewingDuration&#x27;]</pre></div></div></div><div class=\"sk-serial\"><div class=\"sk-item\"><div class=\"sk-serial\"><div class=\"sk-item\"><div class=\"sk-estimator sk-toggleable\"><input class=\"sk-toggleable__control sk-hidden--visually\" id=\"4b17fc14-2ab8-4999-8136-3ead3cbcc87a\" type=\"checkbox\" ><label for=\"4b17fc14-2ab8-4999-8136-3ead3cbcc87a\" class=\"sk-toggleable__label sk-toggleable__label-arrow\">FeatureSelector</label><div class=\"sk-toggleable__content\"><pre>FeatureSelector(feature_names=[&#x27;MonthlyCharges&#x27;, &#x27;SupportTicketsPerMonth&#x27;,\n",
       "                               &#x27;UserRating&#x27;, &#x27;WatchlistSize&#x27;, &#x27;AccountAge&#x27;,\n",
       "                               &#x27;TotalCharges&#x27;, &#x27;ViewingHoursPerWeek&#x27;,\n",
       "                               &#x27;ContentDownloadsPerMonth&#x27;,\n",
       "                               &#x27;AverageViewingDuration&#x27;])</pre></div></div></div><div class=\"sk-item\"><div class=\"sk-estimator sk-toggleable\"><input class=\"sk-toggleable__control sk-hidden--visually\" id=\"5ac62c98-cd57-4cef-aa54-39ff21db7aff\" type=\"checkbox\" ><label for=\"5ac62c98-cd57-4cef-aa54-39ff21db7aff\" class=\"sk-toggleable__label sk-toggleable__label-arrow\">StandardScaler</label><div class=\"sk-toggleable__content\"><pre>StandardScaler()</pre></div></div></div><div class=\"sk-item\"><div class=\"sk-estimator sk-toggleable\"><input class=\"sk-toggleable__control sk-hidden--visually\" id=\"22f25c52-0352-49fb-a962-ab4d0ede55f9\" type=\"checkbox\" ><label for=\"22f25c52-0352-49fb-a962-ab4d0ede55f9\" class=\"sk-toggleable__label sk-toggleable__label-arrow\">PCA</label><div class=\"sk-toggleable__content\"><pre>PCA(n_components=9)</pre></div></div></div></div></div></div></div></div><div class=\"sk-parallel-item\"><div class=\"sk-item\"><div class=\"sk-label-container\"><div class=\"sk-label sk-toggleable\"><input class=\"sk-toggleable__control sk-hidden--visually\" id=\"fb01a0e1-d3cb-4a9e-8727-39225a4926e5\" type=\"checkbox\" ><label for=\"fb01a0e1-d3cb-4a9e-8727-39225a4926e5\" class=\"sk-toggleable__label sk-toggleable__label-arrow\">encoded_features</label><div class=\"sk-toggleable__content\"><pre>[&#x27;SubscriptionTypeEncoded&#x27;, &#x27;PaymentMethod_Bank transfer&#x27;, &#x27;PaymentMethod_Credit card&#x27;, &#x27;PaymentMethod_Electronic check&#x27;, &#x27;PaymentMethod_Mailed check&#x27;, &#x27;PaperlessBilling_No&#x27;, &#x27;PaperlessBilling_Yes&#x27;, &#x27;ContentType_Both&#x27;, &#x27;ContentType_Movies&#x27;, &#x27;ContentType_TV Shows&#x27;, &#x27;MultiDeviceAccess_No&#x27;, &#x27;MultiDeviceAccess_Yes&#x27;, &#x27;DeviceRegistered_Computer&#x27;, &#x27;DeviceRegistered_Mobile&#x27;, &#x27;DeviceRegistered_TV&#x27;, &#x27;DeviceRegistered_Tablet&#x27;, &#x27;GenrePreference_Action&#x27;, &#x27;GenrePreference_Comedy&#x27;, &#x27;GenrePreference_Drama&#x27;, &#x27;GenrePreference_Fantasy&#x27;, &#x27;GenrePreference_Sci-Fi&#x27;, &#x27;Gender_Female&#x27;, &#x27;Gender_Male&#x27;, &#x27;ParentalControl_No&#x27;, &#x27;ParentalControl_Yes&#x27;, &#x27;SubtitlesEnabled_No&#x27;, &#x27;SubtitlesEnabled_Yes&#x27;]</pre></div></div></div><div class=\"sk-serial\"><div class=\"sk-item\"><div class=\"sk-serial\"><div class=\"sk-item\"><div class=\"sk-estimator sk-toggleable\"><input class=\"sk-toggleable__control sk-hidden--visually\" id=\"afbcb92c-b4c4-43ba-bd0a-609aa909b882\" type=\"checkbox\" ><label for=\"afbcb92c-b4c4-43ba-bd0a-609aa909b882\" class=\"sk-toggleable__label sk-toggleable__label-arrow\">FunctionTransformer</label><div class=\"sk-toggleable__content\"><pre>FunctionTransformer()</pre></div></div></div></div></div></div></div></div></div></div><div class=\"sk-item\"><div class=\"sk-estimator sk-toggleable\"><input class=\"sk-toggleable__control sk-hidden--visually\" id=\"d85af942-58b6-405c-a158-3903f8453538\" type=\"checkbox\" ><label for=\"d85af942-58b6-405c-a158-3903f8453538\" class=\"sk-toggleable__label sk-toggleable__label-arrow\">RandomForestClassifier</label><div class=\"sk-toggleable__content\"><pre>RandomForestClassifier(random_state=42)</pre></div></div></div></div></div></div></div>"
      ]
     },
     "metadata": {
      "application/vnd.databricks.v1+output": {
       "addedWidgets": {},
       "arguments": {},
       "data": "<style>#sk-dabfce4a-f5f2-4391-aea3-e9ee1701a874 {color: black;background-color: white;}#sk-dabfce4a-f5f2-4391-aea3-e9ee1701a874 pre{padding: 0;}#sk-dabfce4a-f5f2-4391-aea3-e9ee1701a874 div.sk-toggleable {background-color: white;}#sk-dabfce4a-f5f2-4391-aea3-e9ee1701a874 label.sk-toggleable__label {cursor: pointer;display: block;width: 100%;margin-bottom: 0;padding: 0.3em;box-sizing: border-box;text-align: center;}#sk-dabfce4a-f5f2-4391-aea3-e9ee1701a874 label.sk-toggleable__label-arrow:before {content: \"▸\";float: left;margin-right: 0.25em;color: #696969;}#sk-dabfce4a-f5f2-4391-aea3-e9ee1701a874 label.sk-toggleable__label-arrow:hover:before {color: black;}#sk-dabfce4a-f5f2-4391-aea3-e9ee1701a874 div.sk-estimator:hover label.sk-toggleable__label-arrow:before {color: black;}#sk-dabfce4a-f5f2-4391-aea3-e9ee1701a874 div.sk-toggleable__content {max-height: 0;max-width: 0;overflow: hidden;text-align: left;background-color: #f0f8ff;}#sk-dabfce4a-f5f2-4391-aea3-e9ee1701a874 div.sk-toggleable__content pre {margin: 0.2em;color: black;border-radius: 0.25em;background-color: #f0f8ff;}#sk-dabfce4a-f5f2-4391-aea3-e9ee1701a874 input.sk-toggleable__control:checked~div.sk-toggleable__content {max-height: 200px;max-width: 100%;overflow: auto;}#sk-dabfce4a-f5f2-4391-aea3-e9ee1701a874 input.sk-toggleable__control:checked~label.sk-toggleable__label-arrow:before {content: \"▾\";}#sk-dabfce4a-f5f2-4391-aea3-e9ee1701a874 div.sk-estimator input.sk-toggleable__control:checked~label.sk-toggleable__label {background-color: #d4ebff;}#sk-dabfce4a-f5f2-4391-aea3-e9ee1701a874 div.sk-label input.sk-toggleable__control:checked~label.sk-toggleable__label {background-color: #d4ebff;}#sk-dabfce4a-f5f2-4391-aea3-e9ee1701a874 input.sk-hidden--visually {border: 0;clip: rect(1px 1px 1px 1px);clip: rect(1px, 1px, 1px, 1px);height: 1px;margin: -1px;overflow: hidden;padding: 0;position: absolute;width: 1px;}#sk-dabfce4a-f5f2-4391-aea3-e9ee1701a874 div.sk-estimator {font-family: monospace;background-color: #f0f8ff;border: 1px dotted black;border-radius: 0.25em;box-sizing: border-box;margin-bottom: 0.5em;}#sk-dabfce4a-f5f2-4391-aea3-e9ee1701a874 div.sk-estimator:hover {background-color: #d4ebff;}#sk-dabfce4a-f5f2-4391-aea3-e9ee1701a874 div.sk-parallel-item::after {content: \"\";width: 100%;border-bottom: 1px solid gray;flex-grow: 1;}#sk-dabfce4a-f5f2-4391-aea3-e9ee1701a874 div.sk-label:hover label.sk-toggleable__label {background-color: #d4ebff;}#sk-dabfce4a-f5f2-4391-aea3-e9ee1701a874 div.sk-serial::before {content: \"\";position: absolute;border-left: 1px solid gray;box-sizing: border-box;top: 2em;bottom: 0;left: 50%;}#sk-dabfce4a-f5f2-4391-aea3-e9ee1701a874 div.sk-serial {display: flex;flex-direction: column;align-items: center;background-color: white;padding-right: 0.2em;padding-left: 0.2em;}#sk-dabfce4a-f5f2-4391-aea3-e9ee1701a874 div.sk-item {z-index: 1;}#sk-dabfce4a-f5f2-4391-aea3-e9ee1701a874 div.sk-parallel {display: flex;align-items: stretch;justify-content: center;background-color: white;}#sk-dabfce4a-f5f2-4391-aea3-e9ee1701a874 div.sk-parallel::before {content: \"\";position: absolute;border-left: 1px solid gray;box-sizing: border-box;top: 2em;bottom: 0;left: 50%;}#sk-dabfce4a-f5f2-4391-aea3-e9ee1701a874 div.sk-parallel-item {display: flex;flex-direction: column;position: relative;background-color: white;}#sk-dabfce4a-f5f2-4391-aea3-e9ee1701a874 div.sk-parallel-item:first-child::after {align-self: flex-end;width: 50%;}#sk-dabfce4a-f5f2-4391-aea3-e9ee1701a874 div.sk-parallel-item:last-child::after {align-self: flex-start;width: 50%;}#sk-dabfce4a-f5f2-4391-aea3-e9ee1701a874 div.sk-parallel-item:only-child::after {width: 0;}#sk-dabfce4a-f5f2-4391-aea3-e9ee1701a874 div.sk-dashed-wrapped {border: 1px dashed gray;margin: 0 0.4em 0.5em 0.4em;box-sizing: border-box;padding-bottom: 0.4em;background-color: white;position: relative;}#sk-dabfce4a-f5f2-4391-aea3-e9ee1701a874 div.sk-label label {font-family: monospace;font-weight: bold;background-color: white;display: inline-block;line-height: 1.2em;}#sk-dabfce4a-f5f2-4391-aea3-e9ee1701a874 div.sk-label-container {position: relative;z-index: 2;text-align: center;}#sk-dabfce4a-f5f2-4391-aea3-e9ee1701a874 div.sk-container {/* jupyter's `normalize.less` sets `[hidden] { display: none; }` but bootstrap.min.css set `[hidden] { display: none !important; }` so we also need the `!important` here to be able to override the default hidden behavior on the sphinx rendered scikit-learn.org. See: https://github.com/scikit-learn/scikit-learn/issues/21755 */display: inline-block !important;position: relative;}#sk-dabfce4a-f5f2-4391-aea3-e9ee1701a874 div.sk-text-repr-fallback {display: none;}</style><div id=\"sk-dabfce4a-f5f2-4391-aea3-e9ee1701a874\" class=\"sk-top-container\"><div class=\"sk-text-repr-fallback\"><pre>Pipeline(steps=[(&#x27;combine_features&#x27;,\n                 ColumnTransformer(transformers=[(&#x27;pca_features&#x27;,\n                                                  Pipeline(steps=[(&#x27;feature_selector&#x27;,\n                                                                   FeatureSelector(feature_names=[&#x27;MonthlyCharges&#x27;,\n                                                                                                  &#x27;SupportTicketsPerMonth&#x27;,\n                                                                                                  &#x27;UserRating&#x27;,\n                                                                                                  &#x27;WatchlistSize&#x27;,\n                                                                                                  &#x27;AccountAge&#x27;,\n                                                                                                  &#x27;TotalCharges&#x27;,\n                                                                                                  &#x27;ViewingHoursPerWeek&#x27;,\n                                                                                                  &#x27;ContentDownloadsPerMonth&#x27;,\n                                                                                                  &#x27;AverageViewingDuration&#x27;])),\n                                                                  (&#x27;scaler&#x27;,\n                                                                   StandardScale...\n                                                   &#x27;DeviceRegistered_TV&#x27;,\n                                                   &#x27;DeviceRegistered_Tablet&#x27;,\n                                                   &#x27;GenrePreference_Action&#x27;,\n                                                   &#x27;GenrePreference_Comedy&#x27;,\n                                                   &#x27;GenrePreference_Drama&#x27;,\n                                                   &#x27;GenrePreference_Fantasy&#x27;,\n                                                   &#x27;GenrePreference_Sci-Fi&#x27;,\n                                                   &#x27;Gender_Female&#x27;,\n                                                   &#x27;Gender_Male&#x27;,\n                                                   &#x27;ParentalControl_No&#x27;,\n                                                   &#x27;ParentalControl_Yes&#x27;,\n                                                   &#x27;SubtitlesEnabled_No&#x27;,\n                                                   &#x27;SubtitlesEnabled_Yes&#x27;])])),\n                (&#x27;classifier&#x27;, RandomForestClassifier(random_state=42))])</pre><b>Please rerun this cell to show the HTML repr or trust the notebook.</b></div><div class=\"sk-container\" hidden><div class=\"sk-item sk-dashed-wrapped\"><div class=\"sk-label-container\"><div class=\"sk-label sk-toggleable\"><input class=\"sk-toggleable__control sk-hidden--visually\" id=\"60940b24-a390-4244-bebc-f22e120c84eb\" type=\"checkbox\" ><label for=\"60940b24-a390-4244-bebc-f22e120c84eb\" class=\"sk-toggleable__label sk-toggleable__label-arrow\">Pipeline</label><div class=\"sk-toggleable__content\"><pre>Pipeline(steps=[(&#x27;combine_features&#x27;,\n                 ColumnTransformer(transformers=[(&#x27;pca_features&#x27;,\n                                                  Pipeline(steps=[(&#x27;feature_selector&#x27;,\n                                                                   FeatureSelector(feature_names=[&#x27;MonthlyCharges&#x27;,\n                                                                                                  &#x27;SupportTicketsPerMonth&#x27;,\n                                                                                                  &#x27;UserRating&#x27;,\n                                                                                                  &#x27;WatchlistSize&#x27;,\n                                                                                                  &#x27;AccountAge&#x27;,\n                                                                                                  &#x27;TotalCharges&#x27;,\n                                                                                                  &#x27;ViewingHoursPerWeek&#x27;,\n                                                                                                  &#x27;ContentDownloadsPerMonth&#x27;,\n                                                                                                  &#x27;AverageViewingDuration&#x27;])),\n                                                                  (&#x27;scaler&#x27;,\n                                                                   StandardScale...\n                                                   &#x27;DeviceRegistered_TV&#x27;,\n                                                   &#x27;DeviceRegistered_Tablet&#x27;,\n                                                   &#x27;GenrePreference_Action&#x27;,\n                                                   &#x27;GenrePreference_Comedy&#x27;,\n                                                   &#x27;GenrePreference_Drama&#x27;,\n                                                   &#x27;GenrePreference_Fantasy&#x27;,\n                                                   &#x27;GenrePreference_Sci-Fi&#x27;,\n                                                   &#x27;Gender_Female&#x27;,\n                                                   &#x27;Gender_Male&#x27;,\n                                                   &#x27;ParentalControl_No&#x27;,\n                                                   &#x27;ParentalControl_Yes&#x27;,\n                                                   &#x27;SubtitlesEnabled_No&#x27;,\n                                                   &#x27;SubtitlesEnabled_Yes&#x27;])])),\n                (&#x27;classifier&#x27;, RandomForestClassifier(random_state=42))])</pre></div></div></div><div class=\"sk-serial\"><div class=\"sk-item sk-dashed-wrapped\"><div class=\"sk-label-container\"><div class=\"sk-label sk-toggleable\"><input class=\"sk-toggleable__control sk-hidden--visually\" id=\"1a29afc4-e84e-4634-8779-e8f99b568e28\" type=\"checkbox\" ><label for=\"1a29afc4-e84e-4634-8779-e8f99b568e28\" class=\"sk-toggleable__label sk-toggleable__label-arrow\">combine_features: ColumnTransformer</label><div class=\"sk-toggleable__content\"><pre>ColumnTransformer(transformers=[(&#x27;pca_features&#x27;,\n                                 Pipeline(steps=[(&#x27;feature_selector&#x27;,\n                                                  FeatureSelector(feature_names=[&#x27;MonthlyCharges&#x27;,\n                                                                                 &#x27;SupportTicketsPerMonth&#x27;,\n                                                                                 &#x27;UserRating&#x27;,\n                                                                                 &#x27;WatchlistSize&#x27;,\n                                                                                 &#x27;AccountAge&#x27;,\n                                                                                 &#x27;TotalCharges&#x27;,\n                                                                                 &#x27;ViewingHoursPerWeek&#x27;,\n                                                                                 &#x27;ContentDownloadsPerMonth&#x27;,\n                                                                                 &#x27;AverageViewingDuration&#x27;])),\n                                                 (&#x27;scaler&#x27;, StandardScaler()),\n                                                 (&#x27;pca&#x27;, PCA(n_components=9))]),\n                                 [...\n                                  &#x27;MultiDeviceAccess_Yes&#x27;,\n                                  &#x27;DeviceRegistered_Computer&#x27;,\n                                  &#x27;DeviceRegistered_Mobile&#x27;,\n                                  &#x27;DeviceRegistered_TV&#x27;,\n                                  &#x27;DeviceRegistered_Tablet&#x27;,\n                                  &#x27;GenrePreference_Action&#x27;,\n                                  &#x27;GenrePreference_Comedy&#x27;,\n                                  &#x27;GenrePreference_Drama&#x27;,\n                                  &#x27;GenrePreference_Fantasy&#x27;,\n                                  &#x27;GenrePreference_Sci-Fi&#x27;, &#x27;Gender_Female&#x27;,\n                                  &#x27;Gender_Male&#x27;, &#x27;ParentalControl_No&#x27;,\n                                  &#x27;ParentalControl_Yes&#x27;, &#x27;SubtitlesEnabled_No&#x27;,\n                                  &#x27;SubtitlesEnabled_Yes&#x27;])])</pre></div></div></div><div class=\"sk-parallel\"><div class=\"sk-parallel-item\"><div class=\"sk-item\"><div class=\"sk-label-container\"><div class=\"sk-label sk-toggleable\"><input class=\"sk-toggleable__control sk-hidden--visually\" id=\"1cbe79f8-2a2e-4a89-bc15-378e06676d10\" type=\"checkbox\" ><label for=\"1cbe79f8-2a2e-4a89-bc15-378e06676d10\" class=\"sk-toggleable__label sk-toggleable__label-arrow\">pca_features</label><div class=\"sk-toggleable__content\"><pre>[&#x27;MonthlyCharges&#x27;, &#x27;SupportTicketsPerMonth&#x27;, &#x27;UserRating&#x27;, &#x27;WatchlistSize&#x27;, &#x27;AccountAge&#x27;, &#x27;TotalCharges&#x27;, &#x27;ViewingHoursPerWeek&#x27;, &#x27;ContentDownloadsPerMonth&#x27;, &#x27;AverageViewingDuration&#x27;]</pre></div></div></div><div class=\"sk-serial\"><div class=\"sk-item\"><div class=\"sk-serial\"><div class=\"sk-item\"><div class=\"sk-estimator sk-toggleable\"><input class=\"sk-toggleable__control sk-hidden--visually\" id=\"4b17fc14-2ab8-4999-8136-3ead3cbcc87a\" type=\"checkbox\" ><label for=\"4b17fc14-2ab8-4999-8136-3ead3cbcc87a\" class=\"sk-toggleable__label sk-toggleable__label-arrow\">FeatureSelector</label><div class=\"sk-toggleable__content\"><pre>FeatureSelector(feature_names=[&#x27;MonthlyCharges&#x27;, &#x27;SupportTicketsPerMonth&#x27;,\n                               &#x27;UserRating&#x27;, &#x27;WatchlistSize&#x27;, &#x27;AccountAge&#x27;,\n                               &#x27;TotalCharges&#x27;, &#x27;ViewingHoursPerWeek&#x27;,\n                               &#x27;ContentDownloadsPerMonth&#x27;,\n                               &#x27;AverageViewingDuration&#x27;])</pre></div></div></div><div class=\"sk-item\"><div class=\"sk-estimator sk-toggleable\"><input class=\"sk-toggleable__control sk-hidden--visually\" id=\"5ac62c98-cd57-4cef-aa54-39ff21db7aff\" type=\"checkbox\" ><label for=\"5ac62c98-cd57-4cef-aa54-39ff21db7aff\" class=\"sk-toggleable__label sk-toggleable__label-arrow\">StandardScaler</label><div class=\"sk-toggleable__content\"><pre>StandardScaler()</pre></div></div></div><div class=\"sk-item\"><div class=\"sk-estimator sk-toggleable\"><input class=\"sk-toggleable__control sk-hidden--visually\" id=\"22f25c52-0352-49fb-a962-ab4d0ede55f9\" type=\"checkbox\" ><label for=\"22f25c52-0352-49fb-a962-ab4d0ede55f9\" class=\"sk-toggleable__label sk-toggleable__label-arrow\">PCA</label><div class=\"sk-toggleable__content\"><pre>PCA(n_components=9)</pre></div></div></div></div></div></div></div></div><div class=\"sk-parallel-item\"><div class=\"sk-item\"><div class=\"sk-label-container\"><div class=\"sk-label sk-toggleable\"><input class=\"sk-toggleable__control sk-hidden--visually\" id=\"fb01a0e1-d3cb-4a9e-8727-39225a4926e5\" type=\"checkbox\" ><label for=\"fb01a0e1-d3cb-4a9e-8727-39225a4926e5\" class=\"sk-toggleable__label sk-toggleable__label-arrow\">encoded_features</label><div class=\"sk-toggleable__content\"><pre>[&#x27;SubscriptionTypeEncoded&#x27;, &#x27;PaymentMethod_Bank transfer&#x27;, &#x27;PaymentMethod_Credit card&#x27;, &#x27;PaymentMethod_Electronic check&#x27;, &#x27;PaymentMethod_Mailed check&#x27;, &#x27;PaperlessBilling_No&#x27;, &#x27;PaperlessBilling_Yes&#x27;, &#x27;ContentType_Both&#x27;, &#x27;ContentType_Movies&#x27;, &#x27;ContentType_TV Shows&#x27;, &#x27;MultiDeviceAccess_No&#x27;, &#x27;MultiDeviceAccess_Yes&#x27;, &#x27;DeviceRegistered_Computer&#x27;, &#x27;DeviceRegistered_Mobile&#x27;, &#x27;DeviceRegistered_TV&#x27;, &#x27;DeviceRegistered_Tablet&#x27;, &#x27;GenrePreference_Action&#x27;, &#x27;GenrePreference_Comedy&#x27;, &#x27;GenrePreference_Drama&#x27;, &#x27;GenrePreference_Fantasy&#x27;, &#x27;GenrePreference_Sci-Fi&#x27;, &#x27;Gender_Female&#x27;, &#x27;Gender_Male&#x27;, &#x27;ParentalControl_No&#x27;, &#x27;ParentalControl_Yes&#x27;, &#x27;SubtitlesEnabled_No&#x27;, &#x27;SubtitlesEnabled_Yes&#x27;]</pre></div></div></div><div class=\"sk-serial\"><div class=\"sk-item\"><div class=\"sk-serial\"><div class=\"sk-item\"><div class=\"sk-estimator sk-toggleable\"><input class=\"sk-toggleable__control sk-hidden--visually\" id=\"afbcb92c-b4c4-43ba-bd0a-609aa909b882\" type=\"checkbox\" ><label for=\"afbcb92c-b4c4-43ba-bd0a-609aa909b882\" class=\"sk-toggleable__label sk-toggleable__label-arrow\">FunctionTransformer</label><div class=\"sk-toggleable__content\"><pre>FunctionTransformer()</pre></div></div></div></div></div></div></div></div></div></div><div class=\"sk-item\"><div class=\"sk-estimator sk-toggleable\"><input class=\"sk-toggleable__control sk-hidden--visually\" id=\"d85af942-58b6-405c-a158-3903f8453538\" type=\"checkbox\" ><label for=\"d85af942-58b6-405c-a158-3903f8453538\" class=\"sk-toggleable__label sk-toggleable__label-arrow\">RandomForestClassifier</label><div class=\"sk-toggleable__content\"><pre>RandomForestClassifier(random_state=42)</pre></div></div></div></div></div></div></div>",
       "datasetInfos": [],
       "metadata": {},
       "removedWidgets": [],
       "textData": null,
       "type": "htmlSandbox"
      }
     },
     "output_type": "display_data"
    }
   ],
   "source": [
    "post_resample_pipeline"
   ]
  },
  {
   "cell_type": "code",
   "execution_count": 0,
   "metadata": {
    "application/vnd.databricks.v1+cell": {
     "cellMetadata": {
      "byteLimit": 2048000,
      "rowLimit": 10000
     },
     "inputWidgets": {},
     "nuid": "1901f0d1-c279-4b3e-9d29-c318ae3e4fb2",
     "showTitle": false,
     "title": ""
    },
    "execution": {
     "iopub.execute_input": "2024-03-26T15:40:59.724328Z",
     "iopub.status.busy": "2024-03-26T15:40:59.723853Z",
     "iopub.status.idle": "2024-03-26T15:40:59.730279Z",
     "shell.execute_reply": "2024-03-26T15:40:59.728982Z",
     "shell.execute_reply.started": "2024-03-26T15:40:59.724291Z"
    },
    "trusted": true
   },
   "outputs": [],
   "source": [
    "# Testing pipeline (without resampling)\n",
    "test_pipeline = Pipeline([\n",
    "    ('preprocessor', preprocessor),\n",
    "    ('to_df', ToDataFrame(column_names=output_column_names)),\n",
    "    ('combine_features', combined_features_pipeline)\n",
    "]) "
   ]
  },
  {
   "cell_type": "code",
   "execution_count": 0,
   "metadata": {
    "application/vnd.databricks.v1+cell": {
     "cellMetadata": {
      "byteLimit": 2048000,
      "rowLimit": 10000
     },
     "inputWidgets": {},
     "nuid": "4a1740a4-b274-4054-9f65-535a00c622eb",
     "showTitle": false,
     "title": ""
    }
   },
   "outputs": [
    {
     "output_type": "stream",
     "name": "stderr",
     "output_type": "stream",
     "text": [
      "/databricks/python/lib/python3.9/site-packages/_distutils_hack/__init__.py:30: UserWarning: Setuptools is replacing distutils.\n  warnings.warn(\"Setuptools is replacing distutils.\")\n2024/04/16 07:35:36 WARNING mlflow.models.model: Model logged without a signature. Signatures will be required for upcoming model registry features as they validate model inputs and denote the expected schema of model outputs. Please visit https://www.mlflow.org/docs/2.11.3/models.html#set-signature-on-logged-model for instructions on setting a model signature on your logged model.\n"
     ]
    },
    {
     "output_type": "display_data",
     "data": {
      "image/png": "[encoded data removed]"
     },
     "metadata": {
      "application/vnd.databricks.v1+output": {
       "addedWidgets": {},
       "arguments": {},
       "data": "data:image/png;base64,iVBORw0KGgoAAAANSUhEUgAAAjMAAAGbCAYAAAAx9RHcAAAAOXRFWHRTb2Z0d2FyZQBNYXRwbG90bGliIHZlcnNpb24zLjUuMSwgaHR0cHM6Ly9tYXRwbG90bGliLm9yZy/YYfK9AAAACXBIWXMAAAsTAAALEwEAmpwYAAAkJklEQVR4nO3debxXVbn48c9zACUHJkFUoLTkZlo5pihq5MCgtxwyU1NQSXIoFb2VklfKITUzTc2BBMUR58ARCDVLQ8BZNK/8LAUSJ0bFCc76/XE29EXOVBw4LPbn7Wu/zv6uvfbe66sgD8+z1t6RUkKSJClXVc09AEmSpBVhMCNJkrJmMCNJkrJmMCNJkrJmMCNJkrLWcmXf4JN3XnW5lNQMDtruxOYeglRao1+/N1bl/Zryz9pWHT+/SsfeFMzMSJKkrK30zIwkSVrJqhc39wialcGMJEm5S9XNPYJmZZlJkiRlzcyMJEm5qy53ZsZgRpKkzCXLTJIkSfkyMyNJUu4sM0mSpKxZZpIkScqXmRlJknLnQ/MkSVLWLDNJkiTly8yMJEm5czWTJEnKmQ/NkyRJypiZGUmScmeZSZIkZc0ykyRJUr7MzEiSlDsfmidJkrJmmUmSJClfZmYkScqdq5kkSVLWLDNJkiTly8yMJEm5s8wkSZJyllK5l2ZbZpIkSVkzMyNJUu5KPgHYYEaSpNw5Z0aSJGWt5JkZ58xIkqSsmZmRJCl3vmhSkiRlzTKTJElSvszMSJKUO1czSZKkrFlmkiRJypeZGUmScmeZSZIkZa3kwYxlJkmSlDUzM5IkZS4lH5onSZJyZplJkiQpX2ZmJEnKXcmfM2MwI0lS7iwzSZIkNU5EtIuIOyLibxHxUkTsHBEdImJ8RLxS/Gxf9I2IuDQipkXEcxGxXcV1BhT9X4mIARXt20fE88U5l0ZENDQmgxlJknKXqptua9hvgQdTSlsAWwMvAacBE1JK3YEJxWeAfkD3YhsEXAkQER2AocBOwI7A0CUBUNHnmIrz+jY0IIMZSZJyV13ddFs9IqItsDswHCCl9HFKaS6wHzCy6DYS2L/Y3w+4PtWYCLSLiI2BPsD4lNLslNIcYDzQtzjWJqU0MaWUgOsrrlUngxlJkrRURAyKiCkV26CKw5sBbwPXRsTTEXFNRKwLdE4pvVH0mQV0Lva7ANMrzp9RtNXXPqOW9no5AViSpNw14WqmlNIwYFgdh1sC2wE/Sik9ERG/5V8lpSXnp4hITTagRjAzI0lS7lZRmYmaTMmMlNITxec7qAlu3ixKRBQ/3yqOzwS6VZzftWirr71rLe31MpiRJEmNklKaBUyPiC8WTXsCLwJjgCUrkgYAo4v9MUD/YlVTD2BeUY4aC/SOiPbFxN/ewNji2PyI6FGsYupfca06WWaSJCl3q/Y5Mz8CboqItYBXgaOoSY7cFhEDgdeAg4u+9wP7ANOAhUVfUkqzI+JsYHLR76yU0uxi/3jgOuAzwAPFVi+DGUmScrcKnwCcUnoG2KGWQ3vW0jcBJ9RxnRHAiFrapwBf/nfGZJlJkiRlzcyMJEm5K/nrDAxmJEnKXclfNGmZSZIkZc3MjCRJubPMJEmSsmaZSZIkKV9mZiRJyp1lJkmSlLWSBzOWmSRJUtbMzEiSlLuUmnsEzcpgRpKk3FlmkiRJypeZGUmSclfyzIzBjCRJufOheZIkSfkyMyNJUu4sM0mSpKyVfGm2ZSZJkpQ1MzOSJOXOMpMkScpayYMZy0ySJClrZmYkScpdyZ8zYzAjSVLmUrWrmSRJkrJlZkaSpNyVfAKwwYwkSbkr+ZwZy0ySJClrZmYkScpdyScAG8xIkpQ758xIkqSslTyYcc6MJEnKmpkZSZJyl5wzI0mScmaZSZIkKV9mZtYw8xe8x9DzL2Haq69BBGcPGcw2X/7S0uML3nuf0876FW+8+TaLFy3myMO+zQH79l6he86bv4BT//c8/jnrTTbZqDMXnX06bdusv/T48y+9zOE/OIULf3Eavb+x2wrdS1pd/ejCk9hhz68x7915nLj3CcsdP+AHB7L7/r0AaNGyBV0370r/bb7He/Pe+4/v2XKtlgy++BS+8JXNWTBnAReecAFvzXhr6fGOm3Ti8glXMOrim/nDsLv/4/soAyVfmm1mZg1z/iVX0XOnHbjnlt9z18jf8fnPdVvm+C133sMXNv0sd428gmsvv4ALL/s9n3zySaOuPemp5/jZORct137NDbfRY4dtuP/W4fTYYRuG33jb0mOLFy/m4iuuZZevbbdiX0xazU24/Y/8ov/QOo/fffVdDO53IoP7ncgNF4xk6sQXGh3IbNh1Q8659bzl2vf+bm/em/c+x+4+iDHXjGbA6Ucuc3zgmd/nqUee/Le+hzKVqptuy5DBzBpkwXvv8+SzL/Dtb/YBoFWrVrRZf71l+kQE7y/8gJQSCz/4kLZt1qdFixYAjLjpDr478EQO6H8cl19zQ6Pv+/Cf/8p+/fYCYL9+e/HQo39deuzmO8awd6+edGjfbgW/nbR6e3HSVN6bu6BRfXf71u48OubRpZ+/fkAvLhzzGy5+4FKOO+8Eqqoa97/mnXr34KE7JgDw2P1/4as9t17m2Juvz+L1/3u98V9CylSDv2MiYouI+GlEXFpsP42ILzV0nla9mf+cRft2bTnj3N9w0JEncOZ5l7Dwgw+X6XPYt7/Jq/+Yzjf2+x4H9D+O004+lqqqKh574klenzGTUdf8ljuv+x0vvjyNKc8836j7vjtnLp06dgCg4wbteXfOXADefPsdJjz6ON89YN8m/Z5SztZqvTbb9dqev97/GABdN+/Krt/cndMO/DGD+51I9eJqvn5Ar0Zdq8NGG/DOP98GoHpxNe8vWMj67dvQep3WHHjcQYy65JaV9C202qlOTbdlqN45MxHxU+BQYBQwqWjuCtwSEaNSSufXcd4gYBDAFRedw/f7H9p0I1adFi1ezEv/N40hg4/jq1ttwXmXXMXwG27jR4P6L+3z2KQn2aL75xlx2flMn/kGx5w8hO233orHJz/F45Oe4qAjfwjAwg8+4LXp/2SHbb7CoceczMcff8LCDz5g3vwFfHtAzXyAU44/mp47bb/MGCKCiADggt9ezeDjjm703zKlMthx7x15acpLS0tMX+25DZt/5Qv8+p6LAVi79VrMe3ceAKcP+xkbdutMq7Va0nGTTlz8wKUA3DtiDBNu/2Od9zhk8GGMGf4HPlz4YZ19tGZJJV/N1NAE4IHAVimlZSZVRMRvgKlArcFMSmkYMAzgk3dezTPMy9BGG3akc6eOfHWrLQDo3WtXrqmYvwJw933j+f7hBxMRfLbrJnTZeCP+/toMSPD9I77Lwfvvs9x1b/n9JUDNnJnR94/n3DNOXeb4Bu3b8fY7s+nUsQNvvzObDu3aAjD1b6/w46E1v0TmzJvPn/86mRYtWrDn7rs09VeXsrHbN3fnz6P/tPRzBDx0x0PccMHI5fqeN+hcoGbOzIkXDeaM756+zPHZs96l4yadeHfWu1S1qGLd9ddhwZz5/Ne2X2SXfXoy4PSjWLfNuqSU+PijT7h/5L0r98tJzaShvzJXA5vU0r5xcUyrkY4bdGCjDTvVBCfAxCef4QubfnaZPht37sTEJ58B4J3Zc/jH6zPouslG7LLjdtx93zgWLvwAqCkRLSkXNaTXrj0Y/UDN3xJHP/BHvrHbzgCMveM6xt05knF3jqR3r105439OMJBRqa2z/jps1ePLPDFu4tK25x57ll326UnbDWr+ErBe2/Xo1KVTo643afwT7HHQngD03GdXnnv8OQCGHPRTBvUcyKCeA7lnxBjuuPw2A5k1nWWmep0MTIiIV4DpRdtngc2BH67Ecek/NGTwcfz0F7/ik0Wf0G2TjTl7yGBuvfs+AL57wL4ce+Rh/OzcizjgiONIKTH4+KNp364tPXfanldfm873fnAKAOt8pjXnnfljNmjExN3vH3Ewp/7vL7nr3rFsstGGXHT2kJX5FaXV0qmX/Zgv7/wV2rRvw/AnruOW39xEy1Y1/4t98MYHAOjRZ2eeefRpPvrgo6XnTX9lOjf9+gZ+fuPZVFUFixYt5uozruTtmW83eM/xt45j8CWnctWjw1gw9z1+/cMLVs6X0+ov01VITSVSA49AjogqYEegS9E0E5icUlrcmBtYZpKax0HbndjcQ5BKa/Tr98aqvN/75xzeZH/WrnvGjat07E2hwYfmpZSqgYkN9ZMkSc0k0/JQU/EJwJIk5a7kq5lcMytJkrJmZkaSpNxZZpIkSVkr+Womy0ySJClrBjOSJOVuFT40LyL+ERHPR8QzETGlaOsQEeMj4pXiZ/uiPYr3Ok6LiOciYruK6wwo+r8SEQMq2rcvrj+tOLfBpeIGM5IkZS5VVzfZ1kjfSCltk1Laofh8GjAhpdQdmFB8BugHdC+2QcCVUBP8AEOBnah5lt3QJQFQ0eeYivP6NjQYgxlJkrSi9gOWvGBsJLB/Rfv1qcZEoF1EbAz0AcanlGanlOYA44G+xbE2KaWJqeapvtdXXKtOBjOSJOWuCctMETEoIqZUbIM+dbcEjIuIJyuOdU4pvVHszwI6F/td+NfrkABmFG31tc+opb1ermaSJCl3Tbg0O6U0DBhWT5ddU0ozI2JDYHxE/O1T56eIWKVrxc3MSJKkRkspzSx+vgXcTc2clzeLEhHFz7eK7jOBbhWndy3a6mvvWkt7vQxmJEnKXapuuq0eEbFuRKy/ZB/oDbwAjAGWrEgaAIwu9scA/YtVTT2AeUU5aizQOyLaFxN/ewNji2PzI6JHsYqpf8W16mSZSZKk3K26JwB3Bu4uVku3BG5OKT0YEZOB2yJiIPAacHDR/35gH2AasBA4CiClNDsizgYmF/3OSinNLvaPB64DPgM8UGz1MpiRJEmNklJ6Fdi6lvZ3gT1raU/ACXVcawQwopb2KcCX/51xGcxIkpS55LuZJElS1koezDgBWJIkZc3MjCRJuWv8awjWSAYzkiTlzjKTJElSvszMSJKUu5JnZgxmJEnKXM3jXMrLMpMkScqamRlJknJnmUmSJGWt5MGMZSZJkpQ1MzOSJGXOdzNJkqS8lTyYscwkSZKyZmZGkqTclfvVTAYzkiTlruxzZiwzSZKkrJmZkSQpdyXPzBjMSJKUu5LPmbHMJEmSsmZmRpKkzJV9ArDBjCRJubPMJEmSlC8zM5IkZc4ykyRJylvJy0wGM5IkZS6VPJhxzowkScqamRlJknJX8syMwYwkSZmzzCRJkpQxMzOSJOWu5JkZgxlJkjJnmUmSJCljZmYkScpc2TMzBjOSJGWu7MGMZSZJkpQ1MzOSJOUuRXOPoFkZzEiSlDnLTJIkSRkzMyNJUuZStWUmSZKUMctMkiRJGTMzI0lS5pKrmSRJUs4sM0mSJGXMzIwkSZlzNZMkScpaSs09guZlmUmSJGXNYEaSpMyl6miyrTEiokVEPB0R9xafN4uIJyJiWkTcGhFrFe1rF5+nFcc3rbjG6UX7yxHRp6K9b9E2LSJOa8x4DGYkScrcqg5mgJOAlyo+XwBcnFLaHJgDDCzaBwJzivaLi35ExJbAIcBWQF/giiJAagH8DugHbAkcWvStl8GMJElqtIjoCuwLXFN8DmAP4I6iy0hg/2J/v+IzxfE9i/77AaNSSh+llP4OTAN2LLZpKaVXU0ofA6OKvvUymJEkKXMpNd0WEYMiYkrFNuhTt7sE+Amw5Ok2GwBzU0qLis8zgC7Ffhdges0Y0yJgXtF/afunzqmrvV6uZpIkKXNNuTQ7pTQMGFbbsYj4b+CtlNKTEdGryW66ggxmJElSY/UEvhUR+wCtgTbAb4F2EdGyyL50BWYW/WcC3YAZEdESaAu8W9G+ROU5dbXXyTKTJEmZSymabKv/Pun0lFLXlNKm1EzgfSil9D3gYeCgotsAYHSxP6b4THH8oZRSKtoPKVY7bQZ0ByYBk4HuxeqotYp7jGno+5uZkSQpc6vBu5l+CoyKiHOAp4HhRftw4IaImAbMpiY4IaU0NSJuA14EFgEnpJQWA0TED4GxQAtgREppakM3N5iRJEn/tpTSI8Ajxf6r1KxE+nSfD4Hv1HH+ucC5tbTfD9z/74zFYEaSpMxVN1AeWtMZzEiSlLmG5rqs6ZwALEmSsmZmRpKkzDXlc2ZyZDAjSVLmUmruETQvy0ySJClrZmYkScqcZSZJkpS1si/NtswkSZKyZmZGkqTMlf05MwYzkiRlztVMkiRJGTMzI0lS5so+AdhgRpKkzJV9zoxlJkmSlDUzM5IkZa7sE4ANZiRJylzZ58xYZpIkSVlb6ZmZftset7JvIakWj7z5QnMPQdIqUvYJwJaZJEnKnGUmSZKkjJmZkSQpcyVfzGQwI0lS7speZjKYkSQpc2WfAOycGUmSlDUzM5IkZa66uQfQzAxmJEnKXMIykyRJUrbMzEiSlLnqkq/NNpiRJClz1ZaZJEmS8mVmRpKkzJV9ArDBjCRJmSv70mzLTJIkKWtmZiRJypxlJkmSlDXLTJIkSRkzMyNJUubKnpkxmJEkKXNlnzNjmUmSJGXNzIwkSZmrLndixmBGkqTc+W4mSZKkjJmZkSQpc6m5B9DMDGYkScpc2ZdmW2aSJElZMzMjSVLmqqPcE4ANZiRJylzZ58xYZpIkSVkzMyNJUuacACxJkrJWHU231SciWkfEpIh4NiKmRsQvivbNIuKJiJgWEbdGxFpF+9rF52nF8U0rrnV60f5yRPSpaO9btE2LiNMa8/0NZiRJUmN9BOyRUtoa2AboGxE9gAuAi1NKmwNzgIFF/4HAnKL94qIfEbElcAiwFdAXuCIiWkREC+B3QD9gS+DQom+9DGYkScpcNdFkW31SjfeKj62KLQF7AHcU7SOB/Yv9/YrPFMf3jIgo2kellD5KKf0dmAbsWGzTUkqvppQ+BkYVfetlMCNJUuZSE24RMSgiplRsgyrvVWRQngHeAsYD/w+Ym1JaVHSZAXQp9rsA0wGK4/OADSrbP3VOXe31cgKwJElaKqU0DBhWz/HFwDYR0Q64G9hiFQ2tTgYzkiRlrqGJuytDSmluRDwM7Ay0i4iWRfalKzCz6DYT6AbMiIiWQFvg3Yr2JSrPqau9TpaZJEnKXHUTbvWJiE5FRoaI+AywN/AS8DBwUNFtADC62B9TfKY4/lBKKRXthxSrnTYDugOTgMlA92J11FrUTBIe09D3NzMjSZIaa2NgZLHqqAq4LaV0b0S8CIyKiHOAp4HhRf/hwA0RMQ2YTU1wQkppakTcBrwILAJOKMpXRMQPgbFAC2BESmlqQ4MymJEkKXOr6nUGKaXngG1raX+VmpVIn27/EPhOHdc6Fzi3lvb7gfv/nXEZzEiSlLnmmDOzOnHOjCRJypqZGUmSMlf2dzMZzEiSlLmyBzOWmSRJUtbMzEiSlLlU8gnABjOSJGXOMpMkSVLGzMxIkpS5smdmDGYkScrcqnoC8OrKMpMkScqamRlJkjJX9tcZGMxIkpS5ss+ZscwkSZKyZmZGkqTMlT0zYzAjSVLmXM0kSZKUMTMzkiRlztVMkiQpa86ZkSRJWXPOjCRJUsbMzEiSlLnqkudmDGYkScpc2efMWGaSJElZMzMjSVLmyl1kMpiRJCl7lpkkSZIyZmZGkqTM+QRgSZKUtbIvzbbMJEmSsmZmRpKkzJU7L2MwI0lS9lzNJEmSlDEzM5IkZa7sE4ANZiRJyly5QxnLTJIkKXNmZiRJylzZJwAbzEiSlLmyz5mxzCRJkrJmZkaSpMyVOy9jMCNJUvbKPmfGMpMkScqamRlJkjKXSl5oMpiRJClzlpkkSZIyZmZGkqTMlf05MwYzkiRlrtyhjGUmSZKUOTMzkiRlzjKTJEnKmquZtMb4n1+fwu1P38rv/3h1rce37vFVRk+9i6sevIKrHryCw0/63grfs9VarTjjiiGM/PO1XDbmt3Tu2nmZ4xtu0ol7/vYHvvODg1b4XtLqau211+avj93Lk1PG8+wzDzH0zFOX69Ot2yb8cdztTJ40lqeeHE+/vnus8H033bQbj//lHv724l+4+aYradWqFQCDjjmCp5/6I1Mmj+NPD9/Nl77UfYXvJQFERLeIeDgiXoyIqRFxUtHeISLGR8Qrxc/2RXtExKURMS0inouI7SquNaDo/0pEDKho3z4ini/OuTQioqFxGcysQcbePo7Tj/hZvX2en/QCx/Y9nmP7Hs+Nv72p0dfu3LUzF932q+Xa+x3ShwVz32PAbkdx5zV3ccyQgcscP/bMHzDp4cmNvo+Uo48++oi9eh/M9jvszfY79KZP717stON2y/QZcvpJ3H7HPXxtxz587/DjuezSXzb6+v2POJgz//eU5drP++XPuOTS37PFlrsyZ848jj7qUABuGXU32263Fzt8rTcXXnQFv/7V0BX7glrtpSb8pwGLgFNTSlsCPYATImJL4DRgQkqpOzCh+AzQD+hebIOAK6Em+AGGAjsBOwJDlwRARZ9jKs7r29CgDGbWIM8/8QIL5i74j87d84A9uPyeS7nqwSs4+bwTqapq3C+NXXrvzLg7xgPw6H1/Ztue2/zrWJ+dmTV9Fq/932v/0ZiknLz//kIAWrVqSctWrUhp2T8UUoI2bdYDoG2bNrzxxpsAVFVVccF5Z/DXx+/jqSfHc8z3D2/0Pb/Rqyd33nkfADfccDv7fasPAAsWvLe0z7rrrrPcWLTmqW7CrT4ppTdSSk8V+wuAl4AuwH7AyKLbSGD/Yn8/4PpUYyLQLiI2BvoA41NKs1NKc4DxQN/iWJuU0sRU8wv3+opr1clgpmS23P5LXD32Sn55/Tl87r8+B8BnN+9Gr29+nZMOGMyxfY+nurqaPQ9oXAp8g4068vY/3wagenE17y94nzbt29B6ndYcctzBXH/xjSvtu0irk6qqKqZMHscbM59jwoRHmTT56WWOn3X2RRx22IH849Up3DPmek46+QwAjj7qUObNX8DOu+xLj533ZeDAw9h0024N3m+DDdozd+48Fi9eDMCMmW+wSZeNlh4/7tgBvPzSY5z/yzM4+ZQzm/Cbak0XEYMiYkrFNqiOfpsC2wJPAJ1TSm8Uh2YBS+YcdAGmV5w2o2irr31GLe31+o8nAEfEUSmla+s4NoiadBJbtNuSLut1/U9voyb0ygvTOKzHEXy48EN2/MbX+MU1Qzly96PZtue2dP9qd35372UArN16Lea+MxeAn//+TDbqthGtWrVkwy4bctWDVwBw94g/MPa2cXXeq/8pR3DnNXfz4cIPV/r3klYH1dXV7PC13rRt24Y7bx/OVlt9kalTX156/JDv7s/119/OxZdcTY+dtue66y5l6232YO+9v85XvvIlDjxwXwDatlmf7ptvxvz57zFu7K0AdGjfjrXWasW3vlWTbT/yqBOXZnbqcuVVI7nyqpEccsj+DDn9JI4eePLK+eJaLTTlu5lSSsOAYfX1iYj1gDuBk1NK8yuntaSUUkSs0nTgiqxm+gVQazBT+S9ir259zG+uJha+t3Dp/qSHJ3PiuT+kTfs2RMD428cz/ILl/3P+/JizgJo5Mz/5zamcevBPljn+7qx36LRJJ96Z9Q5VLapYd/11mT9nPl/adgt232dXjhkykPXarEd1Snz84ceMHjlm5X5JqZnNmzefR/70GH1691ommDnqqEPY979rSkgTn3iS1muvTceOHYiAk08+g3Hj/7TctXb4Wm+gZs7Mppt25ayzf7PM8Xbt2tKiRQsWL15M1y4b88+Zs5a7xq23juZ3l53XlF9Rq6FVuZopIlpRE8jclFK6q2h+MyI2Tim9UZSK3iraZwKVqcauRdtMoNen2h8p2rvW0r9e9ZaZipnHtW3P868UkjLRvlP7pftf3OaLVFVVMX/OfJ567Bl223c32m3QFoD1263Phl02bNQ1Hx8/kd4H7Q3A7vvuxjOPPQvA4G+fyuG7DODwXQZw1/C7ueXyUQYyWmN17NiBtm3bANC6dWv22nN3Xn75/y3TZ/rrM9njG7sCsMUWm9O69dq8/fa7jBv3J37wg/60bFnzd8vu3T/POut8plH3feRPj/Ptb9dkdI444juMuacmW7r55pst7bPvPnvxyrS/r9gXlArFyqLhwEsppcroegywZEXSAGB0RXv/YlVTD2BeUY4aC/SOiPbFxN/ewNji2PyI6FHcq3/FterUUGamMzWTdOZ8+vsAjzd0ca1aQy4/ja17fJW2Hdpyy6QbGXnRDbRsVfOf+N4b72P3fXbjm0f8N4sXL+bjDz/inBNq/rb2+iuvc92FIzn/pvOoqgoWfbKYy864nLdmvlXf7QB4YNSDnHbJTxj552tZMHcB557Q+BUa0ppi4407M2L4JbRoUUVVVRV33HEP993/R34+9H+Y8uSz3HvveH7807O4+soLOemkY0gpMfD7gwEYPuJmNt20G5MnPUhE8M7bsznwoKMbdd/Th5zLzTdewVk//wnPPDuVEdfeAsDxxx3JnnvuxiefLGLunHmWmEqgetVN8u4JHAE8HxHPFG1DgPOB2yJiIPAacHBx7H5gH2AasBA4CiClNDsizgaWLHc9K6U0u9g/HrgO+AzwQLHVK+qb5R4Rw4FrU0p/qeXYzSmlwxq6gWUmqXk88uYLzT0EqbQWfTyzwWejNKXDP3dgk/1Ze+Nrd63SsTeFejMzKaWB9RxrMJCRJEla2XydgSRJmfPdTJIkKWtNuTQ7Rz40T5IkZc3MjCRJmSv7W7MNZiRJylzZ58xYZpIkSVkzMyNJUubKPgHYYEaSpMyVfc6MZSZJkpQ1MzOSJGWuvlcTlYHBjCRJmXM1kyRJUsbMzEiSlLmyTwA2mJEkKXMuzZYkSVlzzowkSVLGzMxIkpQ5l2ZLkqSslX0CsGUmSZKUNTMzkiRlztVMkiQpa65mkiRJypiZGUmSMudqJkmSlDXLTJIkSRkzMyNJUuZczSRJkrJWXfI5M5aZJElS1szMSJKUuXLnZQxmJEnKnquZJEmSMmZmRpKkzJU9M2MwI0lS5sr+BGDLTJIkKWtmZiRJypxlJkmSlLWyPwHYMpMkScqamRlJkjJX9gnABjOSJGWu7HNmLDNJkqSsmZmRJClzlpkkSVLWLDNJkiRlzMyMJEmZK/tzZgxmJEnKXHXJ58xYZpIkSVkzMyNJUuYsM0mSpKxZZpIkScqYwYwkSZlLTfhPQyJiRES8FREvVLR1iIjxEfFK8bN90R4RcWlETIuI5yJiu4pzBhT9X4mIARXt20fE88U5l0ZENDQmgxlJkjJXnVKTbY1wHdD3U22nARNSSt2BCcVngH5A92IbBFwJNcEPMBTYCdgRGLokACr6HFNx3qfvtRyDGUmS1GgppUeB2Z9q3g8YWeyPBPavaL8+1ZgItIuIjYE+wPiU0uyU0hxgPNC3ONYmpTQx1byj4fqKa9XJYEaSpMw1ZZkpIgZFxJSKbVAjhtA5pfRGsT8L6FzsdwGmV/SbUbTV1z6jlvZ6uZpJkqTMNeVqppTSMGDYCpyfImKVLq8yMyNJklbUm0WJiOLnW0X7TKBbRb+uRVt97V1raa+XwYwkSZlblauZ6jAGWLIiaQAwuqK9f7GqqQcwryhHjQV6R0T7YuJvb2BscWx+RPQoVjH1r7hWnSwzSZKUuZSqV9m9IuIWoBfQMSJmULMq6XzgtogYCLwGHFx0vx/YB5gGLASOqhlvmh0RZwOTi35npZSWTCo+npoVU58BHii2+seUVvJTA/fq1qfcjyWUmskjb77QcCdJK8Wij2c2+GyUprTZBls32Z+1f3/32VU69qZgZkaSpMxV+24mSZKUs5VdZVndOQFYkiRlzcyMJEmZs8wkSZKyZplJkiQpY2ZmJEnKXFO+ziBHBjOSJGVuBZ7cu0awzCRJkrJmZkaSpMyVfQKwwYwkSZlzabYkScpa2TMzzpmRJElZMzMjSVLmXJotSZKyZplJkiQpY2ZmJEnKnKuZJElS1iwzSZIkZczMjCRJmXM1kyRJypovmpQkScqYmRlJkjJnmUmSJGXN1UySJEkZMzMjSVLmyj4B2GBGkqTMWWaSJEnKmJkZSZIyV/bMjMGMJEmZK3coY5lJkiRlLsqemlL9ImJQSmlYc49DKht/70mNZ2ZGDRnU3AOQSsrfe1IjGcxIkqSsGcxIkqSsGcyoIdbspebh7z2pkZwALEmSsmZmRpIkZc1gRpIkZc1gRrWKiL4R8XJETIuI05p7PFJZRMSIiHgrIl5o7rFIuTCY0XIiogXwO6AfsCVwaERs2byjkkrjOqBvcw9CyonBjGqzIzAtpfRqSuljYBSwXzOPSSqFlNKjwOzmHoeUE4MZ1aYLML3i84yiTZKk1Y7BjCRJyprBjGozE+hW8blr0SZJ0mrHYEa1mQx0j4jNImIt4BBgTDOPSZKkWhnMaDkppUXAD4GxwEvAbSmlqc07KqkcIuIW4K/AFyNiRkQMbO4xSas7X2cgSZKyZmZGkiRlzWBGkiRlzWBGkiRlzWBGkiRlzWBGkiRlzWBGkiRlzWBGkiRl7f8DcN+SqpR5YcYAAAAASUVORK5CYII=\n",
       "datasetInfos": [],
       "metadata": {},
       "removedWidgets": [],
       "type": "image"
      }
     },
     "output_type": "display_data"
    }
   ],
   "source": [
    "import mlflow\n",
    "from mlflow import sklearn\n",
    "import matplotlib.pyplot as plt\n",
    "import seaborn as sn\n",
    "from sklearn.metrics import accuracy_score, precision_score, recall_score, f1_score, confusion_matrix\n",
    "\n",
    "with mlflow.start_run():\n",
    "    # Log parameters (if any)\n",
    "    mlflow.log_param(\"num_trees\", 100)  # Example parameter\n",
    "\n",
    "    # Fit the model\n",
    "    trained_pipeline = post_resample_pipeline.fit(resampled_dataframe.drop('Churn', axis=1), resampled_dataframe['Churn'])\n",
    "    \n",
    "    # Preprocess the test data using the testing pipeline\n",
    "    X_test_preprocessed = test_pipeline.transform(test_df)\n",
    "\n",
    "    # Assuming 'output_column_names' are the names of your processed features\n",
    "    X_test_preprocessed_df = pd.DataFrame(X_test_preprocessed, columns=output_column_names)\n",
    "\n",
    "    # Log the model\n",
    "    mlflow.sklearn.log_model(trained_pipeline, \"random_forest_classifier\")\n",
    "    \n",
    "    # Make predictions\n",
    "    y_pred = trained_pipeline.predict(X_test_preprocessed_df)\n",
    "    \n",
    "    # Create a Series from the predictions, using `test_df.index` to align with the original DataFrame\n",
    "    predictions_series = pd.Series(y_pred, index=test_df.index, name='Predictions')\n",
    "\n",
    "    # Concatenate the predictions with the original DataFrame\n",
    "    result_df = pd.concat([test_df, predictions_series], axis=1)\n",
    "\n",
    "    # True target values\n",
    "    true_targets = prediction_df['predicted_probability'] \n",
    "\n",
    "    # Predicted values from the model\n",
    "    predicted_targets = result_df['Predictions']\n",
    "    \n",
    "    # Calculate metrics\n",
    "    accuracy = accuracy_score(true_targets, predicted_targets)\n",
    "    precision = precision_score(true_targets, predicted_targets)\n",
    "    recall = recall_score(true_targets, predicted_targets)\n",
    "    f1 = f1_score(true_targets, predicted_targets)\n",
    "    conf_matrix = confusion_matrix(true_targets, predicted_targets)\n",
    "    \n",
    "    # Log metrics\n",
    "    mlflow.log_metric(\"accuracy\", accuracy)\n",
    "    mlflow.log_metric(\"precision\", precision)\n",
    "    mlflow.log_metric(\"recall\", recall)\n",
    "    mlflow.log_metric(\"f1_score\", f1)\n",
    "    \n",
    "\n",
    "    plt.figure(figsize=(10,7))\n",
    "    sn.heatmap(conf_matrix, annot=True)\n",
    "    plt.savefig(\"confusion_matrix.png\")\n",
    "    mlflow.log_artifact(\"confusion_matrix.png\")\n",
    "\n",
    "    # End the run\n",
    "    mlflow.end_run()\n"
   ]
  },
  {
   "cell_type": "code",
   "execution_count": 0,
   "metadata": {
    "application/vnd.databricks.v1+cell": {
     "cellMetadata": {
      "byteLimit": 2048000,
      "rowLimit": 10000
     },
     "inputWidgets": {},
     "nuid": "61a6db14-815d-464d-8230-28ed78e393c4",
     "showTitle": false,
     "title": ""
    }
   },
   "outputs": [
    {
     "output_type": "stream",
     "name": "stderr",
     "output_type": "stream",
     "text": [
      "2024/04/16 07:35:56 WARNING mlflow.models.model: Model logged without a signature. Signatures will be required for upcoming model registry features as they validate model inputs and denote the expected schema of model outputs. Please visit https://www.mlflow.org/docs/2.11.3/models.html#set-signature-on-logged-model for instructions on setting a model signature on your logged model.\n"
     ]
    },
    {
     "output_type": "display_data",
     "data": {
      "image/png": "[encoded data removed]"
     },
     "metadata": {
      "application/vnd.databricks.v1+output": {
       "addedWidgets": {},
       "arguments": {},
       "data": "data:image/png;base64,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\n",
       "datasetInfos": [],
       "metadata": {},
       "removedWidgets": [],
       "type": "image"
      }
     },
     "output_type": "display_data"
    }
   ],
   "source": [
    "import mlflow\n",
    "from mlflow import sklearn\n",
    "import matplotlib.pyplot as plt\n",
    "import seaborn as sn\n",
    "from sklearn.metrics import accuracy_score, precision_score, recall_score, f1_score, confusion_matrix\n",
    "\n",
    "with mlflow.start_run():\n",
    "    # Log parameters (if any)\n",
    "    mlflow.log_param(\"num_trees\", 100)  # Example parameter\n",
    "\n",
    "    # Fit the model\n",
    "    trained_pipeline = logistic_regression_pipeline.fit(resampled_dataframe.drop('Churn', axis=1), resampled_dataframe['Churn'])\n",
    "    \n",
    "    # Preprocess the test data using the testing pipeline\n",
    "    X_test_preprocessed = test_pipeline.transform(test_df)\n",
    "\n",
    "    # Assuming 'output_column_names' are the names of your processed features\n",
    "    X_test_preprocessed_df = pd.DataFrame(X_test_preprocessed, columns=output_column_names)\n",
    "\n",
    "    # Log the model\n",
    "    mlflow.sklearn.log_model(trained_pipeline, \"random_forest_classifier\")\n",
    "    \n",
    "    # Make predictions\n",
    "    y_pred = trained_pipeline.predict(X_test_preprocessed_df)\n",
    "    \n",
    "    # Create a Series from the predictions, using `test_df.index` to align with the original DataFrame\n",
    "    predictions_series = pd.Series(y_pred, index=test_df.index, name='Predictions')\n",
    "\n",
    "    # Concatenate the predictions with the original DataFrame\n",
    "    result_df = pd.concat([test_df, predictions_series], axis=1)\n",
    "\n",
    "    # True target values\n",
    "    true_targets = prediction_df['predicted_probability'] \n",
    "\n",
    "    # Predicted values from the model\n",
    "    predicted_targets = result_df['Predictions']\n",
    "    \n",
    "    # Calculate metrics\n",
    "    accuracy = accuracy_score(true_targets, predicted_targets)\n",
    "    precision = precision_score(true_targets, predicted_targets)\n",
    "    recall = recall_score(true_targets, predicted_targets)\n",
    "    f1 = f1_score(true_targets, predicted_targets)\n",
    "    conf_matrix = confusion_matrix(true_targets, predicted_targets)\n",
    "    \n",
    "    # Log metrics\n",
    "    mlflow.log_metric(\"accuracy\", accuracy)\n",
    "    mlflow.log_metric(\"precision\", precision)\n",
    "    mlflow.log_metric(\"recall\", recall)\n",
    "    mlflow.log_metric(\"f1_score\", f1)\n",
    "    \n",
    "\n",
    "    plt.figure(figsize=(10,7))\n",
    "    sn.heatmap(conf_matrix, annot=True)\n",
    "    plt.savefig(\"confusion_matrix.png\")\n",
    "    mlflow.log_artifact(\"confusion_matrix.png\")\n",
    "\n",
    "    # End the run\n",
    "    mlflow.end_run()\n"
   ]
  },
  {
   "cell_type": "markdown",
   "metadata": {
    "application/vnd.databricks.v1+cell": {
     "cellMetadata": {
      "byteLimit": 2048000,
      "rowLimit": 10000
     },
     "inputWidgets": {},
     "nuid": "c8bdff04-c838-4f55-8272-d6f6d1c4a198",
     "showTitle": false,
     "title": ""
    }
   },
   "source": [
    "import mlflow\n",
    "from mlflow import sklearn\n",
    "import matplotlib.pyplot as plt\n",
    "import seaborn as sn\n",
    "from sklearn.metrics import accuracy_score, precision_score, recall_score, f1_score, confusion_matrix\n",
    "\n",
    "with mlflow.start_run():\n",
    "    # Log parameters (if any)\n",
    "    mlflow.log_param(\"num_trees\", 100)  # Example parameter\n",
    "\n",
    "    # Fit the model\n",
    "    trained_pipeline = svm_pipeline.fit(resampled_dataframe.drop('Churn', axis=1), resampled_dataframe['Churn'])\n",
    "    \n",
    "    # Preprocess the test data using the testing pipeline\n",
    "    X_test_preprocessed = test_pipeline.transform(test_df)\n",
    "\n",
    "    # Assuming 'output_column_names' are the names of your processed features\n",
    "    X_test_preprocessed_df = pd.DataFrame(X_test_preprocessed, columns=output_column_names)\n",
    "\n",
    "    # Log the model\n",
    "    mlflow.sklearn.log_model(trained_pipeline, \"random_forest_classifier\")\n",
    "    \n",
    "    # Make predictions\n",
    "    y_pred = trained_pipeline.predict(X_test_preprocessed_df)\n",
    "    \n",
    "    # Create a Series from the predictions, using `test_df.index` to align with the original DataFrame\n",
    "    predictions_series = pd.Series(y_pred, index=test_df.index, name='Predictions')\n",
    "\n",
    "    # Concatenate the predictions with the original DataFrame\n",
    "    result_df = pd.concat([test_df, predictions_series], axis=1)\n",
    "\n",
    "    # True target values\n",
    "    true_targets = prediction_df['predicted_probability'] \n",
    "\n",
    "    # Predicted values from the model\n",
    "    predicted_targets = result_df['Predictions']\n",
    "    \n",
    "    # Calculate metrics\n",
    "    accuracy = accuracy_score(true_targets, predicted_targets)\n",
    "    precision = precision_score(true_targets, predicted_targets)\n",
    "    recall = recall_score(true_targets, predicted_targets)\n",
    "    f1 = f1_score(true_targets, predicted_targets)\n",
    "    conf_matrix = confusion_matrix(true_targets, predicted_targets)\n",
    "    \n",
    "    # Log metrics\n",
    "    mlflow.log_metric(\"accuracy\", accuracy)\n",
    "    mlflow.log_metric(\"precision\", precision)\n",
    "    mlflow.log_metric(\"recall\", recall)\n",
    "    mlflow.log_metric(\"f1_score\", f1)\n",
    "    \n",
    "\n",
    "    plt.figure(figsize=(10,7))\n",
    "    sn.heatmap(conf_matrix, annot=True)\n",
    "    plt.savefig(\"confusion_matrix.png\")\n",
    "    mlflow.log_artifact(\"confusion_matrix.png\")\n",
    "\n",
    "    # End the run\n",
    "    mlflow.end_run()\n"
   ]
  },
  {
   "cell_type": "code",
   "execution_count": 0,
   "metadata": {
    "application/vnd.databricks.v1+cell": {
     "cellMetadata": {
      "byteLimit": 2048000,
      "rowLimit": 10000
     },
     "inputWidgets": {},
     "nuid": "b566aef6-738a-4f34-8613-1cedc9695061",
     "showTitle": false,
     "title": ""
    }
   },
   "outputs": [
    {
     "output_type": "stream",
     "name": "stderr",
     "output_type": "stream",
     "text": [
      "2024/04/16 07:36:03 WARNING mlflow.models.model: Model logged without a signature. Signatures will be required for upcoming model registry features as they validate model inputs and denote the expected schema of model outputs. Please visit https://www.mlflow.org/docs/2.11.3/models.html#set-signature-on-logged-model for instructions on setting a model signature on your logged model.\n"
     ]
    },
    {
     "output_type": "display_data",
     "data": {
      "image/png": "[encoded data removed]"
     },
     "metadata": {
      "application/vnd.databricks.v1+output": {
       "addedWidgets": {},
       "arguments": {},
       "data": "data:image/png;base64,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\n",
       "datasetInfos": [],
       "metadata": {},
       "removedWidgets": [],
       "type": "image"
      }
     },
     "output_type": "display_data"
    }
   ],
   "source": [
    "import mlflow\n",
    "from mlflow import sklearn\n",
    "import matplotlib.pyplot as plt\n",
    "import seaborn as sn\n",
    "from sklearn.metrics import accuracy_score, precision_score, recall_score, f1_score, confusion_matrix\n",
    "\n",
    "with mlflow.start_run():\n",
    "    # Log parameters (if any)\n",
    "    mlflow.log_param(\"num_trees\", 100)  # Example parameter\n",
    "\n",
    "    # Fit the model\n",
    "    trained_pipeline = knn_pipeline.fit(resampled_dataframe.drop('Churn', axis=1), resampled_dataframe['Churn'])\n",
    "    \n",
    "    # Preprocess the test data using the testing pipeline\n",
    "    X_test_preprocessed = test_pipeline.transform(test_df)\n",
    "\n",
    "    # Assuming 'output_column_names' are the names of your processed features\n",
    "    X_test_preprocessed_df = pd.DataFrame(X_test_preprocessed, columns=output_column_names)\n",
    "\n",
    "    # Log the model\n",
    "    mlflow.sklearn.log_model(trained_pipeline, \"random_forest_classifier\")\n",
    "    \n",
    "    # Make predictions\n",
    "    y_pred = trained_pipeline.predict(X_test_preprocessed_df)\n",
    "    \n",
    "    # Create a Series from the predictions, using `test_df.index` to align with the original DataFrame\n",
    "    predictions_series = pd.Series(y_pred, index=test_df.index, name='Predictions')\n",
    "\n",
    "    # Concatenate the predictions with the original DataFrame\n",
    "    result_df = pd.concat([test_df, predictions_series], axis=1)\n",
    "\n",
    "    # True target values\n",
    "    true_targets = prediction_df['predicted_probability'] \n",
    "\n",
    "    # Predicted values from the model\n",
    "    predicted_targets = result_df['Predictions']\n",
    "    \n",
    "    # Calculate metrics\n",
    "    accuracy = accuracy_score(true_targets, predicted_targets)\n",
    "    precision = precision_score(true_targets, predicted_targets)\n",
    "    recall = recall_score(true_targets, predicted_targets)\n",
    "    f1 = f1_score(true_targets, predicted_targets)\n",
    "    conf_matrix = confusion_matrix(true_targets, predicted_targets)\n",
    "    \n",
    "    # Log metrics\n",
    "    mlflow.log_metric(\"accuracy\", accuracy)\n",
    "    mlflow.log_metric(\"precision\", precision)\n",
    "    mlflow.log_metric(\"recall\", recall)\n",
    "    mlflow.log_metric(\"f1_score\", f1)\n",
    "    \n",
    "\n",
    "    plt.figure(figsize=(10,7))\n",
    "    sn.heatmap(conf_matrix, annot=True)\n",
    "    plt.savefig(\"confusion_matrix.png\")\n",
    "    mlflow.log_artifact(\"confusion_matrix.png\")\n",
    "\n",
    "    # End the run\n",
    "    mlflow.end_run()\n"
   ]
  },
  {
   "cell_type": "code",
   "execution_count": 0,
   "metadata": {
    "application/vnd.databricks.v1+cell": {
     "cellMetadata": {
      "byteLimit": 2048000,
      "rowLimit": 10000
     },
     "inputWidgets": {},
     "nuid": "39985ccd-f4a9-438d-abfb-7500b7006114",
     "showTitle": false,
     "title": ""
    }
   },
   "outputs": [
    {
     "output_type": "stream",
     "name": "stderr",
     "output_type": "stream",
     "text": [
      "2024/04/16 07:54:05 WARNING mlflow.models.model: Model logged without a signature. Signatures will be required for upcoming model registry features as they validate model inputs and denote the expected schema of model outputs. Please visit https://www.mlflow.org/docs/2.11.3/models.html#set-signature-on-logged-model for instructions on setting a model signature on your logged model.\n"
     ]
    },
    {
     "output_type": "display_data",
     "data": {
      "image/png": "[encoded data removed]"
     },
     "metadata": {
      "application/vnd.databricks.v1+output": {
       "addedWidgets": {},
       "arguments": {},
       "data": "data:image/png;base64,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\n",
       "datasetInfos": [],
       "metadata": {},
       "removedWidgets": [],
       "type": "image"
      }
     },
     "output_type": "display_data"
    }
   ],
   "source": [
    "import mlflow\n",
    "from mlflow import sklearn\n",
    "import matplotlib.pyplot as plt\n",
    "import seaborn as sn\n",
    "from sklearn.metrics import accuracy_score, precision_score, recall_score, f1_score, confusion_matrix\n",
    "\n",
    "with mlflow.start_run():\n",
    "    # Log parameters (if any)\n",
    "    mlflow.log_param(\"num_trees\", 100)  # Example parameter\n",
    "\n",
    "    # Fit the model\n",
    "    trained_pipeline = naive_bayes_pipeline.fit(resampled_dataframe.drop('Churn', axis=1), resampled_dataframe['Churn'])\n",
    "    \n",
    "    # Preprocess the test data using the testing pipeline\n",
    "    X_test_preprocessed = test_pipeline.transform(test_df)\n",
    "\n",
    "    # Assuming 'output_column_names' are the names of your processed features\n",
    "    X_test_preprocessed_df = pd.DataFrame(X_test_preprocessed, columns=output_column_names)\n",
    "\n",
    "    # Log the model\n",
    "    mlflow.sklearn.log_model(trained_pipeline, \"random_forest_classifier\")\n",
    "    \n",
    "    # Make predictions\n",
    "    y_pred = trained_pipeline.predict(X_test_preprocessed_df)\n",
    "    \n",
    "    # Create a Series from the predictions, using `test_df.index` to align with the original DataFrame\n",
    "    predictions_series = pd.Series(y_pred, index=test_df.index, name='Predictions')\n",
    "\n",
    "    # Concatenate the predictions with the original DataFrame\n",
    "    result_df = pd.concat([test_df, predictions_series], axis=1)\n",
    "\n",
    "    # True target values\n",
    "    true_targets = prediction_df['predicted_probability'] \n",
    "\n",
    "    # Predicted values from the model\n",
    "    predicted_targets = result_df['Predictions']\n",
    "    \n",
    "    # Calculate metrics\n",
    "    accuracy = accuracy_score(true_targets, predicted_targets)\n",
    "    precision = precision_score(true_targets, predicted_targets)\n",
    "    recall = recall_score(true_targets, predicted_targets)\n",
    "    f1 = f1_score(true_targets, predicted_targets)\n",
    "    conf_matrix = confusion_matrix(true_targets, predicted_targets)\n",
    "    \n",
    "    # Log metrics\n",
    "    mlflow.log_metric(\"accuracy\", accuracy)\n",
    "    mlflow.log_metric(\"precision\", precision)\n",
    "    mlflow.log_metric(\"recall\", recall)\n",
    "    mlflow.log_metric(\"f1_score\", f1)\n",
    "    \n",
    "\n",
    "    plt.figure(figsize=(10,7))\n",
    "    sn.heatmap(conf_matrix, annot=True)\n",
    "    plt.savefig(\"confusion_matrix.png\")\n",
    "    mlflow.log_artifact(\"confusion_matrix.png\")\n",
    "\n",
    "    # End the run\n",
    "    mlflow.end_run()\n"
   ]
  },
  {
   "cell_type": "code",
   "execution_count": 0,
   "metadata": {
    "application/vnd.databricks.v1+cell": {
     "cellMetadata": {
      "byteLimit": 2048000,
      "rowLimit": 10000
     },
     "inputWidgets": {},
     "nuid": "c037e13f-9d5c-4d58-959e-283d185cbda3",
     "showTitle": false,
     "title": ""
    }
   },
   "outputs": [
    {
     "output_type": "stream",
     "name": "stderr",
     "output_type": "stream",
     "text": [
      "2024/04/16 07:54:23 WARNING mlflow.models.model: Model logged without a signature. Signatures will be required for upcoming model registry features as they validate model inputs and denote the expected schema of model outputs. Please visit https://www.mlflow.org/docs/2.11.3/models.html#set-signature-on-logged-model for instructions on setting a model signature on your logged model.\n"
     ]
    },
    {
     "output_type": "display_data",
     "data": {
      "image/png": "[encoded data removed]"
     },
     "metadata": {
      "application/vnd.databricks.v1+output": {
       "addedWidgets": {},
       "arguments": {},
       "data": "data:image/png;base64,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\n",
       "datasetInfos": [],
       "metadata": {},
       "removedWidgets": [],
       "type": "image"
      }
     },
     "output_type": "display_data"
    }
   ],
   "source": [
    "import mlflow\n",
    "from mlflow import sklearn\n",
    "import matplotlib.pyplot as plt\n",
    "import seaborn as sn\n",
    "from sklearn.metrics import accuracy_score, precision_score, recall_score, f1_score, confusion_matrix\n",
    "\n",
    "with mlflow.start_run():\n",
    "    # Log parameters (if any)\n",
    "    mlflow.log_param(\"num_trees\", 100)  # Example parameter\n",
    "\n",
    "    # Fit the model\n",
    "    trained_pipeline = decision_tree_pipeline.fit(resampled_dataframe.drop('Churn', axis=1), resampled_dataframe['Churn'])\n",
    "    \n",
    "    # Preprocess the test data using the testing pipeline\n",
    "    X_test_preprocessed = test_pipeline.transform(test_df)\n",
    "\n",
    "    # Assuming 'output_column_names' are the names of your processed features\n",
    "    X_test_preprocessed_df = pd.DataFrame(X_test_preprocessed, columns=output_column_names)\n",
    "\n",
    "    # Log the model\n",
    "    mlflow.sklearn.log_model(trained_pipeline, \"random_forest_classifier\")\n",
    "    \n",
    "    # Make predictions\n",
    "    y_pred = trained_pipeline.predict(X_test_preprocessed_df)\n",
    "    \n",
    "    # Create a Series from the predictions, using `test_df.index` to align with the original DataFrame\n",
    "    predictions_series = pd.Series(y_pred, index=test_df.index, name='Predictions')\n",
    "\n",
    "    # Concatenate the predictions with the original DataFrame\n",
    "    result_df = pd.concat([test_df, predictions_series], axis=1)\n",
    "\n",
    "    # True target values\n",
    "    true_targets = prediction_df['predicted_probability'] \n",
    "\n",
    "    # Predicted values from the model\n",
    "    predicted_targets = result_df['Predictions']\n",
    "    \n",
    "    # Calculate metrics\n",
    "    accuracy = accuracy_score(true_targets, predicted_targets)\n",
    "    precision = precision_score(true_targets, predicted_targets)\n",
    "    recall = recall_score(true_targets, predicted_targets)\n",
    "    f1 = f1_score(true_targets, predicted_targets)\n",
    "    conf_matrix = confusion_matrix(true_targets, predicted_targets)\n",
    "    \n",
    "    # Log metrics\n",
    "    mlflow.log_metric(\"accuracy\", accuracy)\n",
    "    mlflow.log_metric(\"precision\", precision)\n",
    "    mlflow.log_metric(\"recall\", recall)\n",
    "    mlflow.log_metric(\"f1_score\", f1)\n",
    "    \n",
    "\n",
    "    plt.figure(figsize=(10,7))\n",
    "    sn.heatmap(conf_matrix, annot=True)\n",
    "    plt.savefig(\"confusion_matrix.png\")\n",
    "    mlflow.log_artifact(\"confusion_matrix.png\")\n",
    "\n",
    "    # End the run\n",
    "    mlflow.end_run()\n"
   ]
  },
  {
   "cell_type": "code",
   "execution_count": 0,
   "metadata": {
    "application/vnd.databricks.v1+cell": {
     "cellMetadata": {
      "byteLimit": 2048000,
      "rowLimit": 10000
     },
     "inputWidgets": {},
     "nuid": "7d59f13e-73ad-47fb-8a45-b164b47bffce",
     "showTitle": false,
     "title": ""
    }
   },
   "outputs": [
    {
     "output_type": "stream",
     "name": "stderr",
     "output_type": "stream",
     "text": [
      "2024/04/16 07:58:39 WARNING mlflow.models.model: Model logged without a signature. Signatures will be required for upcoming model registry features as they validate model inputs and denote the expected schema of model outputs. Please visit https://www.mlflow.org/docs/2.11.3/models.html#set-signature-on-logged-model for instructions on setting a model signature on your logged model.\n"
     ]
    },
    {
     "output_type": "display_data",
     "data": {
      "image/png": "[encoded data removed]"
     },
     "metadata": {
      "application/vnd.databricks.v1+output": {
       "addedWidgets": {},
       "arguments": {},
       "data": "data:image/png;base64,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\n",
       "datasetInfos": [],
       "metadata": {},
       "removedWidgets": [],
       "type": "image"
      }
     },
     "output_type": "display_data"
    }
   ],
   "source": [
    "import mlflow\n",
    "from mlflow import sklearn\n",
    "import matplotlib.pyplot as plt\n",
    "import seaborn as sn\n",
    "from sklearn.metrics import accuracy_score, precision_score, recall_score, f1_score, confusion_matrix\n",
    "\n",
    "with mlflow.start_run():\n",
    "    # Log parameters (if any)\n",
    "    mlflow.log_param(\"num_trees\", 100)  # Example parameter\n",
    "\n",
    "    # Fit the model\n",
    "    trained_pipeline = gbm_pipeline.fit(resampled_dataframe.drop('Churn', axis=1), resampled_dataframe['Churn'])\n",
    "    \n",
    "    # Preprocess the test data using the testing pipeline\n",
    "    X_test_preprocessed = test_pipeline.transform(test_df)\n",
    "\n",
    "    # Assuming 'output_column_names' are the names of your processed features\n",
    "    X_test_preprocessed_df = pd.DataFrame(X_test_preprocessed, columns=output_column_names)\n",
    "\n",
    "    # Log the model\n",
    "    mlflow.sklearn.log_model(trained_pipeline, \"random_forest_classifier\")\n",
    "    \n",
    "    # Make predictions\n",
    "    y_pred = trained_pipeline.predict(X_test_preprocessed_df)\n",
    "    \n",
    "    # Create a Series from the predictions, using `test_df.index` to align with the original DataFrame\n",
    "    predictions_series = pd.Series(y_pred, index=test_df.index, name='Predictions')\n",
    "\n",
    "    # Concatenate the predictions with the original DataFrame\n",
    "    result_df = pd.concat([test_df, predictions_series], axis=1)\n",
    "\n",
    "    # True target values\n",
    "    true_targets = prediction_df['predicted_probability'] \n",
    "\n",
    "    # Predicted values from the model\n",
    "    predicted_targets = result_df['Predictions']\n",
    "    \n",
    "    # Calculate metrics\n",
    "    accuracy = accuracy_score(true_targets, predicted_targets)\n",
    "    precision = precision_score(true_targets, predicted_targets)\n",
    "    recall = recall_score(true_targets, predicted_targets)\n",
    "    f1 = f1_score(true_targets, predicted_targets)\n",
    "    conf_matrix = confusion_matrix(true_targets, predicted_targets)\n",
    "    \n",
    "    # Log metrics\n",
    "    mlflow.log_metric(\"accuracy\", accuracy)\n",
    "    mlflow.log_metric(\"precision\", precision)\n",
    "    mlflow.log_metric(\"recall\", recall)\n",
    "    mlflow.log_metric(\"f1_score\", f1)\n",
    "    \n",
    "\n",
    "    plt.figure(figsize=(10,7))\n",
    "    sn.heatmap(conf_matrix, annot=True)\n",
    "    plt.savefig(\"confusion_matrix.png\")\n",
    "    mlflow.log_artifact(\"confusion_matrix.png\")\n",
    "\n",
    "    # End the run\n",
    "    mlflow.end_run()\n"
   ]
  },
  {
   "cell_type": "code",
   "execution_count": 0,
   "metadata": {
    "application/vnd.databricks.v1+cell": {
     "cellMetadata": {
      "byteLimit": 2048000,
      "rowLimit": 10000
     },
     "inputWidgets": {},
     "nuid": "ff02fd19-aa22-4bbc-81a1-40df6316473c",
     "showTitle": false,
     "title": ""
    }
   },
   "outputs": [
    {
     "output_type": "stream",
     "name": "stdout",
     "output_type": "stream",
     "text": [
      "[LightGBM] [Info] Number of positive: 192261, number of negative: 199605\n[LightGBM] [Info] Auto-choosing row-wise multi-threading, the overhead of testing was 0.118168 seconds.\nYou can set `force_row_wise=true` to remove the overhead.\nAnd if memory is not enough, you can set `force_col_wise=true`.\n[LightGBM] [Info] Total Bins 9180\n[LightGBM] [Info] Number of data points in the train set: 391866, number of used features: 36\n[LightGBM] [Info] [binary:BoostFromScore]: pavg=0.490629 -> initscore=-0.037487\n[LightGBM] [Info] Start training from score -0.037487\n"
     ]
    },
    {
     "output_type": "stream",
     "name": "stderr",
     "output_type": "stream",
     "text": [
      "2024/04/16 07:58:54 WARNING mlflow.models.model: Model logged without a signature. Signatures will be required for upcoming model registry features as they validate model inputs and denote the expected schema of model outputs. Please visit https://www.mlflow.org/docs/2.11.3/models.html#set-signature-on-logged-model for instructions on setting a model signature on your logged model.\n"
     ]
    },
    {
     "output_type": "display_data",
     "data": {
      "image/png": "[encoded data removed]"
     },
     "metadata": {
      "application/vnd.databricks.v1+output": {
       "addedWidgets": {},
       "arguments": {},
       "data": "data:image/png;base64,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\n",
       "datasetInfos": [],
       "metadata": {},
       "removedWidgets": [],
       "type": "image"
      }
     },
     "output_type": "display_data"
    }
   ],
   "source": [
    "import mlflow\n",
    "from mlflow import sklearn\n",
    "import matplotlib.pyplot as plt\n",
    "import seaborn as sn\n",
    "from sklearn.metrics import accuracy_score, precision_score, recall_score, f1_score, confusion_matrix\n",
    "\n",
    "with mlflow.start_run():\n",
    "    # Log parameters (if any)\n",
    "    mlflow.log_param(\"num_trees\", 100)  # Example parameter\n",
    "\n",
    "    # Fit the model\n",
    "    trained_pipeline = lightgbm_pipeline.fit(resampled_dataframe.drop('Churn', axis=1), resampled_dataframe['Churn'])\n",
    "    \n",
    "    # Preprocess the test data using the testing pipeline\n",
    "    X_test_preprocessed = test_pipeline.transform(test_df)\n",
    "\n",
    "    # Assuming 'output_column_names' are the names of your processed features\n",
    "    X_test_preprocessed_df = pd.DataFrame(X_test_preprocessed, columns=output_column_names)\n",
    "\n",
    "    # Log the model\n",
    "    mlflow.sklearn.log_model(trained_pipeline, \"random_forest_classifier\")\n",
    "    \n",
    "    # Make predictions\n",
    "    y_pred = trained_pipeline.predict(X_test_preprocessed_df)\n",
    "    \n",
    "    # Create a Series from the predictions, using `test_df.index` to align with the original DataFrame\n",
    "    predictions_series = pd.Series(y_pred, index=test_df.index, name='Predictions')\n",
    "\n",
    "    # Concatenate the predictions with the original DataFrame\n",
    "    result_df = pd.concat([test_df, predictions_series], axis=1)\n",
    "\n",
    "    # True target values\n",
    "    true_targets = prediction_df['predicted_probability'] \n",
    "\n",
    "    # Predicted values from the model\n",
    "    predicted_targets = result_df['Predictions']\n",
    "    \n",
    "    # Calculate metrics\n",
    "    accuracy = accuracy_score(true_targets, predicted_targets)\n",
    "    precision = precision_score(true_targets, predicted_targets)\n",
    "    recall = recall_score(true_targets, predicted_targets)\n",
    "    f1 = f1_score(true_targets, predicted_targets)\n",
    "    conf_matrix = confusion_matrix(true_targets, predicted_targets)\n",
    "    \n",
    "    # Log metrics\n",
    "    mlflow.log_metric(\"accuracy\", accuracy)\n",
    "    mlflow.log_metric(\"precision\", precision)\n",
    "    mlflow.log_metric(\"recall\", recall)\n",
    "    mlflow.log_metric(\"f1_score\", f1)\n",
    "    \n",
    "\n",
    "    plt.figure(figsize=(10,7))\n",
    "    sn.heatmap(conf_matrix, annot=True)\n",
    "    plt.savefig(\"confusion_matrix.png\")\n",
    "    mlflow.log_artifact(\"confusion_matrix.png\")\n",
    "\n",
    "    # End the run\n",
    "    mlflow.end_run()\n"
   ]
  },
  {
   "cell_type": "code",
   "execution_count": 0,
   "metadata": {
    "application/vnd.databricks.v1+cell": {
     "cellMetadata": {
      "byteLimit": 2048000,
      "rowLimit": 10000
     },
     "inputWidgets": {},
     "nuid": "f524dd04-cc7e-4342-a213-9a6a05401f3f",
     "showTitle": false,
     "title": ""
    }
   },
   "outputs": [
    {
     "output_type": "stream",
     "name": "stderr",
     "output_type": "stream",
     "text": [
      "2024/04/16 07:59:15 WARNING mlflow.models.model: Model logged without a signature. Signatures will be required for upcoming model registry features as they validate model inputs and denote the expected schema of model outputs. Please visit https://www.mlflow.org/docs/2.11.3/models.html#set-signature-on-logged-model for instructions on setting a model signature on your logged model.\n"
     ]
    },
    {
     "output_type": "display_data",
     "data": {
      "image/png": "[encoded data removed]"
     },
     "metadata": {
      "application/vnd.databricks.v1+output": {
       "addedWidgets": {},
       "arguments": {},
       "data": "data:image/png;base64,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\n",
       "datasetInfos": [],
       "metadata": {},
       "removedWidgets": [],
       "type": "image"
      }
     },
     "output_type": "display_data"
    }
   ],
   "source": [
    "import mlflow\n",
    "from mlflow import sklearn\n",
    "import matplotlib.pyplot as plt\n",
    "import seaborn as sn\n",
    "from sklearn.metrics import accuracy_score, precision_score, recall_score, f1_score, confusion_matrix\n",
    "\n",
    "with mlflow.start_run():\n",
    "    # Log parameters (if any)\n",
    "    mlflow.log_param(\"num_trees\", 100)  # Example parameter\n",
    "\n",
    "    # Fit the model\n",
    "    trained_pipeline = xgboost_pipeline.fit(resampled_dataframe.drop('Churn', axis=1), resampled_dataframe['Churn'])\n",
    "    \n",
    "    # Preprocess the test data using the testing pipeline\n",
    "    X_test_preprocessed = test_pipeline.transform(test_df)\n",
    "\n",
    "    # Assuming 'output_column_names' are the names of your processed features\n",
    "    X_test_preprocessed_df = pd.DataFrame(X_test_preprocessed, columns=output_column_names)\n",
    "\n",
    "    # Log the model\n",
    "    mlflow.sklearn.log_model(trained_pipeline, \"random_forest_classifier\")\n",
    "    \n",
    "    # Make predictions\n",
    "    y_pred = trained_pipeline.predict(X_test_preprocessed_df)\n",
    "    \n",
    "    # Create a Series from the predictions, using `test_df.index` to align with the original DataFrame\n",
    "    predictions_series = pd.Series(y_pred, index=test_df.index, name='Predictions')\n",
    "\n",
    "    # Concatenate the predictions with the original DataFrame\n",
    "    result_df = pd.concat([test_df, predictions_series], axis=1)\n",
    "\n",
    "    # True target values\n",
    "    true_targets = prediction_df['predicted_probability'] \n",
    "\n",
    "    # Predicted values from the model\n",
    "    predicted_targets = result_df['Predictions']\n",
    "    \n",
    "    # Calculate metrics\n",
    "    accuracy = accuracy_score(true_targets, predicted_targets)\n",
    "    precision = precision_score(true_targets, predicted_targets)\n",
    "    recall = recall_score(true_targets, predicted_targets)\n",
    "    f1 = f1_score(true_targets, predicted_targets)\n",
    "    conf_matrix = confusion_matrix(true_targets, predicted_targets)\n",
    "    \n",
    "    # Log metrics\n",
    "    mlflow.log_metric(\"accuracy\", accuracy)\n",
    "    mlflow.log_metric(\"precision\", precision)\n",
    "    mlflow.log_metric(\"recall\", recall)\n",
    "    mlflow.log_metric(\"f1_score\", f1)\n",
    "    \n",
    "\n",
    "    plt.figure(figsize=(10,7))\n",
    "    sn.heatmap(conf_matrix, annot=True)\n",
    "    plt.savefig(\"confusion_matrix.png\")\n",
    "    mlflow.log_artifact(\"confusion_matrix.png\")\n",
    "\n",
    "    # End the run\n",
    "    mlflow.end_run()\n"
   ]
  },
  {
   "cell_type": "code",
   "execution_count": 0,
   "metadata": {
    "application/vnd.databricks.v1+cell": {
     "cellMetadata": {
      "byteLimit": 2048000,
      "rowLimit": 10000
     },
     "inputWidgets": {},
     "nuid": "3395db8e-50b7-465d-af99-1c1ee080c356",
     "showTitle": false,
     "title": ""
    }
   },
   "outputs": [
    {
     "output_type": "stream",
     "name": "stderr",
     "output_type": "stream",
     "text": [
      "2024/04/16 08:01:41 WARNING mlflow.models.model: Model logged without a signature. Signatures will be required for upcoming model registry features as they validate model inputs and denote the expected schema of model outputs. Please visit https://www.mlflow.org/docs/2.11.3/models.html#set-signature-on-logged-model for instructions on setting a model signature on your logged model.\n"
     ]
    },
    {
     "output_type": "display_data",
     "data": {
      "image/png": "[encoded data removed]"
     },
     "metadata": {
      "application/vnd.databricks.v1+output": {
       "addedWidgets": {},
       "arguments": {},
       "data": "data:image/png;base64,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\n",
       "datasetInfos": [],
       "metadata": {},
       "removedWidgets": [],
       "type": "image"
      }
     },
     "output_type": "display_data"
    }
   ],
   "source": [
    "import mlflow\n",
    "from mlflow import sklearn\n",
    "import matplotlib.pyplot as plt\n",
    "import seaborn as sn\n",
    "from sklearn.metrics import accuracy_score, precision_score, recall_score, f1_score, confusion_matrix\n",
    "\n",
    "with mlflow.start_run():\n",
    "    # Log parameters (if any)\n",
    "    mlflow.log_param(\"num_trees\", 100)  # Example parameter\n",
    "\n",
    "    # Fit the model\n",
    "    trained_pipeline = catboost_pipeline.fit(resampled_dataframe.drop('Churn', axis=1), resampled_dataframe['Churn'])\n",
    "    \n",
    "    # Preprocess the test data using the testing pipeline\n",
    "    X_test_preprocessed = test_pipeline.transform(test_df)\n",
    "\n",
    "    # Assuming 'output_column_names' are the names of your processed features\n",
    "    X_test_preprocessed_df = pd.DataFrame(X_test_preprocessed, columns=output_column_names)\n",
    "\n",
    "    # Log the model\n",
    "    mlflow.sklearn.log_model(trained_pipeline, \"random_forest_classifier\")\n",
    "    \n",
    "    # Make predictions\n",
    "    y_pred = trained_pipeline.predict(X_test_preprocessed_df)\n",
    "    \n",
    "    # Create a Series from the predictions, using `test_df.index` to align with the original DataFrame\n",
    "    predictions_series = pd.Series(y_pred, index=test_df.index, name='Predictions')\n",
    "\n",
    "    # Concatenate the predictions with the original DataFrame\n",
    "    result_df = pd.concat([test_df, predictions_series], axis=1)\n",
    "\n",
    "    # True target values\n",
    "    true_targets = prediction_df['predicted_probability'] \n",
    "\n",
    "    # Predicted values from the model\n",
    "    predicted_targets = result_df['Predictions']\n",
    "    \n",
    "    # Calculate metrics\n",
    "    accuracy = accuracy_score(true_targets, predicted_targets)\n",
    "    precision = precision_score(true_targets, predicted_targets)\n",
    "    recall = recall_score(true_targets, predicted_targets)\n",
    "    f1 = f1_score(true_targets, predicted_targets)\n",
    "    conf_matrix = confusion_matrix(true_targets, predicted_targets)\n",
    "    \n",
    "    # Log metrics\n",
    "    mlflow.log_metric(\"accuracy\", accuracy)\n",
    "    mlflow.log_metric(\"precision\", precision)\n",
    "    mlflow.log_metric(\"recall\", recall)\n",
    "    mlflow.log_metric(\"f1_score\", f1)\n",
    "    \n",
    "\n",
    "    plt.figure(figsize=(10,7))\n",
    "    sn.heatmap(conf_matrix, annot=True)\n",
    "    plt.savefig(\"confusion_matrix.png\")\n",
    "    mlflow.log_artifact(\"confusion_matrix.png\")\n",
    "\n",
    "    # End the run\n",
    "    mlflow.end_run()\n"
   ]
  },
  {
   "cell_type": "code",
   "execution_count": 0,
   "metadata": {
    "application/vnd.databricks.v1+cell": {
     "cellMetadata": {
      "byteLimit": 2048000,
      "rowLimit": 10000
     },
     "inputWidgets": {},
     "nuid": "3579cb39-1358-44bb-8dda-22400ccfdbb4",
     "showTitle": false,
     "title": ""
    }
   },
   "outputs": [
    {
     "output_type": "stream",
     "name": "stderr",
     "output_type": "stream",
     "text": [
      "/databricks/python/lib/python3.9/site-packages/sklearn/neural_network/_multilayer_perceptron.py:692: ConvergenceWarning: Stochastic Optimizer: Maximum iterations (200) reached and the optimization hasn't converged yet.\n  warnings.warn(\n2024/04/16 08:16:52 WARNING mlflow.models.model: Model logged without a signature. Signatures will be required for upcoming model registry features as they validate model inputs and denote the expected schema of model outputs. Please visit https://www.mlflow.org/docs/2.11.3/models.html#set-signature-on-logged-model for instructions on setting a model signature on your logged model.\n"
     ]
    },
    {
     "output_type": "display_data",
     "data": {
      "image/png": "[encoded data removed]"
     },
     "metadata": {
      "application/vnd.databricks.v1+output": {
       "addedWidgets": {},
       "arguments": {},
       "data": "data:image/png;base64,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\n",
       "datasetInfos": [],
       "metadata": {},
       "removedWidgets": [],
       "type": "image"
      }
     },
     "output_type": "display_data"
    }
   ],
   "source": [
    "import mlflow\n",
    "from mlflow import sklearn\n",
    "import matplotlib.pyplot as plt\n",
    "import seaborn as sn\n",
    "from sklearn.metrics import accuracy_score, precision_score, recall_score, f1_score, confusion_matrix\n",
    "\n",
    "with mlflow.start_run():\n",
    "    # Log parameters (if any)\n",
    "    mlflow.log_param(\"num_trees\", 100)  # Example parameter\n",
    "\n",
    "    # Fit the model\n",
    "    trained_pipeline = neural_network_pipeline.fit(resampled_dataframe.drop('Churn', axis=1), resampled_dataframe['Churn'])\n",
    "    \n",
    "    # Preprocess the test data using the testing pipeline\n",
    "    X_test_preprocessed = test_pipeline.transform(test_df)\n",
    "\n",
    "    # Assuming 'output_column_names' are the names of your processed features\n",
    "    X_test_preprocessed_df = pd.DataFrame(X_test_preprocessed, columns=output_column_names)\n",
    "\n",
    "    # Log the model\n",
    "    mlflow.sklearn.log_model(trained_pipeline, \"random_forest_classifier\")\n",
    "    \n",
    "    # Make predictions\n",
    "    y_pred = trained_pipeline.predict(X_test_preprocessed_df)\n",
    "    \n",
    "    # Create a Series from the predictions, using `test_df.index` to align with the original DataFrame\n",
    "    predictions_series = pd.Series(y_pred, index=test_df.index, name='Predictions')\n",
    "\n",
    "    # Concatenate the predictions with the original DataFrame\n",
    "    result_df = pd.concat([test_df, predictions_series], axis=1)\n",
    "\n",
    "    # True target values\n",
    "    true_targets = prediction_df['predicted_probability'] \n",
    "\n",
    "    # Predicted values from the model\n",
    "    predicted_targets = result_df['Predictions']\n",
    "    \n",
    "    # Calculate metrics\n",
    "    accuracy = accuracy_score(true_targets, predicted_targets)\n",
    "    precision = precision_score(true_targets, predicted_targets)\n",
    "    recall = recall_score(true_targets, predicted_targets)\n",
    "    f1 = f1_score(true_targets, predicted_targets)\n",
    "    conf_matrix = confusion_matrix(true_targets, predicted_targets)\n",
    "    \n",
    "    # Log metrics\n",
    "    mlflow.log_metric(\"accuracy\", accuracy)\n",
    "    mlflow.log_metric(\"precision\", precision)\n",
    "    mlflow.log_metric(\"recall\", recall)\n",
    "    mlflow.log_metric(\"f1_score\", f1)\n",
    "    \n",
    "\n",
    "    plt.figure(figsize=(10,7))\n",
    "    sn.heatmap(conf_matrix, annot=True)\n",
    "    plt.savefig(\"confusion_matrix.png\")\n",
    "    mlflow.log_artifact(\"confusion_matrix.png\")\n",
    "\n",
    "    # End the run\n",
    "    mlflow.end_run()\n"
   ]
  }
 ],
 "metadata": {
  "application/vnd.databricks.v1+notebook": {
   "dashboards": [],
   "language": "python",
   "notebookMetadata": {
    "pythonIndentUnit": 4
   },
   "notebookName": "Refined-Churn-Pipeline",
   "widgets": {}
  },
  "kaggle": {
   "accelerator": "none",
   "dataSources": [
    {
     "datasetId": 3885186,
     "sourceId": 6747835,
     "sourceType": "datasetVersion"
    }
   ],
   "dockerImageVersionId": 30673,
   "isGpuEnabled": false,
   "isInternetEnabled": true,
   "language": "python",
   "sourceType": "notebook"
  },
  "kernelspec": {
   "display_name": "Python 3",
   "language": "python",
   "name": "python3"
  },
  "language_info": {
   "codemirror_mode": {
    "name": "ipython",
    "version": 3
   },
   "file_extension": ".py",
   "mimetype": "text/x-python",
   "name": "python",
   "nbconvert_exporter": "python",
   "pygments_lexer": "ipython3",
   "version": "3.10.13"
  }
 },
 "nbformat": 4,
 "nbformat_minor": 0
}
